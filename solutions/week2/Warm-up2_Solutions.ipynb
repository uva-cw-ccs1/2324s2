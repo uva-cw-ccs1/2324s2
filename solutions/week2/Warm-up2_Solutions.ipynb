{
 "cells": [
  {
   "cell_type": "markdown",
   "metadata": {},
   "source": [
    "# Warm-up excercises week 2\n",
    "\n",
    "\n",
    "Now that you have some expereince with for loops and control flow in Python, it's time for you to combine and apply this knowledge. To prepare for the tutorial, complete the following two warm-up exercises. \n",
    "\n",
    "Some important notes for the excercises:\n",
    "\n",
    "* These excercises are a warming up meant to help you get ready for class. Make sure to give them a try on all of them. If you get an error message, try to troubleshoot it (using Google often helps). If all else fails, go to the next excercise (but make sure to hand it in).\n",
    "* While we of course like when you get all the answers right, the important thing is to exercise and apply the knowledge. So we will still accept solutions that may not be complete, as long as we see enough effort for each excercise.\n",
    "* Delivering the warm-up excercises on time is critical, as it helps also prepare for the tutorial session. info on handing-in\n",
    "* As these excercises are meant to help you participate in the tutorial and us to make sure you can get as much as possible from the tutorials, we do not expect perfect answers. However, this is important to show the effort you have put in the excercises and what obstacles you faced."
   ]
  },
  {
   "cell_type": "markdown",
   "metadata": {},
   "source": [
    "# Exercise 1\n",
    "The dictionary below contains information how many pages a user visited on a website. Loop over this dictionary and print only heavy users who visited at least 5 pages."
   ]
  },
  {
   "cell_type": "code",
   "execution_count": 1,
   "metadata": {},
   "outputs": [],
   "source": [
    "users = {\"user1\" : 4, \"user2\" : 7, \"user3\": 3, \"user4\": 8, \"user5\": 1, \"user6\": 5, \"user7\": 4, \"user8\" : 9, \"user10\" : 11}"
   ]
  },
  {
   "cell_type": "code",
   "execution_count": 2,
   "metadata": {},
   "outputs": [
    {
     "name": "stdout",
     "output_type": "stream",
     "text": [
      "user2\n",
      "user4\n",
      "user6\n",
      "user8\n",
      "user10\n"
     ]
    }
   ],
   "source": [
    "for user,pages in users.items():\n",
    "    if pages >=5:\n",
    "        print(user)"
   ]
  },
  {
   "cell_type": "markdown",
   "metadata": {},
   "source": [
    "To access each key-value pair (which I refer by `user` and `pages`), I loop over the dictionary and use the method `.items`. Then, for each pair, I can check if `pages` (the value) is equal to or larger than 5. If that is the case I print `user` (the key.)"
   ]
  },
  {
   "cell_type": "markdown",
   "metadata": {},
   "source": [
    "# Exercise 2 \n",
    "\n",
    "Write a for-loop to iterate through each element of the list word_length so that you can create a shorter list which only contains words shorter than 8 characters. *Hint: you will need to make use of the len() function to determine the string length.* "
   ]
  },
  {
   "cell_type": "code",
   "execution_count": 3,
   "metadata": {},
   "outputs": [],
   "source": [
    "word_length = [\"python\", \"is\", \"my\", \"favourite\", \"programming\", \"language\", \"!\"]"
   ]
  },
  {
   "cell_type": "code",
   "execution_count": 4,
   "metadata": {},
   "outputs": [
    {
     "name": "stdout",
     "output_type": "stream",
     "text": [
      "['python', 'is', 'my', '!']\n"
     ]
    }
   ],
   "source": [
    "short_words = []\n",
    "\n",
    "for word in word_length:\n",
    "    if len(word) < 8:\n",
    "        short_words.append(word)\n",
    "    else:\n",
    "        pass\n",
    "print(short_words)"
   ]
  },
  {
   "cell_type": "markdown",
   "metadata": {},
   "source": [
    "I start with creating an empty list that I will fill with short words. To access every word in the list `word_lenth`, I loop over it. To do so, I use `word` to refer to every element of the list. Then, for every element of the list I use the function `len` to check the length of each word (string). If the length is shorter than 8, the word gets appended to the new list. Otherwise, the word is passed."
   ]
  }
 ],
 "metadata": {
  "interpreter": {
   "hash": "aee8b7b246df8f9039afb4144a1f6fd8d2ca17a180786b69acc140d282b71a49"
  },
  "kernelspec": {
   "display_name": "Python 3.9.1 64-bit",
   "language": "python",
   "name": "python3"
  },
  "language_info": {
   "codemirror_mode": {
    "name": "ipython",
    "version": 3
   },
   "file_extension": ".py",
   "mimetype": "text/x-python",
   "name": "python",
   "nbconvert_exporter": "python",
   "pygments_lexer": "ipython3",
   "version": "3.9.1"
  }
 },
 "nbformat": 4,
 "nbformat_minor": 4
}
