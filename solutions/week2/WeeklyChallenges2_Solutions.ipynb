{
 "cells": [
  {
   "cell_type": "markdown",
   "metadata": {},
   "source": [
    "# Challenges Week 2\n",
    "\n",
    "Now that you have some expereince with for loops and control flow in Python, it's time for you to combine and apply this week's knowledge. You will start working on these challenges in the tutorial and will be asked to complete them by the end of the week.\n",
    "\n",
    "In each challange, you are asked to provide the programing solution to it as well as a technical interpretation explaining the steps taken and the result.\n",
    "\n",
    "Some important notes for the challenges:\n",
    "\n",
    "* If you get an error message, try to troubleshoot it (using Google often helps). If all else fails, go to the next excercise (but make sure to hand it in).\n",
    "* We will make sure to provide feedback and improvement suggestions in the rubric. Make sure to read them; they will help you improve next week."
   ]
  },
  {
   "cell_type": "markdown",
   "metadata": {},
   "source": [
    "# Challenge 1\n",
    "\n",
    "* Using the lists fruit and colors, print out each possible combination of fruit and color. \n",
    "\n",
    "* Use conditional operators to construct a for loop that populates the list real_fruit with all real combinations of color and ripe fruit, e.g. yellow banana. \n",
    "\n",
    "* Write a for loop that separately prints each letter of each word in the list fruit. \n",
    "\n",
    "For each question, provide the necessary code and a short explanation of the choices you made."
   ]
  },
  {
   "cell_type": "code",
   "execution_count": 2,
   "metadata": {},
   "outputs": [],
   "source": [
    "fruit = ['banana', 'orange', 'apple', 'kiwi']\n",
    "colors = ['red', 'orange', 'yellow', 'green']\n",
    "real_fruit = []"
   ]
  },
  {
   "cell_type": "code",
   "execution_count": 2,
   "metadata": {},
   "outputs": [
    {
     "name": "stdout",
     "output_type": "stream",
     "text": [
      "red banana\n",
      "red orange\n",
      "red apple\n",
      "red kiwi\n",
      "orange banana\n",
      "orange orange\n",
      "orange apple\n",
      "orange kiwi\n",
      "yellow banana\n",
      "yellow orange\n",
      "yellow apple\n",
      "yellow kiwi\n",
      "green banana\n",
      "green orange\n",
      "green apple\n",
      "green kiwi\n"
     ]
    }
   ],
   "source": [
    "#Q1\n",
    "for c in colors:\n",
    "    for f in fruit:\n",
    "        print(c, f)"
   ]
  },
  {
   "cell_type": "markdown",
   "metadata": {},
   "source": [
    "We use a nested loop to loop over both lists. First, we loop over the list `colors` (referring `c` to its elements) and then over the list `fruits` (referring `f` to its elements). This means that the loop starts with the first element of the list colors (red) and for this color, loops over the list fruits. That gives us red combined with all the fruits. Next, the loop moves to the second element of the list colors (orange) and then loops over the fruits list."
   ]
  },
  {
   "cell_type": "code",
   "execution_count": 3,
   "metadata": {},
   "outputs": [
    {
     "name": "stdout",
     "output_type": "stream",
     "text": [
      "['red apple', 'orange orange', 'yellow banana']\n"
     ]
    }
   ],
   "source": [
    "#Q2 \n",
    "\n",
    "real_fruit=[]\n",
    "\n",
    "for c in colors:\n",
    "    for f in fruit:\n",
    "        if c ==\"yellow\" and f==\"banana\":\n",
    "            real_fruit.append(c+\" \"+f)\n",
    "        elif c ==\"red\" and f==\"apple\":\n",
    "            real_fruit.append(c+\" \"+f)\n",
    "        elif c==\"orange\" and f==\"orange\":\n",
    "            real_fruit.append(c+\" \"+f)\n",
    "#etc.\n",
    "print(real_fruit)"
   ]
  },
  {
   "cell_type": "markdown",
   "metadata": {},
   "source": [
    "Here, we also start with a nested loop, making sure we loop over both lists to get all possible combinations of fruits and colors. Then, using conditions, we check when c and f result in a \"real combination\" and only in such a case append this combination to the list `real_fruit`. \n",
    "\n",
    "*Tip* If you get confused in what is exactly going on, try to integrate print statements in your loops to understand what the elements are you are looping over (see below)."
   ]
  },
  {
   "cell_type": "code",
   "execution_count": 4,
   "metadata": {},
   "outputs": [
    {
     "name": "stdout",
     "output_type": "stream",
     "text": [
      "This is color:  red\n",
      "This is fruit:  banana\n",
      "This is color:  red\n",
      "This is fruit:  orange\n",
      "This is color:  red\n",
      "This is fruit:  apple\n",
      "This is color:  red\n",
      "This is fruit:  kiwi\n",
      "This is color:  orange\n",
      "This is fruit:  banana\n",
      "This is color:  orange\n",
      "This is fruit:  orange\n",
      "This is color:  orange\n",
      "This is fruit:  apple\n",
      "This is color:  orange\n",
      "This is fruit:  kiwi\n",
      "This is color:  yellow\n",
      "This is fruit:  banana\n",
      "This is color:  yellow\n",
      "This is fruit:  orange\n",
      "This is color:  yellow\n",
      "This is fruit:  apple\n",
      "This is color:  yellow\n",
      "This is fruit:  kiwi\n",
      "This is color:  green\n",
      "This is fruit:  banana\n",
      "This is color:  green\n",
      "This is fruit:  orange\n",
      "This is color:  green\n",
      "This is fruit:  apple\n",
      "This is color:  green\n",
      "This is fruit:  kiwi\n",
      "['red apple', 'orange orange', 'yellow banana', 'red apple', 'orange orange', 'yellow banana']\n"
     ]
    }
   ],
   "source": [
    "#Q2 \n",
    "real_fruit=[]\n",
    "\n",
    "for c in colors:\n",
    "    for f in fruit:\n",
    "        print(\"This is color: \", c)\n",
    "        print(\"This is fruit: \", f)\n",
    "        if c ==\"yellow\" and f==\"banana\":\n",
    "            real_fruit.append(c+\" \"+f)\n",
    "        elif c ==\"red\" and f==\"apple\":\n",
    "            real_fruit.append(c+\" \"+f)\n",
    "        elif c==\"orange\" and f==\"orange\":\n",
    "            real_fruit.append(c+\" \"+f)\n",
    "#etc.\n",
    "print(real_fruit)"
   ]
  },
  {
   "cell_type": "code",
   "execution_count": 5,
   "metadata": {},
   "outputs": [
    {
     "name": "stdout",
     "output_type": "stream",
     "text": [
      "b\n",
      "a\n",
      "n\n",
      "a\n",
      "n\n",
      "a\n",
      "o\n",
      "r\n",
      "a\n",
      "n\n",
      "g\n",
      "e\n",
      "a\n",
      "p\n",
      "p\n",
      "l\n",
      "e\n",
      "k\n",
      "i\n",
      "w\n",
      "i\n"
     ]
    }
   ],
   "source": [
    "#Q3 \n",
    "for f in fruit:\n",
    "    for letter in f:\n",
    "        print(letter)"
   ]
  },
  {
   "cell_type": "markdown",
   "metadata": {},
   "source": [
    "When we loop over a list, we can access every element of the list. In this case, we first loop over the list `fruits` accessing every element of it one by one. Then we loop over the element. In this case, each element is a string, meaning we loop over each character of the string."
   ]
  },
  {
   "cell_type": "markdown",
   "metadata": {},
   "source": [
    "# Challenge 2\n",
    "\n",
    "The list below shows a number of steps an individual walked a day in a period of one month. \n",
    "* Loop over the list and print only the days when the person walked above average number of steps. Build in a count to find out how many days meet this requirement.\n",
    "\n",
    "* Create three shorter lists:\n",
    "    * List of low number of steps (below 4000),\n",
    "    * List of medium number of steps (between 4000 and 8000)\n",
    "    * List of high number of steps (above 8000) \n",
    "\n",
    "For each question, provide the necessary code and a short explanation of the choices you made."
   ]
  },
  {
   "cell_type": "code",
   "execution_count": 6,
   "metadata": {},
   "outputs": [],
   "source": [
    "stepsaday = [10000, 8000, 6798, 5643, 8753,\n",
    "            3875, 1284, 9462, 7649, 9854, \n",
    "            2457, 6518, 8734, 6598, 2684, \n",
    "            5672, 7842, 6741, 7593, 9854, \n",
    "            5634, 6296, 3683, 8946, 7638,\n",
    "            7452, 6452, 9812, 8732, 8321]"
   ]
  },
  {
   "cell_type": "code",
   "execution_count": 11,
   "metadata": {},
   "outputs": [
    {
     "name": "stdout",
     "output_type": "stream",
     "text": [
      "10000\n",
      "8000\n",
      "8753\n",
      "9462\n",
      "7649\n",
      "9854\n",
      "8734\n",
      "7842\n",
      "7593\n",
      "9854\n",
      "8946\n",
      "7638\n",
      "7452\n",
      "9812\n",
      "8732\n",
      "8321\n",
      "Number of days with above average steps: 16\n"
     ]
    }
   ],
   "source": [
    "#Q1\n",
    "i = 0\n",
    "for steps in stepsaday:\n",
    "    if steps > sum(stepsaday)/len(stepsaday):\n",
    "        print(steps)\n",
    "        i+=1\n",
    "    else:\n",
    "        pass\n",
    "\n",
    "print(\"Number of days with above average steps:\", i)"
   ]
  },
  {
   "cell_type": "markdown",
   "metadata": {},
   "source": [
    "To print days with above average number of steps, I first loop over the list `stepsaday` to access every element of the list. Then, for each element I check if it is higher than the average (calculated by summing all integers in the list and dividing this sum by the length of the list). If this is the case, the element gets printed. \n",
    "\n",
    "To count how many days meet this condition, I need to build in a counter. To do so, I first need a variable `i` which will be my counter. I set it to 0. Then, whenever my condition is met, I add 1 to the counter (using operator `+=`). This allows me to count the number of times the condition is met. \n",
    "\n",
    "Note that I also use the `pass` to skip elements in which the condition is not met. "
   ]
  },
  {
   "cell_type": "code",
   "execution_count": 19,
   "metadata": {},
   "outputs": [
    {
     "name": "stdout",
     "output_type": "stream",
     "text": [
      "Days with few steps: 5 Days with medium steps: 15 Days with many steps: 10\n"
     ]
    }
   ],
   "source": [
    "#Q2 \n",
    "fewsteps = []\n",
    "mediumsteps = []\n",
    "manysteps = [] \n",
    "\n",
    "for steps in stepsaday:\n",
    "    if steps < 4000:\n",
    "        fewsteps.append(steps)\n",
    "    elif (steps >= 4000) & (steps <= 8000):\n",
    "        mediumsteps.append(steps)\n",
    "    elif steps > 8000:\n",
    "        manysteps.append(steps)\n",
    "\n",
    "\n",
    "print(\"Days with few steps:\", len(fewsteps), \"Days with medium steps:\", len(mediumsteps), \"Days with many steps:\", len(manysteps))\n"
   ]
  },
  {
   "cell_type": "markdown",
   "metadata": {},
   "source": [
    "First, I create three empty lists that I will fill with number of steps depending on conditions. To do so, I start with looping over the list `stepsaday` (calling every element of that list `steps`). For each element, I check three conditions: \n",
    "* if the element is below 4000, I append it to the list `fewsteps` I have created above\n",
    "* if the element is between 4000 and 8000, I append it to the list `mediumsteps` I have created above\n",
    "* if the element is above 8000, I append it to the list `manysteps` I have created above.\n",
    "\n",
    "Note the use of `if` and `elif` in the conditions.\n",
    "\n"
   ]
  },
  {
   "cell_type": "markdown",
   "metadata": {},
   "source": [
    "# Challenge 3\n",
    "\n",
    "The dictionary below gives you information on the number of inhabitants of ten largest Dutch cities. \n",
    "\n",
    "* Loop through the city dictionary below to print the city and the size of the population in each city, e.g. \"City X has a population of Y\".\n",
    "\n",
    "* Filter the dictionary to include only cities with a population smaller than 500000 citizens. \n",
    "\n",
    "For each question, provide the necessary code and a short explanation of the choices you made."
   ]
  },
  {
   "cell_type": "code",
   "execution_count": 20,
   "metadata": {},
   "outputs": [],
   "source": [
    "city_data = {\"Amsterdam\": 873338, \"Rotterdam\": 651631, \"Den Haag\": 548320, \"Utrecht\": 359370, \"Eindhoven\": 235691, \"Groningen\": 233273, \"Tilburg\": 221947, \"Almere\": 218096, \"Breda\" : 184126, \"Nijmegen\": 179126}"
   ]
  },
  {
   "cell_type": "code",
   "execution_count": 23,
   "metadata": {},
   "outputs": [
    {
     "name": "stdout",
     "output_type": "stream",
     "text": [
      "City Amsterdam has a population of 873338\n",
      "City Rotterdam has a population of 651631\n",
      "City Den Haag has a population of 548320\n",
      "City Utrecht has a population of 359370\n",
      "City Eindhoven has a population of 235691\n",
      "City Groningen has a population of 233273\n",
      "City Tilburg has a population of 221947\n",
      "City Almere has a population of 218096\n",
      "City Breda has a population of 184126\n",
      "City Nijmegen has a population of 179126\n"
     ]
    }
   ],
   "source": [
    "#Q1\n",
    "for k,v in city_data.items():\n",
    "    print(\"City\", k, \"has a population of\", v)"
   ]
  },
  {
   "cell_type": "markdown",
   "metadata": {},
   "source": [
    "To loop over the dictionary, I need to make sure to access its keys and values. To do so, I use the method `.items()` and refer to every key by `k` and every value by `v`. This way, I can print them."
   ]
  },
  {
   "cell_type": "code",
   "execution_count": 24,
   "metadata": {},
   "outputs": [
    {
     "name": "stdout",
     "output_type": "stream",
     "text": [
      "{'Utrecht': 359370, 'Eindhoven': 235691, 'Groningen': 233273, 'Tilburg': 221947, 'Almere': 218096, 'Breda': 184126, 'Nijmegen': 179126}\n"
     ]
    }
   ],
   "source": [
    "#Q2\n",
    "smallcities = {}\n",
    "for k,v in city_data.items():\n",
    "    if v < 500000:\n",
    "        smallcities[k] = v\n",
    "    else:\n",
    "        pass\n",
    "\n",
    "print(smallcities)    "
   ]
  },
  {
   "cell_type": "markdown",
   "metadata": {},
   "source": [
    "I want to create a smaller filtered dictionary that only includes cities with population smaller than 500.000. I start by creating an empty dictionary `smallcities` that I will later fill with information. To filter the `city_data` dictionary, I loop over it and for every key-value pair, I check if the value is smaller than 500.000. If that is the case, I add this key-value pair to the new dictionary. To do so, I assign value `v` to the key `k`. If the condition is not met, I pass the key-value pair."
   ]
  },
  {
   "cell_type": "markdown",
   "metadata": {},
   "source": [
    "### Bonus\n",
    "\n",
    "In the dictionary below, not all data has the type you would expect. Make sure all data has the expected data type and filter the dictionary to include only cities with a population larger than 250000."
   ]
  },
  {
   "cell_type": "code",
   "execution_count": 25,
   "metadata": {},
   "outputs": [],
   "source": [
    "city_data = {\"Amsterdam\": 873338, \"Rotterdam\": \"651631\", \"Den Haag\": 548320, \"Utrecht\": 359370, \"Eindhoven\": 235691, \"Groningen\": 233273, \"Tilburg\": \"221947\", \"Almere\": 218096, \"Breda\" : 184126, \"Nijmegen\": 179126}"
   ]
  },
  {
   "cell_type": "code",
   "execution_count": 27,
   "metadata": {},
   "outputs": [
    {
     "name": "stdout",
     "output_type": "stream",
     "text": [
      "Amsterdam has value <class 'int'>\n",
      "Rotterdam has value <class 'str'>\n",
      "Den Haag has value <class 'int'>\n",
      "Utrecht has value <class 'int'>\n",
      "Eindhoven has value <class 'int'>\n",
      "Groningen has value <class 'int'>\n",
      "Tilburg has value <class 'str'>\n",
      "Almere has value <class 'int'>\n",
      "Breda has value <class 'int'>\n",
      "Nijmegen has value <class 'int'>\n"
     ]
    }
   ],
   "source": [
    "for k,v in city_data.items():\n",
    "    print(k, \"has value\", type(v))"
   ]
  },
  {
   "cell_type": "code",
   "execution_count": 26,
   "metadata": {},
   "outputs": [
    {
     "name": "stdout",
     "output_type": "stream",
     "text": [
      "{'Amsterdam': 873338, 'Rotterdam': 651631, 'Den Haag': 548320, 'Utrecht': 359370}\n"
     ]
    }
   ],
   "source": [
    "bigcities = {}\n",
    "for k,v in city_data.items():\n",
    "    if int(v) > 250000:\n",
    "        bigcities[k] = int(v)\n",
    "    else:\n",
    "        pass\n",
    "\n",
    "print(bigcities)    "
   ]
  },
  {
   "cell_type": "markdown",
   "metadata": {},
   "source": [
    "It looks like some of the values are not integers but strings. This means that we cannot apply comparison to them. To make sure that the conditional statement is applicable, we need to change the data type of these values to an integer. The simplest way to do so is to add the function `int` to the condition - then we check if the integer of `v` is larger than 250.000."
   ]
  }
 ],
 "metadata": {
  "interpreter": {
   "hash": "aee8b7b246df8f9039afb4144a1f6fd8d2ca17a180786b69acc140d282b71a49"
  },
  "kernelspec": {
   "display_name": "Python 3.9.1 64-bit",
   "language": "python",
   "name": "python3"
  },
  "language_info": {
   "codemirror_mode": {
    "name": "ipython",
    "version": 3
   },
   "file_extension": ".py",
   "mimetype": "text/x-python",
   "name": "python",
   "nbconvert_exporter": "python",
   "pygments_lexer": "ipython3",
   "version": "3.9.1"
  }
 },
 "nbformat": 4,
 "nbformat_minor": 4
}
