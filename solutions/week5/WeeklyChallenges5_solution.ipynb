{
 "cells": [
  {
   "cell_type": "markdown",
   "metadata": {},
   "source": [
    "# Challenges week 5\n",
    "\n",
    "Now that you have some experience with working with wrangling, visualisation and statistics in Python, it's time for you to combine and apply your knowledge. You will start working on these challenges in the tutorial and will be asked to complete them by the end of the week. \n",
    "\n",
    "In each challenge, you are asked to provide the programing solution to it as well as a technical interpretation explaining the steps taken and the result.\n",
    "\n",
    "Some important notes for the challenges:\n",
    "\n",
    "* If you get an error message, try to troubleshoot it (using Google often helps). If all else fails, go to the next excercise (but make sure to hand it in).\n",
    "* We will make sure to provide feedback and improvement suggestions in the rubric. Make sure to read them; they will help you improve next week."
   ]
  },
  {
   "cell_type": "markdown",
   "metadata": {},
   "source": [
    "## Dataset\n",
    "\n",
    "This week you will work with a new dataset. It is a data on U.S. partisan news pages on Facebook. This data was collected and analyzed by Silverman et al. (2017) for this article published on BuzzFeed [Inside The Partisan Fight For Your News Feed](https://www.buzzfeednews.com/article/craigsilverman/inside-the-partisan-fight-for-your-news-feed). The file you will work with is created based on the data available in this [GitHub repository](https://github.com/BuzzFeedNews/2017-08-partisan-sites-and-facebook-pages). \n",
    "\n",
    "In their investigation, the authors created a list of 667 partisan news websites. The websites were added to the list manually by two journalists who were dedicated to identifying partisan news websites. Once a website was added, its associated Facebook page was identified. This was possible for 452 websites. Information on these Facebook pages was collected using the Facebook API. Next, the websites were classified as left- or right-leaning based on a manual review of the content published by the website and its Facebook page, and by examining their About pages for mentions of partisanship. In datasets you will use, you can find information on the Facebook pages, their political leaning as well as information on enagagement. \n",
    "\n",
    "In the challenge you will use the following files:\n",
    "- `pages-info.csv` - dataset about the identified Facebook pages. It contains the following information:\n",
    "    - page_name:  name of the page on Facebook\n",
    "    - about: description of the page\n",
    "    - fan_count: number of fans\n",
    "    - talking_about_count: number of people sharing stories about the page\n",
    "    - website: name of the website related to the page\n",
    "    - page_id: ID of the Facebook page\n",
    "    - year: year when the page was created\n",
    "    - left_leaning: political left leaning of the page (takes value 1 for pages identified as left leaning and 0 for others)\n",
    "    - left_leaning: political right leaning of the page (takes value 1 for pages identified as right leaning and 0 for others)\n",
    "- `engagement_weekly.csv` - dataset about engagement with the identified pages in the last week before 2016 US presidential electiosn. It contains the following information:\n",
    "    - page_id: ID of the Facebook page\n",
    "    - status_published: the period for which engagement was measures (in this case, it is the first week of November 2016 for all pages).\n",
    "    - total_engagement: total number of engagement with the page in the week\n",
    "    - num_reactions: total number of reactions posts by the page recieved in the week (including all possible Facebook reactions)\n",
    "    - num_comments: total number of comments posts by the page recieved in the week\n",
    "    - num_shares: total number of times posts by the page have been shared in the week\n",
    "    - num_likes: total number of likes posts by the page recieved in the week\n",
    "    - num_loves: total number of 'love' reactions posts by the page recieved in the week\n",
    "    - num_wows: total number of 'wow' reactions posts by the page recieved in the week\n",
    "    - num_hahas: total number of 'haha' reactions posts by the page recieved in the week\n",
    "    - num_sads: total number of 'sad' reactions posts by the page recieved in the week\n",
    "    - num_angrys: total number of 'angry' reactions posts by the page recieved in the week\n",
    "    - post_count: total numer of posts posted in the week"
   ]
  },
  {
   "cell_type": "markdown",
   "metadata": {},
   "source": [
    "# Challange 1 \n",
    "\n",
    "Let's start with preparing and exploring the datasets. \n",
    "1) Explore the dataset and the necessary variables. <br /> *Make sure to at least check how the dataset looks like, what columns it has, what data type these columns have. <br />Tip: have a look at week 4 for pandas commands useful for exploration.*\n",
    "2) Merge the two datasets so that you have information on pages and the engagement they generated in the last week before the 2016 presidential elections together.  <br />*Tip: do not forget to make sure both datasets have the right keys necessary for merging and that these keys have the appropriate data types*\n",
    "3) To get a global picture of your data answer the questions below. If necessary, create new columns in your dataset necessary to answer the questions.\n",
    "    - How many pages in the dataset are left and how many right leaning? \n",
    "    - When (in what year) were the pages in the dataset created?\n",
    "    - What is the averge number of fans for left and right leaning websites?\n",
    "    \n",
    "\n",
    "For each question, provide the necessary code and a short explanation of the choices you made."
   ]
  },
  {
   "cell_type": "code",
   "execution_count": 1,
   "metadata": {},
   "outputs": [],
   "source": [
    "#importing necessary packages\n",
    "import pandas as pd\n",
    "import seaborn as sns\n",
    "import matplotlib.pyplot as plt\n",
    "import pandas as pd\n",
    "# for t-tests function:\n",
    "import pingouin as pg  \n",
    "import numpy as np"
   ]
  },
  {
   "cell_type": "markdown",
   "metadata": {},
   "source": [
    "Q1: data exploration"
   ]
  },
  {
   "cell_type": "code",
   "execution_count": 2,
   "metadata": {},
   "outputs": [
    {
     "name": "stderr",
     "output_type": "stream",
     "text": [
      "/home/damian/.local/lib/python3.8/site-packages/outdated/utils.py:14: OutdatedPackageWarning: The package outdated is out of date. Your version is 0.2.1, the latest is 0.2.2.\n",
      "Set the environment variable OUTDATED_IGNORE=1 to disable these warnings.\n",
      "  return warn(\n",
      "/home/damian/.local/lib/python3.8/site-packages/outdated/utils.py:14: OutdatedPackageWarning: The package pingouin is out of date. Your version is 0.5.1, the latest is 0.5.3.\n",
      "Set the environment variable OUTDATED_IGNORE=1 to disable these warnings.\n",
      "  return warn(\n"
     ]
    },
    {
     "data": {
      "text/plain": [
       "(452, 12)"
      ]
     },
     "execution_count": 2,
     "metadata": {},
     "output_type": "execute_result"
    }
   ],
   "source": [
    "#reading the csv file\n",
    "pages = pd.read_csv('pages-info.csv', delimiter = \",\")\n",
    "pages.shape"
   ]
  },
  {
   "cell_type": "code",
   "execution_count": 3,
   "metadata": {},
   "outputs": [
    {
     "data": {
      "text/html": [
       "<div>\n",
       "<style scoped>\n",
       "    .dataframe tbody tr th:only-of-type {\n",
       "        vertical-align: middle;\n",
       "    }\n",
       "\n",
       "    .dataframe tbody tr th {\n",
       "        vertical-align: top;\n",
       "    }\n",
       "\n",
       "    .dataframe thead th {\n",
       "        text-align: right;\n",
       "    }\n",
       "</style>\n",
       "<table border=\"1\" class=\"dataframe\">\n",
       "  <thead>\n",
       "    <tr style=\"text-align: right;\">\n",
       "      <th></th>\n",
       "      <th>Unnamed: 0</th>\n",
       "      <th>page_name</th>\n",
       "      <th>about</th>\n",
       "      <th>fan_count</th>\n",
       "      <th>talking_about_count</th>\n",
       "      <th>website</th>\n",
       "      <th>page_id</th>\n",
       "      <th>year</th>\n",
       "      <th>month</th>\n",
       "      <th>day</th>\n",
       "      <th>left_leaning</th>\n",
       "      <th>right_leaning</th>\n",
       "    </tr>\n",
       "  </thead>\n",
       "  <tbody>\n",
       "    <tr>\n",
       "      <th>0</th>\n",
       "      <td>0</td>\n",
       "      <td>Americans Against the Tea Party</td>\n",
       "      <td>We are your go to source for political news.</td>\n",
       "      <td>583256</td>\n",
       "      <td>43343</td>\n",
       "      <td>http://www.aattp.org</td>\n",
       "      <td>108038612554992</td>\n",
       "      <td>2009.0</td>\n",
       "      <td>4.0</td>\n",
       "      <td>3.0</td>\n",
       "      <td>1</td>\n",
       "      <td>0</td>\n",
       "    </tr>\n",
       "    <tr>\n",
       "      <th>1</th>\n",
       "      <td>1</td>\n",
       "      <td>act.tv</td>\n",
       "      <td>Rise up and Resist! Your home for movement-ori...</td>\n",
       "      <td>285075</td>\n",
       "      <td>481748</td>\n",
       "      <td>http://act.tv</td>\n",
       "      <td>153418591515382</td>\n",
       "      <td>NaN</td>\n",
       "      <td>NaN</td>\n",
       "      <td>NaN</td>\n",
       "      <td>1</td>\n",
       "      <td>0</td>\n",
       "    </tr>\n",
       "    <tr>\n",
       "      <th>2</th>\n",
       "      <td>2</td>\n",
       "      <td>New Blue United</td>\n",
       "      <td>NaN</td>\n",
       "      <td>1476093</td>\n",
       "      <td>93116</td>\n",
       "      <td>www.bluetribune.com</td>\n",
       "      <td>188464111175168</td>\n",
       "      <td>NaN</td>\n",
       "      <td>NaN</td>\n",
       "      <td>NaN</td>\n",
       "      <td>1</td>\n",
       "      <td>0</td>\n",
       "    </tr>\n",
       "    <tr>\n",
       "      <th>3</th>\n",
       "      <td>3</td>\n",
       "      <td>Obama is the Worst President in US History</td>\n",
       "      <td>NaN</td>\n",
       "      <td>1569590</td>\n",
       "      <td>41452</td>\n",
       "      <td>NaN</td>\n",
       "      <td>296856040436954</td>\n",
       "      <td>2013.0</td>\n",
       "      <td>1.0</td>\n",
       "      <td>1.0</td>\n",
       "      <td>0</td>\n",
       "      <td>1</td>\n",
       "    </tr>\n",
       "    <tr>\n",
       "      <th>4</th>\n",
       "      <td>4</td>\n",
       "      <td>RedFlag NewsDesk</td>\n",
       "      <td>Daily headlines from the official RedFlagNews....</td>\n",
       "      <td>1533</td>\n",
       "      <td>76</td>\n",
       "      <td>http://redflagnews.com</td>\n",
       "      <td>492836854251934</td>\n",
       "      <td>2016.0</td>\n",
       "      <td>3.0</td>\n",
       "      <td>16.0</td>\n",
       "      <td>0</td>\n",
       "      <td>1</td>\n",
       "    </tr>\n",
       "  </tbody>\n",
       "</table>\n",
       "</div>"
      ],
      "text/plain": [
       "   Unnamed: 0                                   page_name  \\\n",
       "0           0             Americans Against the Tea Party   \n",
       "1           1                                      act.tv   \n",
       "2           2                             New Blue United   \n",
       "3           3  Obama is the Worst President in US History   \n",
       "4           4                            RedFlag NewsDesk   \n",
       "\n",
       "                                               about  fan_count  \\\n",
       "0      We are your go to source for political news.      583256   \n",
       "1  Rise up and Resist! Your home for movement-ori...     285075   \n",
       "2                                                NaN    1476093   \n",
       "3                                                NaN    1569590   \n",
       "4  Daily headlines from the official RedFlagNews....       1533   \n",
       "\n",
       "   talking_about_count                 website          page_id    year  \\\n",
       "0                43343    http://www.aattp.org  108038612554992  2009.0   \n",
       "1               481748           http://act.tv  153418591515382     NaN   \n",
       "2                93116     www.bluetribune.com  188464111175168     NaN   \n",
       "3                41452                     NaN  296856040436954  2013.0   \n",
       "4                   76  http://redflagnews.com  492836854251934  2016.0   \n",
       "\n",
       "   month   day  left_leaning  right_leaning  \n",
       "0    4.0   3.0             1              0  \n",
       "1    NaN   NaN             1              0  \n",
       "2    NaN   NaN             1              0  \n",
       "3    1.0   1.0             0              1  \n",
       "4    3.0  16.0             0              1  "
      ]
     },
     "execution_count": 3,
     "metadata": {},
     "output_type": "execute_result"
    }
   ],
   "source": [
    "#Showing first 5 rows\n",
    "pages.head()"
   ]
  },
  {
   "cell_type": "code",
   "execution_count": 4,
   "metadata": {},
   "outputs": [
    {
     "data": {
      "text/plain": [
       "Unnamed: 0               int64\n",
       "page_name               object\n",
       "about                   object\n",
       "fan_count                int64\n",
       "talking_about_count      int64\n",
       "website                 object\n",
       "page_id                  int64\n",
       "year                   float64\n",
       "month                  float64\n",
       "day                    float64\n",
       "left_leaning             int64\n",
       "right_leaning            int64\n",
       "dtype: object"
      ]
     },
     "execution_count": 4,
     "metadata": {},
     "output_type": "execute_result"
    }
   ],
   "source": [
    "#Checking dtypes\n",
    "pages.dtypes"
   ]
  },
  {
   "cell_type": "code",
   "execution_count": 5,
   "metadata": {},
   "outputs": [
    {
     "data": {
      "text/plain": [
       "Unnamed: 0               0\n",
       "page_name                0\n",
       "about                   26\n",
       "fan_count                0\n",
       "talking_about_count      0\n",
       "website                 29\n",
       "page_id                  0\n",
       "year                   241\n",
       "month                  332\n",
       "day                    362\n",
       "left_leaning             0\n",
       "right_leaning            0\n",
       "dtype: int64"
      ]
     },
     "execution_count": 5,
     "metadata": {},
     "output_type": "execute_result"
    }
   ],
   "source": [
    "#Checking missing values\n",
    "pages.isna().sum()"
   ]
  },
  {
   "cell_type": "markdown",
   "metadata": {},
   "source": [
    "The file contains 452 rows and 12 columns. Majority of the columns is numeric. There are some missing values for some of the columns\n",
    "\n",
    "Q2: Merging\n",
    "\n",
    "In the next step, I will merge information on pages with information on the engagement they have recieved. For the merge I need:\n",
    "* key to merge on\n",
    "* the key needs the same datatype\n",
    "* the key needs to be unique."
   ]
  },
  {
   "cell_type": "code",
   "execution_count": 6,
   "metadata": {},
   "outputs": [
    {
     "data": {
      "text/plain": [
       "(415, 14)"
      ]
     },
     "execution_count": 6,
     "metadata": {},
     "output_type": "execute_result"
    }
   ],
   "source": [
    "engagement = pd.read_csv('engagement_weekly.csv')\n",
    "engagement.shape"
   ]
  },
  {
   "cell_type": "code",
   "execution_count": 7,
   "metadata": {},
   "outputs": [
    {
     "data": {
      "text/html": [
       "<div>\n",
       "<style scoped>\n",
       "    .dataframe tbody tr th:only-of-type {\n",
       "        vertical-align: middle;\n",
       "    }\n",
       "\n",
       "    .dataframe tbody tr th {\n",
       "        vertical-align: top;\n",
       "    }\n",
       "\n",
       "    .dataframe thead th {\n",
       "        text-align: right;\n",
       "    }\n",
       "</style>\n",
       "<table border=\"1\" class=\"dataframe\">\n",
       "  <thead>\n",
       "    <tr style=\"text-align: right;\">\n",
       "      <th></th>\n",
       "      <th>Unnamed: 0</th>\n",
       "      <th>page_id</th>\n",
       "      <th>status_published</th>\n",
       "      <th>total_engagement</th>\n",
       "      <th>num_reactions</th>\n",
       "      <th>num_comments</th>\n",
       "      <th>num_shares</th>\n",
       "      <th>num_likes</th>\n",
       "      <th>num_loves</th>\n",
       "      <th>num_wows</th>\n",
       "      <th>num_hahas</th>\n",
       "      <th>num_sads</th>\n",
       "      <th>num_angrys</th>\n",
       "      <th>post_count</th>\n",
       "    </tr>\n",
       "  </thead>\n",
       "  <tbody>\n",
       "    <tr>\n",
       "      <th>0</th>\n",
       "      <td>22</td>\n",
       "      <td>100434040001314</td>\n",
       "      <td>2016-11-01</td>\n",
       "      <td>49741</td>\n",
       "      <td>35318</td>\n",
       "      <td>3105</td>\n",
       "      <td>11318</td>\n",
       "      <td>22950</td>\n",
       "      <td>1906</td>\n",
       "      <td>697</td>\n",
       "      <td>4554</td>\n",
       "      <td>1206</td>\n",
       "      <td>4005</td>\n",
       "      <td>250</td>\n",
       "    </tr>\n",
       "    <tr>\n",
       "      <th>1</th>\n",
       "      <td>31</td>\n",
       "      <td>1014803551921469</td>\n",
       "      <td>2016-11-01</td>\n",
       "      <td>155745</td>\n",
       "      <td>95926</td>\n",
       "      <td>18311</td>\n",
       "      <td>41508</td>\n",
       "      <td>72594</td>\n",
       "      <td>5620</td>\n",
       "      <td>2233</td>\n",
       "      <td>5912</td>\n",
       "      <td>1000</td>\n",
       "      <td>8567</td>\n",
       "      <td>1289</td>\n",
       "    </tr>\n",
       "    <tr>\n",
       "      <th>2</th>\n",
       "      <td>49</td>\n",
       "      <td>1019871961378419</td>\n",
       "      <td>2016-11-01</td>\n",
       "      <td>1192782</td>\n",
       "      <td>900218</td>\n",
       "      <td>170192</td>\n",
       "      <td>122372</td>\n",
       "      <td>675544</td>\n",
       "      <td>47614</td>\n",
       "      <td>16100</td>\n",
       "      <td>38434</td>\n",
       "      <td>73706</td>\n",
       "      <td>48820</td>\n",
       "      <td>1260</td>\n",
       "    </tr>\n",
       "    <tr>\n",
       "      <th>3</th>\n",
       "      <td>60</td>\n",
       "      <td>1035617169863710</td>\n",
       "      <td>2016-11-01</td>\n",
       "      <td>2506</td>\n",
       "      <td>1497</td>\n",
       "      <td>267</td>\n",
       "      <td>742</td>\n",
       "      <td>1115</td>\n",
       "      <td>62</td>\n",
       "      <td>35</td>\n",
       "      <td>199</td>\n",
       "      <td>14</td>\n",
       "      <td>72</td>\n",
       "      <td>197</td>\n",
       "    </tr>\n",
       "    <tr>\n",
       "      <th>4</th>\n",
       "      <td>70</td>\n",
       "      <td>1036253643101134</td>\n",
       "      <td>2016-11-01</td>\n",
       "      <td>656574</td>\n",
       "      <td>474432</td>\n",
       "      <td>43802</td>\n",
       "      <td>138340</td>\n",
       "      <td>359882</td>\n",
       "      <td>23549</td>\n",
       "      <td>13228</td>\n",
       "      <td>25017</td>\n",
       "      <td>6682</td>\n",
       "      <td>46074</td>\n",
       "      <td>136</td>\n",
       "    </tr>\n",
       "  </tbody>\n",
       "</table>\n",
       "</div>"
      ],
      "text/plain": [
       "   Unnamed: 0           page_id status_published  total_engagement  \\\n",
       "0          22   100434040001314       2016-11-01             49741   \n",
       "1          31  1014803551921469       2016-11-01            155745   \n",
       "2          49  1019871961378419       2016-11-01           1192782   \n",
       "3          60  1035617169863710       2016-11-01              2506   \n",
       "4          70  1036253643101134       2016-11-01            656574   \n",
       "\n",
       "   num_reactions  num_comments  num_shares  num_likes  num_loves  num_wows  \\\n",
       "0          35318          3105       11318      22950       1906       697   \n",
       "1          95926         18311       41508      72594       5620      2233   \n",
       "2         900218        170192      122372     675544      47614     16100   \n",
       "3           1497           267         742       1115         62        35   \n",
       "4         474432         43802      138340     359882      23549     13228   \n",
       "\n",
       "   num_hahas  num_sads  num_angrys  post_count  \n",
       "0       4554      1206        4005         250  \n",
       "1       5912      1000        8567        1289  \n",
       "2      38434     73706       48820        1260  \n",
       "3        199        14          72         197  \n",
       "4      25017      6682       46074         136  "
      ]
     },
     "execution_count": 7,
     "metadata": {},
     "output_type": "execute_result"
    }
   ],
   "source": [
    "#Showing first 5 rows\n",
    "engagement.head()"
   ]
  },
  {
   "cell_type": "code",
   "execution_count": 8,
   "metadata": {},
   "outputs": [
    {
     "data": {
      "text/plain": [
       "Unnamed: 0           int64\n",
       "page_id              int64\n",
       "status_published    object\n",
       "total_engagement     int64\n",
       "num_reactions        int64\n",
       "num_comments         int64\n",
       "num_shares           int64\n",
       "num_likes            int64\n",
       "num_loves            int64\n",
       "num_wows             int64\n",
       "num_hahas            int64\n",
       "num_sads             int64\n",
       "num_angrys           int64\n",
       "post_count           int64\n",
       "dtype: object"
      ]
     },
     "execution_count": 8,
     "metadata": {},
     "output_type": "execute_result"
    }
   ],
   "source": [
    "#Checking dtypes\n",
    "engagement.dtypes"
   ]
  },
  {
   "cell_type": "code",
   "execution_count": 9,
   "metadata": {},
   "outputs": [
    {
     "data": {
      "text/plain": [
       "Unnamed: 0          0\n",
       "page_id             0\n",
       "status_published    0\n",
       "total_engagement    0\n",
       "num_reactions       0\n",
       "num_comments        0\n",
       "num_shares          0\n",
       "num_likes           0\n",
       "num_loves           0\n",
       "num_wows            0\n",
       "num_hahas           0\n",
       "num_sads            0\n",
       "num_angrys          0\n",
       "post_count          0\n",
       "dtype: int64"
      ]
     },
     "execution_count": 9,
     "metadata": {},
     "output_type": "execute_result"
    }
   ],
   "source": [
    "#Checking missing values\n",
    "engagement.isna().sum()"
   ]
  },
  {
   "cell_type": "code",
   "execution_count": 10,
   "metadata": {},
   "outputs": [
    {
     "data": {
      "text/plain": [
       "(452, 415)"
      ]
     },
     "execution_count": 10,
     "metadata": {},
     "output_type": "execute_result"
    }
   ],
   "source": [
    "#Checking lenght of dataframes\n",
    "len(pages), len(engagement)"
   ]
  },
  {
   "cell_type": "markdown",
   "metadata": {},
   "source": [
    "I can see that there is page_id, which does not have missing values and is an integer in both dataframes. The name of the id is identical for both dataframes.\n",
    "\n",
    "The dataframes do not have identical lenght. As I want to add information on engagement to the information on pages I have, I will merge inner so that I only keep the pages that I have engagement data on. <br> *Here, you could have also chosen for a different kind of merge, but you would need to explain why it is appropriate (e.g., why you want to keep pages that do not have engagement information.* "
   ]
  },
  {
   "cell_type": "code",
   "execution_count": 11,
   "metadata": {},
   "outputs": [],
   "source": [
    "df = pages.merge(engagement, on='page_id', how='inner')"
   ]
  },
  {
   "cell_type": "code",
   "execution_count": 12,
   "metadata": {},
   "outputs": [
    {
     "data": {
      "text/plain": [
       "415"
      ]
     },
     "execution_count": 12,
     "metadata": {},
     "output_type": "execute_result"
    }
   ],
   "source": [
    "#Checking lenght of the resulting dataframe\n",
    "len(df)"
   ]
  },
  {
   "cell_type": "markdown",
   "metadata": {},
   "source": [
    "Q3: exploratory analysis\n",
    "* How many pages in the dataset are left and how many right leaning?"
   ]
  },
  {
   "cell_type": "code",
   "execution_count": 13,
   "metadata": {},
   "outputs": [
    {
     "data": {
      "text/plain": [
       "Index(['Unnamed: 0_x', 'page_name', 'about', 'fan_count',\n",
       "       'talking_about_count', 'website', 'page_id', 'year', 'month', 'day',\n",
       "       'left_leaning', 'right_leaning', 'Unnamed: 0_y', 'status_published',\n",
       "       'total_engagement', 'num_reactions', 'num_comments', 'num_shares',\n",
       "       'num_likes', 'num_loves', 'num_wows', 'num_hahas', 'num_sads',\n",
       "       'num_angrys', 'post_count'],\n",
       "      dtype='object')"
      ]
     },
     "execution_count": 13,
     "metadata": {},
     "output_type": "execute_result"
    }
   ],
   "source": [
    "#Checking columns to see what I need\n",
    "df.columns"
   ]
  },
  {
   "cell_type": "code",
   "execution_count": 14,
   "metadata": {},
   "outputs": [
    {
     "data": {
      "text/plain": [
       "0    285\n",
       "1    130\n",
       "Name: left_leaning, dtype: int64"
      ]
     },
     "execution_count": 14,
     "metadata": {},
     "output_type": "execute_result"
    }
   ],
   "source": [
    "df['left_leaning'].value_counts()"
   ]
  },
  {
   "cell_type": "code",
   "execution_count": 15,
   "metadata": {},
   "outputs": [
    {
     "data": {
      "text/plain": [
       "1    285\n",
       "0    130\n",
       "Name: right_leaning, dtype: int64"
      ]
     },
     "execution_count": 15,
     "metadata": {},
     "output_type": "execute_result"
    }
   ],
   "source": [
    "df['right_leaning'].value_counts()"
   ]
  },
  {
   "cell_type": "code",
   "execution_count": 16,
   "metadata": {},
   "outputs": [
    {
     "data": {
      "text/html": [
       "<div>\n",
       "<style scoped>\n",
       "    .dataframe tbody tr th:only-of-type {\n",
       "        vertical-align: middle;\n",
       "    }\n",
       "\n",
       "    .dataframe tbody tr th {\n",
       "        vertical-align: top;\n",
       "    }\n",
       "\n",
       "    .dataframe thead th {\n",
       "        text-align: right;\n",
       "    }\n",
       "</style>\n",
       "<table border=\"1\" class=\"dataframe\">\n",
       "  <thead>\n",
       "    <tr style=\"text-align: right;\">\n",
       "      <th>right_leaning</th>\n",
       "      <th>0</th>\n",
       "      <th>1</th>\n",
       "    </tr>\n",
       "    <tr>\n",
       "      <th>left_leaning</th>\n",
       "      <th></th>\n",
       "      <th></th>\n",
       "    </tr>\n",
       "  </thead>\n",
       "  <tbody>\n",
       "    <tr>\n",
       "      <th>0</th>\n",
       "      <td>0</td>\n",
       "      <td>285</td>\n",
       "    </tr>\n",
       "    <tr>\n",
       "      <th>1</th>\n",
       "      <td>130</td>\n",
       "      <td>0</td>\n",
       "    </tr>\n",
       "  </tbody>\n",
       "</table>\n",
       "</div>"
      ],
      "text/plain": [
       "right_leaning    0    1\n",
       "left_leaning           \n",
       "0                0  285\n",
       "1              130    0"
      ]
     },
     "execution_count": 16,
     "metadata": {},
     "output_type": "execute_result"
    }
   ],
   "source": [
    "# maybe for the fun of it check whether this is mutually exclusive?\n",
    "pd.crosstab(df['left_leaning'], df['right_leaning'])"
   ]
  },
  {
   "cell_type": "markdown",
   "metadata": {},
   "source": [
    "There are 285 right leaning pages and 130 left leaning. <br> Observation: It looks like `'right_leaning'` and `'left_leaning'` are exclusive variables (none of the pages is both left and right leaning which makes sense).\n",
    "\n",
    "* When (in what year) were the pages in the dataset created?"
   ]
  },
  {
   "cell_type": "code",
   "execution_count": 17,
   "metadata": {},
   "outputs": [
    {
     "data": {
      "text/plain": [
       "count     202.000000\n",
       "mean     2000.272277\n",
       "std        32.705228\n",
       "min      1776.000000\n",
       "25%      2002.000000\n",
       "50%      2010.000000\n",
       "75%      2013.000000\n",
       "max      2016.000000\n",
       "Name: year, dtype: float64"
      ]
     },
     "execution_count": 17,
     "metadata": {},
     "output_type": "execute_result"
    }
   ],
   "source": [
    "# potentially, you could do df['year'].value_counts() additionally or instead\n",
    "\n",
    "df['year'].describe()"
   ]
  },
  {
   "cell_type": "code",
   "execution_count": 18,
   "metadata": {},
   "outputs": [
    {
     "data": {
      "text/plain": [
       "<AxesSubplot:xlabel='year', ylabel='Count'>"
      ]
     },
     "execution_count": 18,
     "metadata": {},
     "output_type": "execute_result"
    },
    {
     "data": {
      "image/png": "[encoded data removed]",
      "text/plain": [
       "<Figure size 432x288 with 1 Axes>"
      ]
     },
     "metadata": {
      "needs_background": "light"
     },
     "output_type": "display_data"
    }
   ],
   "source": [
    "# alternatively, use a graphic solution:\n",
    "sns.histplot(x='year', data=df)"
   ]
  },
  {
   "cell_type": "markdown",
   "metadata": {},
   "source": [
    "It looks like the first page was created in 1776 (which makes ne sense and might be an error) and the last one in 2016. Most pages were created after 2010.\n",
    "\n",
    "* What is the averge number of fans for left and right leaning websites?"
   ]
  },
  {
   "cell_type": "code",
   "execution_count": 19,
   "metadata": {},
   "outputs": [
    {
     "data": {
      "text/html": [
       "<div>\n",
       "<style scoped>\n",
       "    .dataframe tbody tr th:only-of-type {\n",
       "        vertical-align: middle;\n",
       "    }\n",
       "\n",
       "    .dataframe tbody tr th {\n",
       "        vertical-align: top;\n",
       "    }\n",
       "\n",
       "    .dataframe thead th {\n",
       "        text-align: right;\n",
       "    }\n",
       "</style>\n",
       "<table border=\"1\" class=\"dataframe\">\n",
       "  <thead>\n",
       "    <tr style=\"text-align: right;\">\n",
       "      <th></th>\n",
       "      <th>count</th>\n",
       "      <th>mean</th>\n",
       "      <th>std</th>\n",
       "      <th>min</th>\n",
       "      <th>25%</th>\n",
       "      <th>50%</th>\n",
       "      <th>75%</th>\n",
       "      <th>max</th>\n",
       "    </tr>\n",
       "    <tr>\n",
       "      <th>left_leaning</th>\n",
       "      <th></th>\n",
       "      <th></th>\n",
       "      <th></th>\n",
       "      <th></th>\n",
       "      <th></th>\n",
       "      <th></th>\n",
       "      <th></th>\n",
       "      <th></th>\n",
       "    </tr>\n",
       "  </thead>\n",
       "  <tbody>\n",
       "    <tr>\n",
       "      <th>0</th>\n",
       "      <td>285.0</td>\n",
       "      <td>738682.014035</td>\n",
       "      <td>1.439927e+06</td>\n",
       "      <td>47.0</td>\n",
       "      <td>19880.00</td>\n",
       "      <td>165298.0</td>\n",
       "      <td>853119.00</td>\n",
       "      <td>15563283.0</td>\n",
       "    </tr>\n",
       "    <tr>\n",
       "      <th>1</th>\n",
       "      <td>130.0</td>\n",
       "      <td>744491.284615</td>\n",
       "      <td>1.669226e+06</td>\n",
       "      <td>64.0</td>\n",
       "      <td>25474.25</td>\n",
       "      <td>166985.0</td>\n",
       "      <td>727282.25</td>\n",
       "      <td>11664950.0</td>\n",
       "    </tr>\n",
       "  </tbody>\n",
       "</table>\n",
       "</div>"
      ],
      "text/plain": [
       "              count           mean           std   min       25%       50%  \\\n",
       "left_leaning                                                                 \n",
       "0             285.0  738682.014035  1.439927e+06  47.0  19880.00  165298.0   \n",
       "1             130.0  744491.284615  1.669226e+06  64.0  25474.25  166985.0   \n",
       "\n",
       "                    75%         max  \n",
       "left_leaning                         \n",
       "0             853119.00  15563283.0  \n",
       "1             727282.25  11664950.0  "
      ]
     },
     "execution_count": 19,
     "metadata": {},
     "output_type": "execute_result"
    }
   ],
   "source": [
    "df.groupby('left_leaning')['fan_count'].describe()"
   ]
  },
  {
   "cell_type": "markdown",
   "metadata": {},
   "source": [
    "It looks like left leaning pages have on average 738682 fans, while right leaning pages 744491. SD is large for both types of pages. So there is probably no substantive difference."
   ]
  },
  {
   "cell_type": "code",
   "execution_count": 20,
   "metadata": {},
   "outputs": [
    {
     "data": {
      "text/plain": [
       "<AxesSubplot:xlabel='left_leaning', ylabel='fan_count'>"
      ]
     },
     "execution_count": 20,
     "metadata": {},
     "output_type": "execute_result"
    },
    {
     "data": {
      "image/png": "[encoded data removed]",
      "text/plain": [
       "<Figure size 432x288 with 1 Axes>"
      ]
     },
     "metadata": {
      "needs_background": "light"
     },
     "output_type": "display_data"
    }
   ],
   "source": [
    "# alterantively, use a graphic solution\n",
    "sns.barplot(y='fan_count', x='left_leaning', data=df)"
   ]
  },
  {
   "cell_type": "markdown",
   "metadata": {},
   "source": [
    "# Challenge 2\n",
    "\n",
    "Now, let's visualize what we have learned about our data. Provide visualizations for your answers to question 3, Challenge 1. Take into account the measurement levels of your variables to choose the appropriate visualization. Provide a short justification of your choice.\n",
    "\n",
    "*Solutions show example plots. Other plots are also acceptable as long as they fit the measurement level of your variables.*\n"
   ]
  },
  {
   "cell_type": "markdown",
   "metadata": {},
   "source": [
    "* How many pages in the dataset are left and how many right leaning?\n",
    "\n",
    "As this variable is categorical, bar chart is appropriate."
   ]
  },
  {
   "cell_type": "code",
   "execution_count": 21,
   "metadata": {},
   "outputs": [
    {
     "data": {
      "text/plain": [
       "<AxesSubplot:xlabel='left_leaning', ylabel='count'>"
      ]
     },
     "execution_count": 21,
     "metadata": {},
     "output_type": "execute_result"
    },
    {
     "data": {
      "image/png": "[encoded data removed]",
      "text/plain": [
       "<Figure size 432x288 with 1 Axes>"
      ]
     },
     "metadata": {
      "needs_background": "light"
     },
     "output_type": "display_data"
    }
   ],
   "source": [
    "# with seaborn\n",
    "sns.countplot(x = 'left_leaning', data=df)"
   ]
  },
  {
   "cell_type": "markdown",
   "metadata": {},
   "source": [
    "* When (in what year) were the pages in the dataset created?"
   ]
  },
  {
   "cell_type": "code",
   "execution_count": 22,
   "metadata": {},
   "outputs": [
    {
     "data": {
      "text/plain": [
       "<AxesSubplot:xlabel='year', ylabel='Count'>"
      ]
     },
     "execution_count": 22,
     "metadata": {},
     "output_type": "execute_result"
    },
    {
     "data": {
      "image/png": "[encoded data removed]",
      "text/plain": [
       "<Figure size 432x288 with 1 Axes>"
      ]
     },
     "metadata": {
      "needs_background": "light"
     },
     "output_type": "display_data"
    }
   ],
   "source": [
    "sns.histplot(x='year', data=df)"
   ]
  },
  {
   "cell_type": "markdown",
   "metadata": {},
   "source": [
    "* What is the averge number of fans for left and right leaning websites?\n",
    "\n",
    "I choose a barplot as my IV is binary (leaning) and DV continous (number of fans)."
   ]
  },
  {
   "cell_type": "code",
   "execution_count": 23,
   "metadata": {},
   "outputs": [
    {
     "data": {
      "text/plain": [
       "<AxesSubplot:xlabel='left_leaning', ylabel='fan_count'>"
      ]
     },
     "execution_count": 23,
     "metadata": {},
     "output_type": "execute_result"
    },
    {
     "data": {
      "image/png": "[encoded data removed]",
      "text/plain": [
       "<Figure size 432x288 with 1 Axes>"
      ]
     },
     "metadata": {
      "needs_background": "light"
     },
     "output_type": "display_data"
    }
   ],
   "source": [
    "sns.barplot(x=\"left_leaning\", y=\"fan_count\", data=df, ci=95)"
   ]
  },
  {
   "cell_type": "markdown",
   "metadata": {},
   "source": [
    "# Challenge 3 \n",
    "\n",
    "Imagine that you are conducting research on engagement with partisan news sites in pre-election period. You are interested in the following research question:\n",
    "\n",
    "*RQ*: To what extent is there a relation between political leaning of a news site on Facebook and the amount of engagement it recieves?\n",
    "\n",
    "In the final challenge, we ask you to answer the research question above. To answer the research question you need to:\n",
    "* Choose appropriate independent and dependent variable and shortly justify your choice.\n",
    "* Compute descriptive statistics for the chosen independent and dependent variable and interpret them. Explain your choice for the descriptives type. <br />*For this step, compute overall descritpive statistics for the independent and dependent variable separately. Make sure to choose the right statistical information to report depending on the measurement level of your variable.*\n",
    "* Create one univariate visualisation for the independent variable. Provide a short justification of your choice for visualisation type. <br />*Make sure to choose the appropriate visualisation for the selected variable*\n",
    "* Create one univariate visualisation for the dependent variable. Provide a short justification of your choice for visualisation type. <br />*Make sure to choose the appropriate visualisation for the selected variable*\n",
    "* Create one bivariate visualisation showing the relation between the independent and dependent variable. Provide a short justification of your choice for visualisation type. <br />*Make sure to choose the appropriate visualisation for the two variables*\n",
    "* Show the descriptives of the dependent variable grouped by the independent variable and interpret them.\n",
    "* Conduct appropriate statistical test, interpret the results and answer the RQ. <br />*Tip: consider the measurement levels of your variables to choose the appropriate test. You do not have to conduct any tests not shown in class*\n"
   ]
  },
  {
   "cell_type": "markdown",
   "metadata": {},
   "source": [
    "1.\n",
    "\n",
    "IV: political leaning `'left_leaning'` - this categorical variable shows leaning of the page. The page scores 1 when it is left leaning\n",
    "\n",
    "DV: total engagement score in a week `'total_engagement'` - this continous variable shows the total engagement recieved by the page\n",
    "\n",
    "*Using other variables measuring engagement would also be ok as long as they represent some sort of engagement (e.g., likes)*.\n",
    "\n",
    "2. "
   ]
  },
  {
   "cell_type": "code",
   "execution_count": 24,
   "metadata": {},
   "outputs": [
    {
     "data": {
      "text/plain": [
       "0    285\n",
       "1    130\n",
       "Name: left_leaning, dtype: int64"
      ]
     },
     "execution_count": 24,
     "metadata": {},
     "output_type": "execute_result"
    }
   ],
   "source": [
    "#Descriptive statistics for IV\n",
    "df['left_leaning'].value_counts()"
   ]
  },
  {
   "cell_type": "code",
   "execution_count": 25,
   "metadata": {},
   "outputs": [
    {
     "data": {
      "text/plain": [
       "0    0.686747\n",
       "1    0.313253\n",
       "Name: left_leaning, dtype: float64"
      ]
     },
     "execution_count": 25,
     "metadata": {},
     "output_type": "execute_result"
    }
   ],
   "source": [
    "df['left_leaning'].value_counts(normalize=True)"
   ]
  },
  {
   "cell_type": "code",
   "execution_count": 26,
   "metadata": {},
   "outputs": [
    {
     "data": {
      "text/plain": [
       "count    4.150000e+02\n",
       "mean     1.420831e+06\n",
       "std      4.415878e+06\n",
       "min      0.000000e+00\n",
       "25%      2.731000e+03\n",
       "50%      9.002600e+04\n",
       "75%      1.048194e+06\n",
       "max      5.268795e+07\n",
       "Name: total_engagement, dtype: float64"
      ]
     },
     "execution_count": 26,
     "metadata": {},
     "output_type": "execute_result"
    }
   ],
   "source": [
    "#Descriptive statistics for DV\n",
    "df['total_engagement'].describe()"
   ]
  },
  {
   "cell_type": "markdown",
   "metadata": {},
   "source": [
    "In the dataset 68% of pages is right leaning. Overall, pages recieved 1.420831e+06 = 1420831 engagement with SD of 4.415878e+06 = 4415877.\n",
    "\n",
    "*Note that by default the results are shown in scientific notation.*"
   ]
  },
  {
   "cell_type": "code",
   "execution_count": 27,
   "metadata": {},
   "outputs": [],
   "source": [
    "#Bonus: this setting allows you to round output which will prevent numbers being displayed in mathematical notation\n",
    "pd.set_option('display.float_format', lambda x: '%.5f' % x)"
   ]
  },
  {
   "cell_type": "code",
   "execution_count": 28,
   "metadata": {},
   "outputs": [
    {
     "data": {
      "text/plain": [
       "count        415.00000\n",
       "mean     1420831.18313\n",
       "std      4415877.72300\n",
       "min            0.00000\n",
       "25%         2731.00000\n",
       "50%        90026.00000\n",
       "75%      1048194.00000\n",
       "max     52687952.00000\n",
       "Name: total_engagement, dtype: float64"
      ]
     },
     "execution_count": 28,
     "metadata": {},
     "output_type": "execute_result"
    }
   ],
   "source": [
    "df['total_engagement'].describe()"
   ]
  },
  {
   "cell_type": "markdown",
   "metadata": {},
   "source": [
    "3. To visualize IV (binary) I choose bar chart."
   ]
  },
  {
   "cell_type": "code",
   "execution_count": 29,
   "metadata": {},
   "outputs": [
    {
     "data": {
      "text/plain": [
       "<AxesSubplot:xlabel='left_leaning', ylabel='count'>"
      ]
     },
     "execution_count": 29,
     "metadata": {},
     "output_type": "execute_result"
    },
    {
     "data": {
      "image/png": "[encoded data removed]",
      "text/plain": [
       "<Figure size 432x288 with 1 Axes>"
      ]
     },
     "metadata": {
      "needs_background": "light"
     },
     "output_type": "display_data"
    }
   ],
   "source": [
    "# with seaborn\n",
    "sns.countplot(x = 'left_leaning', data=df)"
   ]
  },
  {
   "cell_type": "markdown",
   "metadata": {},
   "source": [
    "4. To visualize DV (continous) I choose histogram. I have made it bigger to increase clarity."
   ]
  },
  {
   "cell_type": "code",
   "execution_count": 30,
   "metadata": {},
   "outputs": [
    {
     "data": {
      "text/plain": [
       "<AxesSubplot:xlabel='total_engagement', ylabel='Count'>"
      ]
     },
     "execution_count": 30,
     "metadata": {},
     "output_type": "execute_result"
    },
    {
     "data": {
      "image/png": "[encoded data removed]",
      "text/plain": [
       "<Figure size 1080x864 with 1 Axes>"
      ]
     },
     "metadata": {
      "needs_background": "light"
     },
     "output_type": "display_data"
    }
   ],
   "source": [
    "plt.figure(figsize = (15,12))\n",
    "sns.histplot(data=df, x='total_engagement')"
   ]
  },
  {
   "cell_type": "markdown",
   "metadata": {},
   "source": [
    "5. To visualize the relation between binary IV and continous DV I create a bar chart. It shows me the means per group and 95% confidence intervals around the mean."
   ]
  },
  {
   "cell_type": "code",
   "execution_count": 31,
   "metadata": {},
   "outputs": [
    {
     "data": {
      "text/plain": [
       "<AxesSubplot:xlabel='left_leaning', ylabel='total_engagement'>"
      ]
     },
     "execution_count": 31,
     "metadata": {},
     "output_type": "execute_result"
    },
    {
     "data": {
      "image/png": "[encoded data removed]",
      "text/plain": [
       "<Figure size 432x288 with 1 Axes>"
      ]
     },
     "metadata": {
      "needs_background": "light"
     },
     "output_type": "display_data"
    }
   ],
   "source": [
    "sns.barplot(x=\"left_leaning\", y=\"total_engagement\", data=df, ci=95)"
   ]
  },
  {
   "cell_type": "markdown",
   "metadata": {},
   "source": [
    "6. Descriptives per category."
   ]
  },
  {
   "cell_type": "code",
   "execution_count": 32,
   "metadata": {},
   "outputs": [
    {
     "data": {
      "text/html": [
       "<div>\n",
       "<style scoped>\n",
       "    .dataframe tbody tr th:only-of-type {\n",
       "        vertical-align: middle;\n",
       "    }\n",
       "\n",
       "    .dataframe tbody tr th {\n",
       "        vertical-align: top;\n",
       "    }\n",
       "\n",
       "    .dataframe thead th {\n",
       "        text-align: right;\n",
       "    }\n",
       "</style>\n",
       "<table border=\"1\" class=\"dataframe\">\n",
       "  <thead>\n",
       "    <tr style=\"text-align: right;\">\n",
       "      <th></th>\n",
       "      <th>count</th>\n",
       "      <th>mean</th>\n",
       "      <th>std</th>\n",
       "      <th>min</th>\n",
       "      <th>25%</th>\n",
       "      <th>50%</th>\n",
       "      <th>75%</th>\n",
       "      <th>max</th>\n",
       "    </tr>\n",
       "    <tr>\n",
       "      <th>left_leaning</th>\n",
       "      <th></th>\n",
       "      <th></th>\n",
       "      <th></th>\n",
       "      <th></th>\n",
       "      <th></th>\n",
       "      <th></th>\n",
       "      <th></th>\n",
       "      <th></th>\n",
       "    </tr>\n",
       "  </thead>\n",
       "  <tbody>\n",
       "    <tr>\n",
       "      <th>0</th>\n",
       "      <td>285.00000</td>\n",
       "      <td>1370236.90877</td>\n",
       "      <td>3834546.61819</td>\n",
       "      <td>0.00000</td>\n",
       "      <td>2506.00000</td>\n",
       "      <td>80215.00000</td>\n",
       "      <td>1114040.00000</td>\n",
       "      <td>47573041.00000</td>\n",
       "    </tr>\n",
       "    <tr>\n",
       "      <th>1</th>\n",
       "      <td>130.00000</td>\n",
       "      <td>1531749.40000</td>\n",
       "      <td>5494745.07015</td>\n",
       "      <td>2.00000</td>\n",
       "      <td>3030.50000</td>\n",
       "      <td>110070.50000</td>\n",
       "      <td>786239.75000</td>\n",
       "      <td>52687952.00000</td>\n",
       "    </tr>\n",
       "  </tbody>\n",
       "</table>\n",
       "</div>"
      ],
      "text/plain": [
       "                 count          mean           std     min        25%  \\\n",
       "left_leaning                                                            \n",
       "0            285.00000 1370236.90877 3834546.61819 0.00000 2506.00000   \n",
       "1            130.00000 1531749.40000 5494745.07015 2.00000 3030.50000   \n",
       "\n",
       "                      50%           75%            max  \n",
       "left_leaning                                            \n",
       "0             80215.00000 1114040.00000 47573041.00000  \n",
       "1            110070.50000  786239.75000 52687952.00000  "
      ]
     },
     "execution_count": 32,
     "metadata": {},
     "output_type": "execute_result"
    }
   ],
   "source": [
    "df.groupby('left_leaning')['total_engagement'].describe()"
   ]
  },
  {
   "cell_type": "markdown",
   "metadata": {},
   "source": [
    "On average left leaning pages have recieved more engagement (M =  1531749) than right leaning pages (M = 1370236). For both types of pages, SD is large with high maximium engagement."
   ]
  },
  {
   "cell_type": "markdown",
   "metadata": {},
   "source": [
    "7. To find out if the differnece is significant, I conduct an independent sample t-test. Before, I do a Levene's test to check if I can assume variance indifference between groups."
   ]
  },
  {
   "cell_type": "code",
   "execution_count": 33,
   "metadata": {},
   "outputs": [],
   "source": [
    "# Damian's function to provide a simple way to display the results of a t-test\n",
    "# Note: pg.ttest() automatically checks for equality of variances (see pg.ttest? )\n",
    "# so you don't have to do this manually. Take that, SPSS!!!\n",
    "\n",
    "def pandasttest(df, dv, between):\n",
    "    '''Takes a dataframe, the name of the column that indicates the group (`between`), \n",
    "    and the name of the column that contains the dependent variable (`dv`) as\n",
    "    input and then prints a t-test'''\n",
    "    \n",
    "    assert len(df[between].unique())==2, \"There are more than two groups, aborting\"\n",
    "             \n",
    "    (label1, values1), (label2, values2) = df.groupby(between)[dv]\n",
    "    testresult = pg.ttest(values1, values2)\n",
    "    display(testresult)\n",
    "    print(f\"The difference between group {label1} (M={np.mean(values1):.2f}, SD={np.std(values1):.3f}) \"\n",
    "         f\"and group {label2} (M={np.mean(values2):.2f}, SD={np.std(values2):.3f}) \"\n",
    "         f\"is {'not ' if not (testresult['p-val']<.05).iloc[0] else''}significant, \"\n",
    "         f\"t({testresult.iloc[0,1]})={testresult.iloc[0,0]:.3f}, \"\n",
    "         f\"p={testresult.iloc[0,3]:.4f}.\")\n"
   ]
  },
  {
   "cell_type": "code",
   "execution_count": 34,
   "metadata": {},
   "outputs": [
    {
     "data": {
      "text/html": [
       "<div>\n",
       "<style scoped>\n",
       "    .dataframe tbody tr th:only-of-type {\n",
       "        vertical-align: middle;\n",
       "    }\n",
       "\n",
       "    .dataframe tbody tr th {\n",
       "        vertical-align: top;\n",
       "    }\n",
       "\n",
       "    .dataframe thead th {\n",
       "        text-align: right;\n",
       "    }\n",
       "</style>\n",
       "<table border=\"1\" class=\"dataframe\">\n",
       "  <thead>\n",
       "    <tr style=\"text-align: right;\">\n",
       "      <th></th>\n",
       "      <th>T</th>\n",
       "      <th>dof</th>\n",
       "      <th>alternative</th>\n",
       "      <th>p-val</th>\n",
       "      <th>CI95%</th>\n",
       "      <th>cohen-d</th>\n",
       "      <th>BF10</th>\n",
       "      <th>power</th>\n",
       "    </tr>\n",
       "  </thead>\n",
       "  <tbody>\n",
       "    <tr>\n",
       "      <th>T-test</th>\n",
       "      <td>-0.30316</td>\n",
       "      <td>188.45437</td>\n",
       "      <td>two-sided</td>\n",
       "      <td>0.76210</td>\n",
       "      <td>[-1212464.35, 889439.37]</td>\n",
       "      <td>0.03654</td>\n",
       "      <td>0.122</td>\n",
       "      <td>0.06370</td>\n",
       "    </tr>\n",
       "  </tbody>\n",
       "</table>\n",
       "</div>"
      ],
      "text/plain": [
       "              T       dof alternative   p-val                     CI95%  \\\n",
       "T-test -0.30316 188.45437   two-sided 0.76210  [-1212464.35, 889439.37]   \n",
       "\n",
       "        cohen-d   BF10   power  \n",
       "T-test  0.03654  0.122 0.06370  "
      ]
     },
     "metadata": {},
     "output_type": "display_data"
    },
    {
     "name": "stdout",
     "output_type": "stream",
     "text": [
      "The difference between group 0 (M=1370236.91, SD=3827813.432) and group 1 (M=1531749.40, SD=5473570.637) is not significant, t(188.4543697961352)=-0.303, p=0.7621.\n"
     ]
    }
   ],
   "source": [
    "pandasttest(df, dv = 'total_engagement', between = 'left_leaning')"
   ]
  },
  {
   "cell_type": "markdown",
   "metadata": {},
   "source": [
    "Based on the t-test I can conclude that the differnece in engagement between left- and right-leaning pages is not significant. Hence, the answer to the RQ is that there is no relation between the political leaning of the page and the amount of engagement it has recieved."
   ]
  }
 ],
 "metadata": {
  "kernelspec": {
   "display_name": "Python 3",
   "language": "python",
   "name": "python3"
  },
  "language_info": {
   "codemirror_mode": {
    "name": "ipython",
    "version": 3
   },
   "file_extension": ".py",
   "mimetype": "text/x-python",
   "name": "python",
   "nbconvert_exporter": "python",
   "pygments_lexer": "ipython3",
   "version": "3.8.10"
  }
 },
 "nbformat": 4,
 "nbformat_minor": 5
}
