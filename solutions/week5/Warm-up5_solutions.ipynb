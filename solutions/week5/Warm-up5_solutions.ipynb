{
 "cells": [
  {
   "cell_type": "markdown",
   "id": "demographic-identifier",
   "metadata": {},
   "source": [
    "# Warm-up excercises week 5\n",
    "\n",
    "Now that you have seen how to conduct basic analyses and to visualise data, it's time for you to combine apply this knowledge. To prepare for the tutorial, we ask you to complete two warm-up excercises.\n",
    "\n",
    "\n",
    "Some important notes for the excercises:\n",
    "\n",
    "* These excercises are a warming up meant to help you get ready for class. Make sure to give them a try on all of them. If you get an error message, try to troubleshoot it (using Google often helps). If all else fails, go to the next excercise (but make sure to hand it in).\n",
    "* While we of course like when you get all the answers right, the important thing is to exercise and apply the knowledge. So we will still accept solutions that may not be complete, as long as we see enough effort for each excercise. \n",
    "* Delivering the warm-up excercises on time is critical, as it helps also prepare for the tutorial session.\n",
    "* As these excercises are meant to help you participate in the tutorial and us to make sure you can get as much as possible from the tutorials, we do not expect perfect answers. However, this is important to show the effort you have put in the excercises and what obstacles you faced."
   ]
  },
  {
   "cell_type": "markdown",
   "id": "animal-admission",
   "metadata": {},
   "source": [
    "For this week warm-up excercices, we will use the dataset about customers of a company that you also worked with last week. There are two short excercises for you to practice data exploration and visualization.\n",
    "\n",
    "Let's start by importing the necessary packages and loading the data. "
   ]
  },
  {
   "cell_type": "code",
   "execution_count": 3,
   "id": "physical-arbor",
   "metadata": {},
   "outputs": [],
   "source": [
    "import pandas as pd\n",
    "import matplotlib.pyplot as plt\n",
    "import seaborn as sns "
   ]
  },
  {
   "cell_type": "code",
   "execution_count": 4,
   "id": "stable-companion",
   "metadata": {},
   "outputs": [],
   "source": [
    "df = pd.read_csv('marketing_campaign.csv', sep=';')"
   ]
  },
  {
   "cell_type": "markdown",
   "id": "environmental-storm",
   "metadata": {},
   "source": [
    "# Excercise 1\n",
    "\n",
    "1. Explore the demographics of the customer base by answering the follolwing questions:\n",
    "    - What is the minimum, maximum and average age of the customers in the dataset? <br /> *Tip: you need to create a new column based on `Year_Birth`. <br /> Reminder: Pandas makes it easy to run numerical operations across columns. Let's say that I want to multiply the value that is in column A by the value that is in column B and store it in column C... I can simply use: `df['C'] = df['A'] * df['B']`*\n",
    "    - What are the relative and absolute frequencies of education levels of customers in the dataset? <br /> *Tip: the same method of pandas allows you to compute relative and absolute frequencies for a column.*\n",
    "2. You want to know what type of customers file complains. Get an initial idea of the relationship between 1) education level, 2) age, and if someone has complaint in the last two years. <br />*Tip: use `.crosstab` or `group_by` to get an idea about the relation between two variables.*\n",
    "3. Is there a correlation between one's income and number of purchases they make online and in store?"
   ]
  },
  {
   "cell_type": "code",
   "execution_count": 7,
   "id": "inner-outside",
   "metadata": {},
   "outputs": [],
   "source": [
    "#creating the age variable\n",
    "df['Age'] = 2022 - df['Year_Birth']"
   ]
  },
  {
   "cell_type": "code",
   "execution_count": 5,
   "id": "engaged-treat",
   "metadata": {},
   "outputs": [
    {
     "data": {
      "text/plain": [
       "count    2240.000000\n",
       "mean       53.194196\n",
       "std        11.984069\n",
       "min        26.000000\n",
       "25%        45.000000\n",
       "50%        52.000000\n",
       "75%        63.000000\n",
       "max       129.000000\n",
       "Name: Age, dtype: float64"
      ]
     },
     "execution_count": 5,
     "metadata": {},
     "output_type": "execute_result"
    }
   ],
   "source": [
    "#descriptive statostics for age\n",
    "df['Age'].describe()"
   ]
  },
  {
   "cell_type": "markdown",
   "id": "scientific-alfred",
   "metadata": {},
   "source": [
    "The youngest person in the dataset is 26 years old, the oldest: 129 years old (probably a mistake) and the average age is 53."
   ]
  },
  {
   "cell_type": "code",
   "execution_count": 6,
   "id": "sacred-flight",
   "metadata": {},
   "outputs": [
    {
     "data": {
      "text/plain": [
       "Index(['customer_id', 'Year_Birth', 'Education', 'Marital_Status', 'Income',\n",
       "       'Kidhome', 'Teenhome', 'Dt_Customer', 'Recency', 'MntWines',\n",
       "       'MntFruits', 'MntMeatProducts', 'MntFishProducts', 'MntSweetProducts',\n",
       "       'MntGoldProds', 'NumDealsPurchases', 'NumWebPurchases',\n",
       "       'NumCatalogPurchases', 'NumStorePurchases', 'NumWebVisitsMonth',\n",
       "       'AcceptedCmp3', 'AcceptedCmp4', 'AcceptedCmp5', 'AcceptedCmp1',\n",
       "       'AcceptedCmp2', 'Complain', 'Z_CostContact', 'Z_Revenue', 'Age'],\n",
       "      dtype='object')"
      ]
     },
     "execution_count": 6,
     "metadata": {},
     "output_type": "execute_result"
    }
   ],
   "source": [
    "df.columns"
   ]
  },
  {
   "cell_type": "code",
   "execution_count": 5,
   "id": "needed-fetish",
   "metadata": {},
   "outputs": [
    {
     "data": {
      "text/plain": [
       "Graduation    1126\n",
       "PhD            486\n",
       "Master         370\n",
       "2n Cycle       202\n",
       "Basic           54\n",
       "Name: Education, dtype: int64"
      ]
     },
     "execution_count": 5,
     "metadata": {},
     "output_type": "execute_result"
    }
   ],
   "source": [
    "#Absolute frequencies\n",
    "df['Education'].value_counts()"
   ]
  },
  {
   "cell_type": "code",
   "execution_count": 8,
   "id": "progressive-female",
   "metadata": {},
   "outputs": [
    {
     "data": {
      "text/plain": [
       "Graduation    0.503128\n",
       "PhD           0.217158\n",
       "Master        0.165326\n",
       "2n Cycle      0.090259\n",
       "Basic         0.024129\n",
       "Name: Education, dtype: float64"
      ]
     },
     "execution_count": 8,
     "metadata": {},
     "output_type": "execute_result"
    }
   ],
   "source": [
    "#Relative frequencies\n",
    "df['Education'].value_counts(normalize=True)"
   ]
  },
  {
   "cell_type": "code",
   "execution_count": 16,
   "id": "furnished-arabic",
   "metadata": {},
   "outputs": [
    {
     "data": {
      "text/html": [
       "<div>\n",
       "<style scoped>\n",
       "    .dataframe tbody tr th:only-of-type {\n",
       "        vertical-align: middle;\n",
       "    }\n",
       "\n",
       "    .dataframe tbody tr th {\n",
       "        vertical-align: top;\n",
       "    }\n",
       "\n",
       "    .dataframe thead th {\n",
       "        text-align: right;\n",
       "    }\n",
       "</style>\n",
       "<table border=\"1\" class=\"dataframe\">\n",
       "  <thead>\n",
       "    <tr style=\"text-align: right;\">\n",
       "      <th>Complain</th>\n",
       "      <th>0</th>\n",
       "      <th>1</th>\n",
       "    </tr>\n",
       "    <tr>\n",
       "      <th>Education</th>\n",
       "      <th></th>\n",
       "      <th></th>\n",
       "    </tr>\n",
       "  </thead>\n",
       "  <tbody>\n",
       "    <tr>\n",
       "      <th>2n Cycle</th>\n",
       "      <td>198</td>\n",
       "      <td>4</td>\n",
       "    </tr>\n",
       "    <tr>\n",
       "      <th>Basic</th>\n",
       "      <td>54</td>\n",
       "      <td>0</td>\n",
       "    </tr>\n",
       "    <tr>\n",
       "      <th>Graduation</th>\n",
       "      <td>1112</td>\n",
       "      <td>14</td>\n",
       "    </tr>\n",
       "    <tr>\n",
       "      <th>Master</th>\n",
       "      <td>368</td>\n",
       "      <td>2</td>\n",
       "    </tr>\n",
       "    <tr>\n",
       "      <th>PhD</th>\n",
       "      <td>485</td>\n",
       "      <td>1</td>\n",
       "    </tr>\n",
       "  </tbody>\n",
       "</table>\n",
       "</div>"
      ],
      "text/plain": [
       "Complain       0   1\n",
       "Education           \n",
       "2n Cycle     198   4\n",
       "Basic         54   0\n",
       "Graduation  1112  14\n",
       "Master       368   2\n",
       "PhD          485   1"
      ]
     },
     "execution_count": 16,
     "metadata": {},
     "output_type": "execute_result"
    }
   ],
   "source": [
    "#crosstabs between education and number of complains\n",
    "pd.crosstab(df['Education'], df['Complain'])"
   ]
  },
  {
   "cell_type": "markdown",
   "id": "collectible-cylinder",
   "metadata": {},
   "source": [
    "We see that in general there are a few complains and that customers with all levels of education file them except basic (but we have to note that there are few people with basic education in the data)."
   ]
  },
  {
   "cell_type": "code",
   "execution_count": 17,
   "id": "specified-military",
   "metadata": {},
   "outputs": [
    {
     "data": {
      "text/plain": [
       "Complain\n",
       "0    53.159081\n",
       "1    56.904762\n",
       "Name: Age, dtype: float64"
      ]
     },
     "execution_count": 17,
     "metadata": {},
     "output_type": "execute_result"
    }
   ],
   "source": [
    "#Grouping by complain (categorical variable) and getting mean age per group\n",
    "df.groupby('Complain')['Age'].mean()"
   ]
  },
  {
   "cell_type": "markdown",
   "id": "dimensional-manhattan",
   "metadata": {},
   "source": [
    "There is a slight difference in age between people filing and not filing a complain - the ones who have filed a complain are on average older (but we do not know if this difference is significant)."
   ]
  },
  {
   "cell_type": "markdown",
   "id": "numeric-treatment",
   "metadata": {},
   "source": [
    "# Excercise 2\n",
    "\n",
    "Visualize different variables in your dataset. Make sure to consider what the appropriate visualization is for each variable.\n",
    "1. Visualize age distribution of the customers.\n",
    "2. Visualize education levels of the customers.\n",
    "3. Visualize the relation between\n",
    "    * education level and if someone has complaint in the last two years,\n",
    "    * age and if someone has complaint in the last two years. \n",
    "4. Visualize the relation between one's income and number of purchases they have made online and in store. "
   ]
  },
  {
   "cell_type": "code",
   "execution_count": 8,
   "id": "postal-ribbon",
   "metadata": {},
   "outputs": [
    {
     "data": {
      "text/plain": [
       "<AxesSubplot:ylabel='Frequency'>"
      ]
     },
     "execution_count": 8,
     "metadata": {},
     "output_type": "execute_result"
    },
    {
     "data": {
      "image/png": "[encoded data removed]",
      "text/plain": [
       "<Figure size 432x288 with 1 Axes>"
      ]
     },
     "metadata": {
      "needs_background": "light"
     },
     "output_type": "display_data"
    }
   ],
   "source": [
    "#Histogram for age with matplotlib\n",
    "df['Age'].plot.hist()"
   ]
  },
  {
   "cell_type": "code",
   "execution_count": 10,
   "id": "hairy-culture",
   "metadata": {},
   "outputs": [
    {
     "data": {
      "text/plain": [
       "<AxesSubplot:xlabel='Age', ylabel='Count'>"
      ]
     },
     "execution_count": 10,
     "metadata": {},
     "output_type": "execute_result"
    },
    {
     "data": {
      "image/png": "[encoded data removed]",
      "text/plain": [
       "<Figure size 432x288 with 1 Axes>"
      ]
     },
     "metadata": {
      "needs_background": "light"
     },
     "output_type": "display_data"
    }
   ],
   "source": [
    "#Histogram with seaborn\n",
    "sns.histplot(data=df, x='Age')"
   ]
  },
  {
   "cell_type": "code",
   "execution_count": 9,
   "id": "common-poker",
   "metadata": {},
   "outputs": [
    {
     "data": {
      "text/plain": [
       "<AxesSubplot:>"
      ]
     },
     "execution_count": 9,
     "metadata": {},
     "output_type": "execute_result"
    },
    {
     "data": {
      "image/png": "[encoded data removed]",
      "text/plain": [
       "<Figure size 432x288 with 1 Axes>"
      ]
     },
     "metadata": {
      "needs_background": "light"
     },
     "output_type": "display_data"
    }
   ],
   "source": [
    "#Bar chart for education levels\n",
    "df['Education'].value_counts().plot.bar()"
   ]
  },
  {
   "cell_type": "code",
   "execution_count": 11,
   "id": "occupational-woman",
   "metadata": {},
   "outputs": [
    {
     "data": {
      "text/plain": [
       "<AxesSubplot:xlabel='Education', ylabel='count'>"
      ]
     },
     "execution_count": 11,
     "metadata": {},
     "output_type": "execute_result"
    },
    {
     "data": {
      "image/png": "[encoded data removed]",
      "text/plain": [
       "<Figure size 432x288 with 1 Axes>"
      ]
     },
     "metadata": {
      "needs_background": "light"
     },
     "output_type": "display_data"
    }
   ],
   "source": [
    "#bar chart with seaborn\n",
    "sns.countplot(x = 'Education', data=df)"
   ]
  },
  {
   "cell_type": "code",
   "execution_count": 12,
   "id": "central-press",
   "metadata": {},
   "outputs": [
    {
     "data": {
      "text/plain": [
       "<AxesSubplot:xlabel='Education', ylabel='Complain'>"
      ]
     },
     "execution_count": 12,
     "metadata": {},
     "output_type": "execute_result"
    },
    {
     "data": {
      "image/png": "[encoded data removed]",
      "text/plain": [
       "<Figure size 432x288 with 1 Axes>"
      ]
     },
     "metadata": {
      "needs_background": "light"
     },
     "output_type": "display_data"
    }
   ],
   "source": [
    "#Bar chart for categorical IV (education) and binary DV (complain)\n",
    "sns.barplot(x=\"Education\", y=\"Complain\", data=df, ci=95)"
   ]
  },
  {
   "cell_type": "code",
   "execution_count": 13,
   "id": "severe-blake",
   "metadata": {},
   "outputs": [
    {
     "data": {
      "text/plain": [
       "<AxesSubplot:xlabel='Education', ylabel='Age'>"
      ]
     },
     "execution_count": 13,
     "metadata": {},
     "output_type": "execute_result"
    },
    {
     "data": {
      "image/png": "[encoded data removed]",
      "text/plain": [
       "<Figure size 432x288 with 1 Axes>"
      ]
     },
     "metadata": {
      "needs_background": "light"
     },
     "output_type": "display_data"
    }
   ],
   "source": [
    "#Bar chart for categorical IV (education) and continous DV (Age)\n",
    "sns.barplot(x=\"Education\", y=\"Age\", data=df, ci=95)"
   ]
  },
  {
   "cell_type": "code",
   "execution_count": 23,
   "id": "dense-gospel",
   "metadata": {},
   "outputs": [
    {
     "data": {
      "text/plain": [
       "<matplotlib.legend.Legend at 0x7fbfc80db670>"
      ]
     },
     "execution_count": 23,
     "metadata": {},
     "output_type": "execute_result"
    },
    {
     "data": {
      "image/png": "[encoded data removed]",
      "text/plain": [
       "<Figure size 1080x576 with 1 Axes>"
      ]
     },
     "metadata": {
      "needs_background": "light"
     },
     "output_type": "display_data"
    }
   ],
   "source": [
    "#Regplot for plotting a relation between two continous variables and adding two line to the plot\n",
    "plt.figure(figsize = (15,8))\n",
    "ax = sns.regplot(x='Income', y='NumStorePurchases', data=df, label='Store')\n",
    "ax = sns.regplot(x='Income', y='NumWebPurchases', data=df, label='Online')\n",
    "ax.set_ylabel(\"# purchases\")\n",
    "ax.set_xlabel(\"Income\")\n",
    "ax.legend()"
   ]
  },
  {
   "cell_type": "code",
   "execution_count": null,
   "id": "announced-europe",
   "metadata": {},
   "outputs": [],
   "source": []
  }
 ],
 "metadata": {
  "kernelspec": {
   "display_name": "Python 3 (ipykernel)",
   "language": "python",
   "name": "python3"
  },
  "language_info": {
   "codemirror_mode": {
    "name": "ipython",
    "version": 3
   },
   "file_extension": ".py",
   "mimetype": "text/x-python",
   "name": "python",
   "nbconvert_exporter": "python",
   "pygments_lexer": "ipython3",
   "version": "3.9.7"
  }
 },
 "nbformat": 4,
 "nbformat_minor": 5
}
