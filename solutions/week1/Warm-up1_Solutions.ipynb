{
 "cells": [
  {
   "cell_type": "markdown",
   "id": "terminal-salmon",
   "metadata": {},
   "source": [
    "# Warm-up excercises week 1"
   ]
  },
  {
   "cell_type": "markdown",
   "id": "electrical-invite",
   "metadata": {},
   "source": [
    "Now that we've seen how Python and Jupyter Notebooks work and that you have read about Computational Communication Science, it's time for you to combine apply this knowledge. To prepare for the tutorial, we ask you to complete two warm-up excercises.\n",
    "\n",
    "\n",
    "Some important notes for the excercises:\n",
    "\n",
    "* These excercises are a warming up meant to help you get ready for class. Make sure to give them a try on all of them. If you get an error message, try to troubleshoot it (using Google often helps). If all else fails, go to the next excercise (but make sure to hand it in).\n",
    "* While we of course like when you get all the answers right, the important thing is to exercise and apply the knowledge. So we will still accept solutions that may not be complete, as long as we see enough effort for each excercise. \n",
    "* Delivering the warm-up excercises on time is critical, as it helps also prepare for the tutorial session. *info on handing-in*\n",
    "* As these excercises are meant to help you participate in the tutorial and us to make sure you can get as much as possible from the tutorials, we do not expect perfect answers. However, this is important to show the effort you have put in the excercises and what obstacles you faced."
   ]
  },
  {
   "cell_type": "markdown",
   "id": "impressive-timothy",
   "metadata": {},
   "source": [
    "# Excercise 1\n",
    "\n",
    "Check out how to add (1) a list, (2) an image and (3) a link in a cell in MarkDown. You may need to search this online. Check how to do it, and include a list, an image and a link in your notebook below."
   ]
  },
  {
   "cell_type": "markdown",
   "id": "printable-thanks",
   "metadata": {},
   "source": [
    "## Answer to excercise 1\n",
    "\n",
    "<img src='image.png'>\n",
    "\n",
    "![image_alt](image.png)\n",
    "\n",
    "https://uva.nl\n",
    "\n",
    "\n",
    "[this is a link](https://uva.nl)"
   ]
  },
  {
   "cell_type": "markdown",
   "id": "veterinary-front",
   "metadata": {},
   "source": [
    "# Excercise 2\n",
    "\n",
    "We would like you to conduct a number of operations in Python to practice what we discussed in the lecture:\n",
    "* Create three objects: a, b and c.  `a` takes the value `5`, `b` takes the value `7.7` and `c` takes the value `\"5\"`\n",
    "    * What data types do these objects have? Use appropiate python code to show it.\n",
    "    * Create a sum of these objects. *Tip: make sure they have the appropriate data type*\n",
    "* Create a dictonary that contains information on age for a number of individuals: Anne, 8 years old; Brian, 7 years old; Rebecah, 7 years old; Nick, 9 years old; Emma, 6 years old.\n",
    "    * Write a Python script to add information on Liz, 10 years old to the dictionary."
   ]
  },
  {
   "cell_type": "markdown",
   "id": "skilled-sudan",
   "metadata": {},
   "source": [
    "### Question 1"
   ]
  },
  {
   "cell_type": "code",
   "execution_count": 2,
   "id": "closing-universal",
   "metadata": {},
   "outputs": [],
   "source": [
    "#Creating three objects\n",
    "a=5\n",
    "b=7.7\n",
    "c=\"5\""
   ]
  },
  {
   "cell_type": "code",
   "execution_count": 3,
   "id": "tracked-conspiracy",
   "metadata": {},
   "outputs": [
    {
     "data": {
      "text/plain": [
       "(int, float, str)"
      ]
     },
     "execution_count": 3,
     "metadata": {},
     "output_type": "execute_result"
    }
   ],
   "source": [
    "#Checking data types\n",
    "type(a), type(b), type(c)"
   ]
  },
  {
   "cell_type": "code",
   "execution_count": 4,
   "id": "accurate-grill",
   "metadata": {},
   "outputs": [],
   "source": [
    "#Changing data type for the string\n",
    "c = int(c)"
   ]
  },
  {
   "cell_type": "code",
   "execution_count": 5,
   "id": "palestinian-indianapolis",
   "metadata": {},
   "outputs": [
    {
     "data": {
      "text/plain": [
       "17.7"
      ]
     },
     "execution_count": 5,
     "metadata": {},
     "output_type": "execute_result"
    }
   ],
   "source": [
    "#Creating a sum\n",
    "a+b+c"
   ]
  },
  {
   "cell_type": "markdown",
   "id": "valued-criterion",
   "metadata": {},
   "source": [
    "### Question 2"
   ]
  },
  {
   "cell_type": "code",
   "execution_count": 6,
   "id": "tender-recycling",
   "metadata": {},
   "outputs": [],
   "source": [
    "#Creating a dictionary\n",
    "ages = {\"Anne\": 8, \"Brian\": 7, \"Rebecah\": 7, \"Nick\": 9, \"Emma\": 6}"
   ]
  },
  {
   "cell_type": "code",
   "execution_count": 7,
   "id": "facial-opportunity",
   "metadata": {},
   "outputs": [
    {
     "data": {
      "text/plain": [
       "{'Anne': 8, 'Brian': 7, 'Rebecah': 7, 'Nick': 9, 'Emma': 6}"
      ]
     },
     "execution_count": 7,
     "metadata": {},
     "output_type": "execute_result"
    }
   ],
   "source": [
    "#Printing the dictionary\n",
    "ages"
   ]
  },
  {
   "cell_type": "code",
   "execution_count": 8,
   "id": "governing-worker",
   "metadata": {},
   "outputs": [],
   "source": [
    "#Adding key-value for Liz\n",
    "ages['Liz']=10"
   ]
  },
  {
   "cell_type": "code",
   "execution_count": 9,
   "id": "beneficial-technique",
   "metadata": {},
   "outputs": [
    {
     "data": {
      "text/plain": [
       "{'Anne': 8, 'Brian': 7, 'Rebecah': 7, 'Nick': 9, 'Emma': 6, 'Liz': 10}"
      ]
     },
     "execution_count": 9,
     "metadata": {},
     "output_type": "execute_result"
    }
   ],
   "source": [
    "#Printing the dictionary\n",
    "ages"
   ]
  },
  {
   "cell_type": "code",
   "execution_count": null,
   "id": "meaningful-passenger",
   "metadata": {},
   "outputs": [],
   "source": []
  }
 ],
 "metadata": {
  "kernelspec": {
   "display_name": "Python 3",
   "language": "python",
   "name": "python3"
  },
  "language_info": {
   "codemirror_mode": {
    "name": "ipython",
    "version": 3
   },
   "file_extension": ".py",
   "mimetype": "text/x-python",
   "name": "python",
   "nbconvert_exporter": "python",
   "pygments_lexer": "ipython3",
   "version": "3.9.1"
  }
 },
 "nbformat": 4,
 "nbformat_minor": 5
}
