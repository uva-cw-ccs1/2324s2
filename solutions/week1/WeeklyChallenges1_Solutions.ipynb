{
 "cells": [
  {
   "cell_type": "markdown",
   "id": "broke-mechanics",
   "metadata": {},
   "source": [
    "# Challenges week 1"
   ]
  },
  {
   "cell_type": "markdown",
   "id": "cutting-animation",
   "metadata": {},
   "source": [
    "Now that you have some expereince with Jupyter notebooks and variables in Python, it's time for you to combine and apply this week's knowledge. You will start working on these challenges in the tutorial and will be asked to complete them by the end of the week. \n",
    "\n",
    "In each challange, you are asked to provide the programing solution to it as well as a technical interpretation explaining the steps taken and the result.\n",
    "\n",
    "\n",
    "Some important notes for the challenges:\n",
    "\n",
    "* If you get an error message, try to troubleshoot it (using Google often helps). If all else fails, go to the next excercise (but make sure to hand it in).\n",
    "* We will make sure to provide feedback and improvement suggestions in the rubric. Make sure to read them; they will help you improve next week."
   ]
  },
  {
   "cell_type": "markdown",
   "id": "complimentary-reply",
   "metadata": {},
   "source": [
    "# Challenge 1\n",
    "\n",
    "Below, you have a list that contains referals (places from which a visitor has entered a website) for one hour of the day. This is an example of digital trace data. Imagine that this is a list of referrals to the website of a news organization for one article. The list is ordered chronologically (i.e., first entries start at the full hour). \n",
    "\n",
    "Using the skills you have learned in the tutorial provide the following information:\n",
    "* How many readers did the article have in one hour?\n",
    "* Where did the first five visits come from?\n",
    "* Where did the last 10 visitors come from?\n",
    "* How many visitors came from the newsletter?\n",
    "\n",
    "For each question, provide the necessary code and a short explanation of the choices you made."
   ]
  },
  {
   "cell_type": "code",
   "execution_count": 1,
   "id": "deluxe-treat",
   "metadata": {},
   "outputs": [],
   "source": [
    "visitors = ['homepage',\n",
    "            'homepage',\n",
    "            'homepage',\n",
    "            'instagram app',\n",
    "            'facebook app',\n",
    "            'campaign utx=1389',\n",
    "            'homepage',\n",
    "            'facebook app',\n",
    "            'homepage',\n",
    "            'google search',\n",
    "            'homepage',\n",
    "            'facebook app',\n",
    "            'homepage',\n",
    "            'homepage',\n",
    "            'homepage',\n",
    "            'campaign utx=1389',\n",
    "            'homepage',\n",
    "            'homepage',\n",
    "            'instagram app',\n",
    "            'campaign utx=1389',\n",
    "            'facebook.com',\n",
    "            'facebook app',\n",
    "            'google search',\n",
    "            'homepage',\n",
    "            'campaign utx=1389',\n",
    "            'campaign utx=1389',\n",
    "            'homepage',\n",
    "            'instagram app',\n",
    "            'homepage',\n",
    "            'homepage',\n",
    "            'homepage',\n",
    "            'instagram app',\n",
    "            'campaign utx=1389',\n",
    "            'instagram app',\n",
    "            'facebook app',\n",
    "            'homepage',\n",
    "            'facebook.com',\n",
    "            'campaign utx=1389'\n",
    "            'campaign utx=1389'\n",
    "            'homepage',\n",
    "            'homepage',\n",
    "            'facebook.com',\n",
    "            'instagram app',\n",
    "            'instagram app',\n",
    "            'campaign utx=1389',\n",
    "            'homepage',\n",
    "            'facebook.com',\n",
    "            'newsletter',\n",
    "            'newsletter',\n",
    "            'homepage',\n",
    "            'newsletter',\n",
    "            'homepage',\n",
    "            'newsletter',\n",
    "            'facebook.com',\n",
    "            'facebook.com',\n",
    "            'homepage',\n",
    "            'newsletter',\n",
    "            'newsletter',\n",
    "            'newsletter',\n",
    "            'google search',\n",
    "            'campaign utx=1389',\n",
    "            'newsletter',\n",
    "            'newsletter']"
   ]
  },
  {
   "cell_type": "code",
   "execution_count": 2,
   "id": "alone-dance",
   "metadata": {},
   "outputs": [
    {
     "data": {
      "text/plain": [
       "61"
      ]
     },
     "execution_count": 2,
     "metadata": {},
     "output_type": "execute_result"
    }
   ],
   "source": [
    "#Q1 - number of visitors\n",
    "len(visitors)"
   ]
  },
  {
   "cell_type": "markdown",
   "id": "contrary-reservoir",
   "metadata": {},
   "source": [
    "By checking the lenght of the list using the `len` function, we can see how many visitors read the articles, namely 61."
   ]
  },
  {
   "cell_type": "code",
   "execution_count": 3,
   "id": "diagnostic-surrey",
   "metadata": {},
   "outputs": [
    {
     "data": {
      "text/plain": [
       "['homepage', 'homepage', 'homepage', 'instagram app', 'facebook app']"
      ]
     },
     "execution_count": 3,
     "metadata": {},
     "output_type": "execute_result"
    }
   ],
   "source": [
    "#Q2 First 5 visitors\n",
    "visitors[:5]"
   ]
  },
  {
   "cell_type": "markdown",
   "id": "excess-pilot",
   "metadata": {},
   "source": [
    "To find out the referals for the first five visits, we need to print the first 5 objects from the list. It looks like three visitors came from the homepage, one using the Instagram app and one using the Facebook app."
   ]
  },
  {
   "cell_type": "code",
   "execution_count": 4,
   "id": "spectacular-district",
   "metadata": {},
   "outputs": [
    {
     "data": {
      "text/plain": [
       "['facebook.com',\n",
       " 'facebook.com',\n",
       " 'homepage',\n",
       " 'newsletter',\n",
       " 'newsletter',\n",
       " 'newsletter',\n",
       " 'google search',\n",
       " 'campaign utx=1389',\n",
       " 'newsletter',\n",
       " 'newsletter']"
      ]
     },
     "execution_count": 4,
     "metadata": {},
     "output_type": "execute_result"
    }
   ],
   "source": [
    "#Q3 last 10 visitors\n",
    "visitors[-10:]"
   ]
  },
  {
   "cell_type": "markdown",
   "id": "painful-cherry",
   "metadata": {},
   "source": [
    "To find out the referals for the 10 last visits, we need to print the last 10 objects from the list. We co do it by specifying how many object we want to print counting from the end of the list (-10). It looks like two visitors came fromthe Facebook page, one from the homepage, five from the newsletter, one found the page via Google and one clicked on our campaign utx=1389. "
   ]
  },
  {
   "cell_type": "code",
   "execution_count": 5,
   "id": "scenic-lawrence",
   "metadata": {},
   "outputs": [
    {
     "data": {
      "text/plain": [
       "9"
      ]
     },
     "execution_count": 5,
     "metadata": {},
     "output_type": "execute_result"
    }
   ],
   "source": [
    "#Q4 number of visitors from the newsletter\n",
    "visitors.count('newsletter')"
   ]
  },
  {
   "cell_type": "markdown",
   "id": "national-africa",
   "metadata": {},
   "source": [
    "We can use the method `.count` that allows us to count the number of occurences of an object in a list. We apply this method to the list, which allows us to see that 9 visitors came from the newsletter."
   ]
  },
  {
   "cell_type": "markdown",
   "id": "successful-maker",
   "metadata": {},
   "source": [
    "# Challenge 2\n",
    "\n",
    "The table  contains information on grades for an assigment. \n",
    "\n",
    "| Name  | Grade |\n",
    "|-------|-------|\n",
    "| Emily | 6     |\n",
    "| Ron   | 7     |\n",
    "| John  | 7     |\n",
    "| Amber | 8     |\n",
    "| Emma  | 6     |\n",
    "| David | 5     |\n",
    "| Anne  | 6     |\n",
    "\n",
    "1. Create a dictionary with the information from the table.\n",
    "2. Using the dictionary you have created, write a code to compute average grade for the assignment. \n",
    "3. Rob was late with his assignment. Add his grade (7) to the dictionary.\n",
    "\n",
    "For each question, provide the necessary code and a short explanation of the choices you made."
   ]
  },
  {
   "cell_type": "code",
   "execution_count": 6,
   "id": "caring-sessions",
   "metadata": {},
   "outputs": [],
   "source": [
    "#Q1 Dictionary creation\n",
    "grades = {'Emily': 6, 'Ron': 7, 'John': 7, 'Amber': 8, 'Emma':6, 'David': 5, 'Anne': 6}"
   ]
  },
  {
   "cell_type": "markdown",
   "id": "opened-forty",
   "metadata": {},
   "source": [
    "To create a dictionary, I use `{}` and define the names as keys and the grades as values. I name the dictionary grades. "
   ]
  },
  {
   "cell_type": "code",
   "execution_count": 7,
   "id": "saved-suffering",
   "metadata": {},
   "outputs": [
    {
     "data": {
      "text/plain": [
       "6.428571428571429"
      ]
     },
     "execution_count": 7,
     "metadata": {},
     "output_type": "execute_result"
    }
   ],
   "source": [
    "#Q2 computaing average\n",
    "sum(grades.values())/len(grades)"
   ]
  },
  {
   "cell_type": "markdown",
   "id": "metropolitan-timer",
   "metadata": {},
   "source": [
    "To compute average, I use functions seen in class. I need to divide the sum of all grades by the number of students. To access the gardes from the dictionary, I use `.values()`. This creates a list with all values from this dictionary. To get the sum of this list, I use the function `sum` that allows to create a sum of a list of integers. \n",
    "\n",
    "To get the number of students, I use `len` function on the dictionary. It returns how many key-value pairs are in the dictionary. \n",
    "\n",
    "Now, to get average, I need to devide the sum by the lenght of the dictionary. This shows me that the average grade was 6.43."
   ]
  },
  {
   "cell_type": "code",
   "execution_count": 8,
   "id": "expensive-lincoln",
   "metadata": {},
   "outputs": [
    {
     "data": {
      "text/plain": [
       "{'Emily': 6,\n",
       " 'Ron': 7,\n",
       " 'John': 7,\n",
       " 'Amber': 8,\n",
       " 'Emma': 6,\n",
       " 'David': 5,\n",
       " 'Anne': 6,\n",
       " 'Rob': 7}"
      ]
     },
     "execution_count": 8,
     "metadata": {},
     "output_type": "execute_result"
    }
   ],
   "source": [
    "#Q3 adding key-value pair\n",
    "grades['Rob'] = 7\n",
    "grades"
   ]
  },
  {
   "cell_type": "markdown",
   "id": "third-entrance",
   "metadata": {},
   "source": [
    "To add the grade of Rob, I need to add a key-value pair where `'Rob'` is the key and `7` the value. Printing the contents of the dictionary shows that the operation was succesful."
   ]
  },
  {
   "cell_type": "markdown",
   "id": "individual-match",
   "metadata": {},
   "source": [
    "# Challenge 3\n",
    "\n",
    "This is the most important challenge of this week, as we will use the concepts here to think how to organize our (digital) data. The paragraph below contains a lot of information. How would you organize this data in a way that you can visualize and work with it later? Consider using lists, dictionaries, tuples... or whatever makes sense to you!\n",
    "\n",
    "Please explain why you decided to organize the data in the way that you did. In this explanation, consider both *technical* aspects (i.e., why lists, dictionaries, tuples or combinations thereof) and *substantive* aspects (i.e., why you structured the data in the way that you did).\n",
    "\n",
    "```\n",
    "Lake Aarens is 28 years old, works as an analyst at ING,\n",
    "and is mother to a 3 year old boy. She is married to John.\n",
    "On average, she spends 30 minutes a day on social media.\n",
    "John Aarens is 32 years old, works as a journalist at NRC, \n",
    "and was born in the US. He has a 3 year old boy and is married to Lake. \n",
    "On average, he spends 45 minutes on social media.\n",
    "Catharine Blakeslee is a student at the University of Amsterdam, born in 2000, \n",
    "she is not married and does not have children. She was born in the UK.\n",
    "She does not use social media.\n",
    "Walter Menno is 71 years old and is on pention. He is married to Anne\n",
    "They do not have children. On average, Walter spends 1.5 hours a day on social media.\n",
    "Anne Menno is 66 years old and works part-time as a teacher in a primary school.\n",
    "She is married to Menno. On average, she spends 15 minutes a day on social media. \n",
    "```"
   ]
  },
  {
   "cell_type": "code",
   "execution_count": 9,
   "id": "described-interest",
   "metadata": {},
   "outputs": [],
   "source": [
    "people = {'Lake Aarens': {'Job': 'analyst', 'Age': 28, 'Country_birth': None, 'Kids': 1, 'marital_status': 1, 'SM_use':30},\n",
    "          'John Aarens': {'Job': 'journalist', 'Age': 32, 'Country_birth': 'USA', 'Kids': 1, 'marital_status': 1, 'SM_use':45},\n",
    "          'Catharine Blakeslee': {'Job': 'student', 'Age': 22, 'Country_birth': 'UK', 'Kids': 0, 'marital_status': 0, 'SM_use':0},          \n",
    "          'Walter Menno': {'Job': 'pentionist', 'Age': 71, 'Country_birth': None, 'Kids': 0, 'marital_status': 1, 'SM_use':90}, \n",
    "          'Anne Menno': {'Job': 'teacher', 'Age': 66, 'Country_birth': None, 'Kids': 0, 'marital_status': 1, 'SM_use':15},           \n",
    "}\n"
   ]
  },
  {
   "cell_type": "markdown",
   "id": "second-death",
   "metadata": {},
   "source": [
    "One way to organize the data is to use nested dictionaries in which the names of the people are the keys and information about them are dictionaries with all variables we have available. In those dictionaries, the keys can be seen as \"variable names\" and values are the information about the people. This allows me to easily access necessary information\n",
    "* For country of bith, the information is incomplete for some individuals. Therefore, their value is `None`. \n",
    "* For martial status, I assigned value 1 for married invididuals and 0 for not married."
   ]
  },
  {
   "cell_type": "code",
   "execution_count": 10,
   "id": "focal-academy",
   "metadata": {},
   "outputs": [
    {
     "data": {
      "text/plain": [
       "28"
      ]
     },
     "execution_count": 10,
     "metadata": {},
     "output_type": "execute_result"
    }
   ],
   "source": [
    "people['Lake Aarens']['Age']"
   ]
  },
  {
   "cell_type": "markdown",
   "id": "refined-neighborhood",
   "metadata": {},
   "source": [
    "I can now access the data by refering to my dictionary people, then the key `'Lake Aarens'` and then the key `'Age'` within the dictionary associated with the key `'Lake Aarens'`.\n",
    "\n",
    "*Note: this is only one way to organize this data. Multiple solutions to this challenge are possible.*"
   ]
  },
  {
   "cell_type": "code",
   "execution_count": null,
   "id": "brave-florida",
   "metadata": {},
   "outputs": [],
   "source": []
  }
 ],
 "metadata": {
  "kernelspec": {
   "display_name": "Python 3",
   "language": "python",
   "name": "python3"
  },
  "language_info": {
   "codemirror_mode": {
    "name": "ipython",
    "version": 3
   },
   "file_extension": ".py",
   "mimetype": "text/x-python",
   "name": "python",
   "nbconvert_exporter": "python",
   "pygments_lexer": "ipython3",
   "version": "3.9.1"
  }
 },
 "nbformat": 4,
 "nbformat_minor": 5
}
