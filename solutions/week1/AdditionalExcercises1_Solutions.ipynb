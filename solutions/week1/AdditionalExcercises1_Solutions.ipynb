{
 "cells": [
  {
   "cell_type": "markdown",
   "id": "missing-metallic",
   "metadata": {},
   "source": [
    "# Additional excercises week 1\n",
    "\n",
    "This notebook contains additional excercises. These excercises will either be used in the tutorials or you can solve them to practice the skills of the week further."
   ]
  },
  {
   "cell_type": "markdown",
   "id": "following-luxembourg",
   "metadata": {},
   "source": [
    "## Excercise 1\n",
    "\n",
    "When you code, it is important to explain what you are doing so that you and others can follow all the steps. In Jupyter Notebooks we use Markdown cells to include additional text next to code. Markdown has a lot of opportunities for text editing. You can find an overview here: <https://www.markdownguide.org/basic-syntax/> and here: <https://github.com/adam-p/markdown-here/wiki/Markdown-Cheatsheet#tables>.\n",
    "\n",
    "1. Make a numbered and bulleted list in Markdown.\n",
    "2. Create and simple table in Markdown with three columns and three rows. "
   ]
  },
  {
   "cell_type": "markdown",
   "id": "single-taxation",
   "metadata": {},
   "source": [
    "1. Numbered\n",
    "2. list\n",
    "\n",
    "* Bulleted\n",
    "* List\n",
    "\n",
    "| C1 | C2 | C1 |\n",
    "|----|----|----|\n",
    "| R1 |    |    |\n",
    "| R2 |    |    |"
   ]
  },
  {
   "cell_type": "markdown",
   "id": "present-sister",
   "metadata": {},
   "source": [
    "## Excercise 2\n",
    "\n",
    "Below, you have a dictionary of countries with their official ISO country codes. Use this dictionary to answer the following questions.\n",
    "\n",
    "1. What are they keys and what are the values in this dictionary?\n",
    "2. What are the country codes for Ireland, Spain, Turkey and the Netherlands?\n",
    "3. Are these all correct? If not, make sure to replace the value with the correct country code or add the appropriate key, value pair."
   ]
  },
  {
   "cell_type": "code",
   "execution_count": 1,
   "id": "handed-nerve",
   "metadata": {},
   "outputs": [],
   "source": [
    "countries = {'AFGHANISTAN': 'AF',\n",
    " 'ÅLAND ISLANDS': 'AX',\n",
    " 'ALBANIA': 'AL',\n",
    " 'ALGERIA': 'DZ',\n",
    " 'AMERICAN SAMOA': 'AS',\n",
    " 'ANDORRA': 'AD',\n",
    " 'ANGOLA': 'AO',\n",
    " 'ANGUILLA': 'AI',\n",
    " 'ANTARCTICA': 'AQ',\n",
    " 'ANTIGUA AND BARBUDA': 'AG',\n",
    " 'ARGENTINA': 'AR',\n",
    " 'ARMENIA': 'AM',\n",
    " 'ARUBA': 'AW',\n",
    " 'AUSTRALIA': 'AU',\n",
    " 'AUSTRIA': 'AT',\n",
    " 'AZERBAIJAN': 'AZ',\n",
    " 'BAHAMAS': 'BS',\n",
    " 'BAHRAIN': 'BH',\n",
    " 'BANGLADESH': 'BD',\n",
    " 'BARBADOS': 'BB',\n",
    " 'BELARUS': 'BY',\n",
    " 'BELGIUM': 'BE',\n",
    " 'BELIZE': 'BZ',\n",
    " 'BENIN': 'BJ',\n",
    " 'BERMUDA': 'BM',\n",
    " 'BHUTAN': 'BT',\n",
    " 'BOLIVIA, PLURINATIONAL STATE OF': 'BO',\n",
    " 'BONAIRE, SINT EUSTATIUS AND SABA': 'BQ',\n",
    " 'BOSNIA AND HERZEGOVINA': 'BA',\n",
    " 'BOTSWANA': 'BW',\n",
    " 'BOUVET ISLAND': 'BV',\n",
    " 'BRAZIL': 'BR',\n",
    " 'BRITISH INDIAN OCEAN TERRITORY': 'IO',\n",
    " 'BRUNEI DARUSSALAM': 'BN',\n",
    " 'BULGARIA': 'BG',\n",
    " 'BURKINA FASO': 'BF',\n",
    " 'BURUNDI': 'BI',\n",
    " 'CAMBODIA': 'KH',\n",
    " 'CAMEROON': 'CM',\n",
    " 'CANADA': 'CA',\n",
    " 'CAPE VERDE': 'CV',\n",
    " 'CAYMAN ISLANDS': 'KY',\n",
    " 'CENTRAL AFRICAN REPUBLIC': 'CF',\n",
    " 'CHAD': 'TD',\n",
    " 'CHILE': 'CL',\n",
    " 'CHINA': 'CN',\n",
    " 'CHRISTMAS ISLAND': 'CX',\n",
    " 'COCOS (KEELING) ISLANDS': 'CC',\n",
    " 'COLOMBIA': 'CO',\n",
    " 'COMOROS': 'KM',\n",
    " 'CONGO': 'CG',\n",
    " 'CONGO, THE DEMOCRATIC REPUBLIC OF THE': 'CD',\n",
    " 'COOK ISLANDS': 'CK',\n",
    " 'COSTA RICA': 'CR',\n",
    " \"CÔTE D'IVOIRE\": 'CI',\n",
    " 'CROATIA': 'HR',\n",
    " 'CUBA': 'CU',\n",
    " 'CURAÇAO': 'CW',\n",
    " 'CYPRUS': 'CY',\n",
    " 'CZECH REPUBLIC': 'CZ',\n",
    " 'DENMARK': 'DK',\n",
    " 'DJIBOUTI': 'DJ',\n",
    " 'DOMINICA': 'DM',\n",
    " 'DOMINICAN REPUBLIC': 'DO',\n",
    " 'ECUADOR': 'EC',\n",
    " 'EGYPT': 'EG',\n",
    " 'EL SALVADOR': 'SV',\n",
    " 'EQUATORIAL GUINEA': 'GQ',\n",
    " 'ERITREA': 'ER',\n",
    " 'ESTONIA': 'EE',\n",
    " 'ETHIOPIA': 'ET',\n",
    " 'FALKLAND ISLANDS (MALVINAS)': 'FK',\n",
    " 'FAROE ISLANDS': 'FO',\n",
    " 'FIJI': 'FJ',\n",
    " 'FINLAND': 'FI',\n",
    " 'FRANCE': 'FR',\n",
    " 'FRENCH GUIANA': 'GF',\n",
    " 'FRENCH POLYNESIA': 'PF',\n",
    " 'FRENCH SOUTHERN TERRITORIES': 'TF',\n",
    " 'GABON': 'GA',\n",
    " 'GAMBIA': 'GM',\n",
    " 'GEORGIA': 'GE',\n",
    " 'GERMANY': 'DE',\n",
    " 'GHANA': 'GH',\n",
    " 'GIBRALTAR': 'GI',\n",
    " 'GREECE': 'GR',\n",
    " 'GREENLAND': 'GL',\n",
    " 'GRENADA': 'GD',\n",
    " 'GUADELOUPE': 'GP',\n",
    " 'GUAM': 'GU',\n",
    " 'GUATEMALA': 'GT',\n",
    " 'GUERNSEY': 'GG',\n",
    " 'GUINEA': 'GN',\n",
    " 'GUINEA-BISSAU': 'GW',\n",
    " 'GUYANA': 'GY',\n",
    " 'HAITI': 'HT',\n",
    " 'HEARD ISLAND AND MCDONALD ISLANDS': 'HM',\n",
    " 'HOLY SEE (VATICAN CITY STATE)': 'VA',\n",
    " 'HONDURAS': 'HN',\n",
    " 'HONG KONG': 'HK',\n",
    " 'HUNGARY': 'HU',\n",
    " 'ICELAND': 'IS',\n",
    " 'INDIA': 'IN',\n",
    " 'INDONESIA': 'ID',\n",
    " 'IRAN, ISLAMIC REPUBLIC OF': 'IR',\n",
    " 'IRAQ': 'IQ',\n",
    " 'IRELAND': 'IRELAND',\n",
    " 'ISLE OF MAN': 'IM',\n",
    " 'ISRAEL': 'IL',\n",
    " 'ITALY': 'IT',\n",
    " 'JAMAICA': 'JM',\n",
    " 'JAPAN': 'JP',\n",
    " 'JERSEY': 'JE',\n",
    " 'JORDAN': 'JO',\n",
    " 'KAZAKHSTAN': 'KZ',\n",
    " 'KENYA': 'KE',\n",
    " 'KIRIBATI': 'KI',\n",
    " \"KOREA, DEMOCRATIC PEOPLE'S REPUBLIC OF\": 'KP',\n",
    " 'KOREA, REPUBLIC OF': 'KR',\n",
    " 'KUWAIT': 'KW',\n",
    " 'KYRGYZSTAN': 'KG',\n",
    " \"LAO PEOPLE'S DEMOCRATIC REPUBLIC\": 'LA',\n",
    " 'LATVIA': 'LV',\n",
    " 'LEBANON': 'LB',\n",
    " 'LESOTHO': 'LS',\n",
    " 'LIBERIA': 'LR',\n",
    " 'LIBYAN ARAB JAMAHIRIYA': 'LY',\n",
    " 'LIECHTENSTEIN': 'LI',\n",
    " 'LITHUANIA': 'LT',\n",
    " 'LUXEMBOURG': 'LU',\n",
    " 'MACAO': 'MO',\n",
    " 'MACEDONIA, THE FORMER YUGOSLAV REPUBLIC OF': 'MK',\n",
    " 'MADAGASCAR': 'MG',\n",
    " 'MALAWI': 'MW',\n",
    " 'MALAYSIA': 'MY',\n",
    " 'MALDIVES': 'MV',\n",
    " 'MALI': 'ML',\n",
    " 'MALTA': 'MT',\n",
    " 'MARSHALL ISLANDS': 'MH',\n",
    " 'MARTINIQUE': 'MQ',\n",
    " 'MAURITANIA': 'MR',\n",
    " 'MAURITIUS': 'MU',\n",
    " 'MAYOTTE': 'YT',\n",
    " 'MEXICO': 'MX',\n",
    " 'MICRONESIA, FEDERATED STATES OF': 'FM',\n",
    " 'MOLDOVA, REPUBLIC OF': 'MD',\n",
    " 'MONACO': 'MC',\n",
    " 'MONGOLIA': 'MN',\n",
    " 'MONTENEGRO': 'ME',\n",
    " 'MONTSERRAT': 'MS',\n",
    " 'MOROCCO': 'MA',\n",
    " 'MOZAMBIQUE': 'MZ',\n",
    " 'MYANMAR': 'MM',\n",
    " 'NAMIBIA': 'NA',\n",
    " 'NAURU': 'NR',\n",
    " 'NEPAL': 'NP',\n",
    " 'NEW CALEDONIA': 'NC',\n",
    " 'NEW ZEALAND': 'NZ',\n",
    " 'NICARAGUA': 'NI',\n",
    " 'NIGER': 'NE',\n",
    " 'NIGERIA': 'NG',\n",
    " 'NIUE': 'NU',\n",
    " 'NORFOLK ISLAND': 'NF',\n",
    " 'NORTHERN MARIANA ISLANDS': 'MP',\n",
    " 'NORWAY': 'NO',\n",
    " 'OMAN': 'OM',\n",
    " 'PAKISTAN': 'PK',\n",
    " 'PALAU': 'PW',\n",
    " 'PALESTINIAN TERRITORY, OCCUPIED': 'PS',\n",
    " 'PANAMA': 'PA',\n",
    " 'PAPUA NEW GUINEA': 'PG',\n",
    " 'PARAGUAY': 'PY',\n",
    " 'PERU': 'PE',\n",
    " 'PHILIPPINES': 'PH',\n",
    " 'PITCAIRN': 'PN',\n",
    " 'POLAND': 'PL',\n",
    " 'PORTUGAL': 'PT',\n",
    " 'PUERTO RICO': 'PR',\n",
    " 'QATAR': 'QA',\n",
    " 'RÉUNION': 'RE',\n",
    " 'ROMANIA': 'RO',\n",
    " 'RUSSIAN FEDERATION': 'RU',\n",
    " 'RWANDA': 'RW',\n",
    " 'SAINT BARTHÉLEMY': 'BL',\n",
    " 'SAINT HELENA, ASCENSION AND TRISTAN DA CUNHA': 'SH',\n",
    " 'SAINT KITTS AND NEVIS': 'KN',\n",
    " 'SAINT LUCIA': 'LC',\n",
    " 'SAINT MARTIN (FRENCH PART)': 'MF',\n",
    " 'SAINT PIERRE AND MIQUELON': 'PM',\n",
    " 'SAINT VINCENT AND THE GRENADINES': 'VC',\n",
    " 'SAMOA': 'WS',\n",
    " 'SAN MARINO': 'SM',\n",
    " 'SAO TOME AND PRINCIPE': 'ST',\n",
    " 'SAUDI ARABIA': 'SA',\n",
    " 'SENEGAL': 'SN',\n",
    " 'SERBIA': 'RS',\n",
    " 'SEYCHELLES': 'SC',\n",
    " 'SIERRA LEONE': 'SL',\n",
    " 'SINGAPORE': 'SG',\n",
    " 'SINT MAARTEN (DUTCH PART)': 'SX',\n",
    " 'SLOVAKIA': 'SK',\n",
    " 'SLOVENIA': 'SI',\n",
    " 'SOLOMON ISLANDS': 'SB',\n",
    " 'SOMALIA': 'SO',\n",
    " 'SOUTH AFRICA': 'ZA',\n",
    " 'SOUTH GEORGIA AND THE SOUTH SANDWICH ISLANDS': 'GS',\n",
    " 'SOUTH SUDAN': 'SS',\n",
    " 'SPAIN': 'ES',\n",
    " 'SRI LANKA': 'LK',\n",
    " 'SUDAN': 'SD',\n",
    " 'SURINAME': 'SR',\n",
    " 'SVALBARD AND JAN MAYEN': 'SJ',\n",
    " 'SWAZILAND': 'SZ',\n",
    " 'SWEDEN': 'SE',\n",
    " 'SWITZERLAND': 'CH',\n",
    " 'SYRIAN ARAB REPUBLIC': 'SY',\n",
    " 'TAIWAN, PROVINCE OF CHINA': 'TW',\n",
    " 'TAJIKISTAN': 'TJ',\n",
    " 'TANZANIA, UNITED REPUBLIC OF': 'TZ',\n",
    " 'THAILAND': 'TH',\n",
    " 'TIMOR-LESTE': 'TL',\n",
    " 'TOGO': 'TG',\n",
    " 'TOKELAU': 'TK',\n",
    " 'TONGA': 'TO',\n",
    " 'TRINIDAD AND TOBAGO': 'TT',\n",
    " 'TUNISIA': 'TN',\n",
    " 'TR': 'TURKEY',\n",
    " 'TURKMENISTAN': 'TM',\n",
    " 'TURKS AND CAICOS ISLANDS': 'TC',\n",
    " 'TUVALU': 'TV',\n",
    " 'UGANDA': 'UG',\n",
    " 'UKRAINE': 'UA',\n",
    " 'UNITED ARAB EMIRATES': 'AE',\n",
    " 'UNITED KINGDOM': 'GB',\n",
    " 'UNITED STATES': 'US',\n",
    " 'UNITED STATES MINOR OUTLYING ISLANDS': 'UM',\n",
    " 'URUGUAY': 'UY',\n",
    " 'UZBEKISTAN': 'UZ',\n",
    " 'VANUATU': 'VU',\n",
    " 'VENEZUELA, BOLIVARIAN REPUBLIC OF': 'VE',\n",
    " 'VIET NAM': 'VN',\n",
    " 'VIRGIN ISLANDS, BRITISH': 'VG',\n",
    " 'VIRGIN ISLANDS, U.S.': 'VI',\n",
    " 'WALLIS AND FUTUNA': 'WF',\n",
    " 'WESTERN SAHARA': 'EH',\n",
    " 'YEMEN': 'YE',\n",
    " 'ZAMBIA': 'ZM',\n",
    " 'ZIMBABWE': 'ZW'}"
   ]
  },
  {
   "cell_type": "markdown",
   "id": "opponent-vegetarian",
   "metadata": {},
   "source": [
    "First, I use methods `.keys()` and `.values()` to print all keys and values."
   ]
  },
  {
   "cell_type": "code",
   "execution_count": 2,
   "id": "practical-fleet",
   "metadata": {},
   "outputs": [
    {
     "data": {
      "text/plain": [
       "dict_keys(['AFGHANISTAN', 'ÅLAND ISLANDS', 'ALBANIA', 'ALGERIA', 'AMERICAN SAMOA', 'ANDORRA', 'ANGOLA', 'ANGUILLA', 'ANTARCTICA', 'ANTIGUA AND BARBUDA', 'ARGENTINA', 'ARMENIA', 'ARUBA', 'AUSTRALIA', 'AUSTRIA', 'AZERBAIJAN', 'BAHAMAS', 'BAHRAIN', 'BANGLADESH', 'BARBADOS', 'BELARUS', 'BELGIUM', 'BELIZE', 'BENIN', 'BERMUDA', 'BHUTAN', 'BOLIVIA, PLURINATIONAL STATE OF', 'BONAIRE, SINT EUSTATIUS AND SABA', 'BOSNIA AND HERZEGOVINA', 'BOTSWANA', 'BOUVET ISLAND', 'BRAZIL', 'BRITISH INDIAN OCEAN TERRITORY', 'BRUNEI DARUSSALAM', 'BULGARIA', 'BURKINA FASO', 'BURUNDI', 'CAMBODIA', 'CAMEROON', 'CANADA', 'CAPE VERDE', 'CAYMAN ISLANDS', 'CENTRAL AFRICAN REPUBLIC', 'CHAD', 'CHILE', 'CHINA', 'CHRISTMAS ISLAND', 'COCOS (KEELING) ISLANDS', 'COLOMBIA', 'COMOROS', 'CONGO', 'CONGO, THE DEMOCRATIC REPUBLIC OF THE', 'COOK ISLANDS', 'COSTA RICA', \"CÔTE D'IVOIRE\", 'CROATIA', 'CUBA', 'CURAÇAO', 'CYPRUS', 'CZECH REPUBLIC', 'DENMARK', 'DJIBOUTI', 'DOMINICA', 'DOMINICAN REPUBLIC', 'ECUADOR', 'EGYPT', 'EL SALVADOR', 'EQUATORIAL GUINEA', 'ERITREA', 'ESTONIA', 'ETHIOPIA', 'FALKLAND ISLANDS (MALVINAS)', 'FAROE ISLANDS', 'FIJI', 'FINLAND', 'FRANCE', 'FRENCH GUIANA', 'FRENCH POLYNESIA', 'FRENCH SOUTHERN TERRITORIES', 'GABON', 'GAMBIA', 'GEORGIA', 'GERMANY', 'GHANA', 'GIBRALTAR', 'GREECE', 'GREENLAND', 'GRENADA', 'GUADELOUPE', 'GUAM', 'GUATEMALA', 'GUERNSEY', 'GUINEA', 'GUINEA-BISSAU', 'GUYANA', 'HAITI', 'HEARD ISLAND AND MCDONALD ISLANDS', 'HOLY SEE (VATICAN CITY STATE)', 'HONDURAS', 'HONG KONG', 'HUNGARY', 'ICELAND', 'INDIA', 'INDONESIA', 'IRAN, ISLAMIC REPUBLIC OF', 'IRAQ', 'IRELAND', 'ISLE OF MAN', 'ISRAEL', 'ITALY', 'JAMAICA', 'JAPAN', 'JERSEY', 'JORDAN', 'KAZAKHSTAN', 'KENYA', 'KIRIBATI', \"KOREA, DEMOCRATIC PEOPLE'S REPUBLIC OF\", 'KOREA, REPUBLIC OF', 'KUWAIT', 'KYRGYZSTAN', \"LAO PEOPLE'S DEMOCRATIC REPUBLIC\", 'LATVIA', 'LEBANON', 'LESOTHO', 'LIBERIA', 'LIBYAN ARAB JAMAHIRIYA', 'LIECHTENSTEIN', 'LITHUANIA', 'LUXEMBOURG', 'MACAO', 'MACEDONIA, THE FORMER YUGOSLAV REPUBLIC OF', 'MADAGASCAR', 'MALAWI', 'MALAYSIA', 'MALDIVES', 'MALI', 'MALTA', 'MARSHALL ISLANDS', 'MARTINIQUE', 'MAURITANIA', 'MAURITIUS', 'MAYOTTE', 'MEXICO', 'MICRONESIA, FEDERATED STATES OF', 'MOLDOVA, REPUBLIC OF', 'MONACO', 'MONGOLIA', 'MONTENEGRO', 'MONTSERRAT', 'MOROCCO', 'MOZAMBIQUE', 'MYANMAR', 'NAMIBIA', 'NAURU', 'NEPAL', 'NEW CALEDONIA', 'NEW ZEALAND', 'NICARAGUA', 'NIGER', 'NIGERIA', 'NIUE', 'NORFOLK ISLAND', 'NORTHERN MARIANA ISLANDS', 'NORWAY', 'OMAN', 'PAKISTAN', 'PALAU', 'PALESTINIAN TERRITORY, OCCUPIED', 'PANAMA', 'PAPUA NEW GUINEA', 'PARAGUAY', 'PERU', 'PHILIPPINES', 'PITCAIRN', 'POLAND', 'PORTUGAL', 'PUERTO RICO', 'QATAR', 'RÉUNION', 'ROMANIA', 'RUSSIAN FEDERATION', 'RWANDA', 'SAINT BARTHÉLEMY', 'SAINT HELENA, ASCENSION AND TRISTAN DA CUNHA', 'SAINT KITTS AND NEVIS', 'SAINT LUCIA', 'SAINT MARTIN (FRENCH PART)', 'SAINT PIERRE AND MIQUELON', 'SAINT VINCENT AND THE GRENADINES', 'SAMOA', 'SAN MARINO', 'SAO TOME AND PRINCIPE', 'SAUDI ARABIA', 'SENEGAL', 'SERBIA', 'SEYCHELLES', 'SIERRA LEONE', 'SINGAPORE', 'SINT MAARTEN (DUTCH PART)', 'SLOVAKIA', 'SLOVENIA', 'SOLOMON ISLANDS', 'SOMALIA', 'SOUTH AFRICA', 'SOUTH GEORGIA AND THE SOUTH SANDWICH ISLANDS', 'SOUTH SUDAN', 'SPAIN', 'SRI LANKA', 'SUDAN', 'SURINAME', 'SVALBARD AND JAN MAYEN', 'SWAZILAND', 'SWEDEN', 'SWITZERLAND', 'SYRIAN ARAB REPUBLIC', 'TAIWAN, PROVINCE OF CHINA', 'TAJIKISTAN', 'TANZANIA, UNITED REPUBLIC OF', 'THAILAND', 'TIMOR-LESTE', 'TOGO', 'TOKELAU', 'TONGA', 'TRINIDAD AND TOBAGO', 'TUNISIA', 'TR', 'TURKMENISTAN', 'TURKS AND CAICOS ISLANDS', 'TUVALU', 'UGANDA', 'UKRAINE', 'UNITED ARAB EMIRATES', 'UNITED KINGDOM', 'UNITED STATES', 'UNITED STATES MINOR OUTLYING ISLANDS', 'URUGUAY', 'UZBEKISTAN', 'VANUATU', 'VENEZUELA, BOLIVARIAN REPUBLIC OF', 'VIET NAM', 'VIRGIN ISLANDS, BRITISH', 'VIRGIN ISLANDS, U.S.', 'WALLIS AND FUTUNA', 'WESTERN SAHARA', 'YEMEN', 'ZAMBIA', 'ZIMBABWE'])"
      ]
     },
     "execution_count": 2,
     "metadata": {},
     "output_type": "execute_result"
    }
   ],
   "source": [
    "countries.keys()"
   ]
  },
  {
   "cell_type": "code",
   "execution_count": 3,
   "id": "operational-ordering",
   "metadata": {},
   "outputs": [
    {
     "data": {
      "text/plain": [
       "dict_values(['AF', 'AX', 'AL', 'DZ', 'AS', 'AD', 'AO', 'AI', 'AQ', 'AG', 'AR', 'AM', 'AW', 'AU', 'AT', 'AZ', 'BS', 'BH', 'BD', 'BB', 'BY', 'BE', 'BZ', 'BJ', 'BM', 'BT', 'BO', 'BQ', 'BA', 'BW', 'BV', 'BR', 'IO', 'BN', 'BG', 'BF', 'BI', 'KH', 'CM', 'CA', 'CV', 'KY', 'CF', 'TD', 'CL', 'CN', 'CX', 'CC', 'CO', 'KM', 'CG', 'CD', 'CK', 'CR', 'CI', 'HR', 'CU', 'CW', 'CY', 'CZ', 'DK', 'DJ', 'DM', 'DO', 'EC', 'EG', 'SV', 'GQ', 'ER', 'EE', 'ET', 'FK', 'FO', 'FJ', 'FI', 'FR', 'GF', 'PF', 'TF', 'GA', 'GM', 'GE', 'DE', 'GH', 'GI', 'GR', 'GL', 'GD', 'GP', 'GU', 'GT', 'GG', 'GN', 'GW', 'GY', 'HT', 'HM', 'VA', 'HN', 'HK', 'HU', 'IS', 'IN', 'ID', 'IR', 'IQ', 'IRELAND', 'IM', 'IL', 'IT', 'JM', 'JP', 'JE', 'JO', 'KZ', 'KE', 'KI', 'KP', 'KR', 'KW', 'KG', 'LA', 'LV', 'LB', 'LS', 'LR', 'LY', 'LI', 'LT', 'LU', 'MO', 'MK', 'MG', 'MW', 'MY', 'MV', 'ML', 'MT', 'MH', 'MQ', 'MR', 'MU', 'YT', 'MX', 'FM', 'MD', 'MC', 'MN', 'ME', 'MS', 'MA', 'MZ', 'MM', 'NA', 'NR', 'NP', 'NC', 'NZ', 'NI', 'NE', 'NG', 'NU', 'NF', 'MP', 'NO', 'OM', 'PK', 'PW', 'PS', 'PA', 'PG', 'PY', 'PE', 'PH', 'PN', 'PL', 'PT', 'PR', 'QA', 'RE', 'RO', 'RU', 'RW', 'BL', 'SH', 'KN', 'LC', 'MF', 'PM', 'VC', 'WS', 'SM', 'ST', 'SA', 'SN', 'RS', 'SC', 'SL', 'SG', 'SX', 'SK', 'SI', 'SB', 'SO', 'ZA', 'GS', 'SS', 'ES', 'LK', 'SD', 'SR', 'SJ', 'SZ', 'SE', 'CH', 'SY', 'TW', 'TJ', 'TZ', 'TH', 'TL', 'TG', 'TK', 'TO', 'TT', 'TN', 'TURKEY', 'TM', 'TC', 'TV', 'UG', 'UA', 'AE', 'GB', 'US', 'UM', 'UY', 'UZ', 'VU', 'VE', 'VN', 'VG', 'VI', 'WF', 'EH', 'YE', 'ZM', 'ZW'])"
      ]
     },
     "execution_count": 3,
     "metadata": {},
     "output_type": "execute_result"
    }
   ],
   "source": [
    "countries.values()"
   ]
  },
  {
   "cell_type": "markdown",
   "id": "forty-acquisition",
   "metadata": {},
   "source": [
    "It looks like the keys are country names and values country codes."
   ]
  },
  {
   "cell_type": "code",
   "execution_count": 4,
   "id": "rising-batman",
   "metadata": {},
   "outputs": [
    {
     "data": {
      "text/plain": [
       "'IRELAND'"
      ]
     },
     "execution_count": 4,
     "metadata": {},
     "output_type": "execute_result"
    }
   ],
   "source": [
    "countries['IRELAND']"
   ]
  },
  {
   "cell_type": "code",
   "execution_count": 5,
   "id": "exempt-firmware",
   "metadata": {},
   "outputs": [
    {
     "data": {
      "text/plain": [
       "'ES'"
      ]
     },
     "execution_count": 5,
     "metadata": {},
     "output_type": "execute_result"
    }
   ],
   "source": [
    "countries['SPAIN']"
   ]
  },
  {
   "cell_type": "code",
   "execution_count": 6,
   "id": "maritime-brick",
   "metadata": {},
   "outputs": [
    {
     "ename": "KeyError",
     "evalue": "'TURKEY'",
     "output_type": "error",
     "traceback": [
      "\u001b[0;31m---------------------------------------------------------------------------\u001b[0m",
      "\u001b[0;31mKeyError\u001b[0m                                  Traceback (most recent call last)",
      "\u001b[0;32m<ipython-input-6-83a8c3805c67>\u001b[0m in \u001b[0;36m<module>\u001b[0;34m\u001b[0m\n\u001b[0;32m----> 1\u001b[0;31m \u001b[0mcountries\u001b[0m\u001b[0;34m[\u001b[0m\u001b[0;34m'TURKEY'\u001b[0m\u001b[0;34m]\u001b[0m\u001b[0;34m\u001b[0m\u001b[0;34m\u001b[0m\u001b[0m\n\u001b[0m",
      "\u001b[0;31mKeyError\u001b[0m: 'TURKEY'"
     ]
    }
   ],
   "source": [
    "countries['TURKEY']"
   ]
  },
  {
   "cell_type": "code",
   "execution_count": 7,
   "id": "disciplinary-velvet",
   "metadata": {},
   "outputs": [
    {
     "ename": "KeyError",
     "evalue": "'NETHERLANDS'",
     "output_type": "error",
     "traceback": [
      "\u001b[0;31m---------------------------------------------------------------------------\u001b[0m",
      "\u001b[0;31mKeyError\u001b[0m                                  Traceback (most recent call last)",
      "\u001b[0;32m<ipython-input-7-893027f94dd2>\u001b[0m in \u001b[0;36m<module>\u001b[0;34m\u001b[0m\n\u001b[0;32m----> 1\u001b[0;31m \u001b[0mcountries\u001b[0m\u001b[0;34m[\u001b[0m\u001b[0;34m'NETHERLANDS'\u001b[0m\u001b[0;34m]\u001b[0m\u001b[0;34m\u001b[0m\u001b[0;34m\u001b[0m\u001b[0m\n\u001b[0m",
      "\u001b[0;31mKeyError\u001b[0m: 'NETHERLANDS'"
     ]
    }
   ],
   "source": [
    "countries['NETHERLANDS']"
   ]
  },
  {
   "cell_type": "markdown",
   "id": "located-beaver",
   "metadata": {},
   "source": [
    "It looks like the code for Ireland is wrong (it is the country name instead) and there are no codes for Turkey and the Netherlands. Only the code for Spain is correct (ES)."
   ]
  },
  {
   "cell_type": "code",
   "execution_count": 8,
   "id": "annual-electronics",
   "metadata": {},
   "outputs": [],
   "source": [
    "#Changing value for Ireland\n",
    "countries['IRELAND'] = 'IE'"
   ]
  },
  {
   "cell_type": "code",
   "execution_count": 9,
   "id": "binary-interface",
   "metadata": {},
   "outputs": [],
   "source": [
    "#Adding country code for Turkey\n",
    "countries['TURKEY'] = 'TUR'"
   ]
  },
  {
   "cell_type": "code",
   "execution_count": 10,
   "id": "greek-tuning",
   "metadata": {},
   "outputs": [],
   "source": [
    "#Adding country code for Netherlands\n",
    "countries['NETHERLANDS'] = 'NL'"
   ]
  },
  {
   "cell_type": "markdown",
   "id": "fifteen-craft",
   "metadata": {},
   "source": [
    "# Excercise 3\n",
    "\n",
    "Below, you have a list of numbers. Answer the following questions\n",
    "1. How many items are there in the list?\n",
    "2. Write a program to remove the fourth item and add it to the second position and at the end of the list.\n"
   ]
  },
  {
   "cell_type": "code",
   "execution_count": 11,
   "id": "convinced-internship",
   "metadata": {},
   "outputs": [],
   "source": [
    "sample_list = [34, 54, 67, 89, 11, 43, 94, 87, 54, 76, 98, 104, 76, 33]"
   ]
  },
  {
   "cell_type": "markdown",
   "id": "ordered-blowing",
   "metadata": {},
   "source": [
    "To check the number of elements in the list, I use the function `len`. There are 14 elements."
   ]
  },
  {
   "cell_type": "code",
   "execution_count": 12,
   "id": "double-function",
   "metadata": {},
   "outputs": [
    {
     "data": {
      "text/plain": [
       "14"
      ]
     },
     "execution_count": 12,
     "metadata": {},
     "output_type": "execute_result"
    }
   ],
   "source": [
    "len(sample_list)"
   ]
  },
  {
   "cell_type": "markdown",
   "id": "consolidated-crime",
   "metadata": {},
   "source": [
    "To remove an item, I use the method `.pop`."
   ]
  },
  {
   "cell_type": "code",
   "execution_count": 13,
   "id": "difficult-leone",
   "metadata": {},
   "outputs": [
    {
     "data": {
      "text/plain": [
       "89"
      ]
     },
     "execution_count": 13,
     "metadata": {},
     "output_type": "execute_result"
    }
   ],
   "source": [
    "sample_list.pop(3)"
   ]
  },
  {
   "cell_type": "code",
   "execution_count": 14,
   "id": "capable-korea",
   "metadata": {},
   "outputs": [
    {
     "data": {
      "text/plain": [
       "[34, 54, 67, 11, 43, 94, 87, 54, 76, 98, 104, 76, 33]"
      ]
     },
     "execution_count": 14,
     "metadata": {},
     "output_type": "execute_result"
    }
   ],
   "source": [
    "#Checking if it has worked\n",
    "sample_list"
   ]
  },
  {
   "cell_type": "markdown",
   "id": "collective-witch",
   "metadata": {},
   "source": [
    "To add an item at a specific position, I can use `.insert(position, object)`."
   ]
  },
  {
   "cell_type": "code",
   "execution_count": 15,
   "id": "broad-colors",
   "metadata": {},
   "outputs": [],
   "source": [
    "#Adding at position 2 (starting counting with 0)\n",
    "sample_list.insert(1,89)"
   ]
  },
  {
   "cell_type": "code",
   "execution_count": 16,
   "id": "faced-dance",
   "metadata": {},
   "outputs": [
    {
     "data": {
      "text/plain": [
       "[34, 89, 54, 67, 11, 43, 94, 87, 54, 76, 98, 104, 76, 33]"
      ]
     },
     "execution_count": 16,
     "metadata": {},
     "output_type": "execute_result"
    }
   ],
   "source": [
    "#Checking if it has worked\n",
    "sample_list"
   ]
  },
  {
   "cell_type": "markdown",
   "id": "flush-denial",
   "metadata": {},
   "source": [
    "To add an item at the end, I can use `.append(object)`."
   ]
  },
  {
   "cell_type": "code",
   "execution_count": 17,
   "id": "illegal-terrain",
   "metadata": {},
   "outputs": [],
   "source": [
    "sample_list.append(89)"
   ]
  },
  {
   "cell_type": "code",
   "execution_count": 18,
   "id": "visible-operation",
   "metadata": {},
   "outputs": [
    {
     "data": {
      "text/plain": [
       "[34, 89, 54, 67, 11, 43, 94, 87, 54, 76, 98, 104, 76, 33, 89]"
      ]
     },
     "execution_count": 18,
     "metadata": {},
     "output_type": "execute_result"
    }
   ],
   "source": [
    "sample_list"
   ]
  }
 ],
 "metadata": {
  "kernelspec": {
   "display_name": "Python 3",
   "language": "python",
   "name": "python3"
  },
  "language_info": {
   "codemirror_mode": {
    "name": "ipython",
    "version": 3
   },
   "file_extension": ".py",
   "mimetype": "text/x-python",
   "name": "python",
   "nbconvert_exporter": "python",
   "pygments_lexer": "ipython3",
   "version": "3.9.1"
  }
 },
 "nbformat": 4,
 "nbformat_minor": 5
}
