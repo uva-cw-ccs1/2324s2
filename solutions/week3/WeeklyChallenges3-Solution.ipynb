{
 "cells": [
  {
   "cell_type": "markdown",
   "metadata": {},
   "source": [
    "# Challenges week 3"
   ]
  },
  {
   "cell_type": "markdown",
   "metadata": {},
   "source": [
    "Now that you have some expereince with the most important control structures and can apply them when writing your own functions, it's time for you to combine and apply your knowledge.  \n",
    "\n",
    "In each challange, you are asked to provide the programing solution to it as well as a technical interpretation explaining the steps taken and the result.\n"
   ]
  },
  {
   "cell_type": "markdown",
   "metadata": {},
   "source": [
    "# Challenge 1\n",
    "\n",
    "Below, you have a list that contains so called *referers* (places a visitor of a web page came from) for a given timeframe for a given page. This is an example of so-called digital trace data. \n",
    "\n",
    "Imagine that this is a list of referers to a given page (say, a specific article on a news site or a specific product in a web shop). First have a look at the data:"
   ]
  },
  {
   "cell_type": "code",
   "execution_count": 1,
   "metadata": {},
   "outputs": [],
   "source": [
    "visitors = ['homepage',\n",
    "            'homepage',\n",
    "            'homepage',\n",
    "            'instagram app',\n",
    "            'facebook app',\n",
    "            'campaign utx=1389',\n",
    "            'homepage',\n",
    "            'facebook app',\n",
    "            'homepage',\n",
    "            'google search',\n",
    "            'homepage',\n",
    "            'facebook app',\n",
    "            'homepage',\n",
    "            'homepage',\n",
    "            'homepage',\n",
    "            'campaign utx=1389',\n",
    "            'homepage',\n",
    "            'homepage',\n",
    "            'campaign utx=468495678',\n",
    "            'campaign utx=479098',\n",
    "            'instagram app',\n",
    "            'campaign utx=1389',\n",
    "            'facebook.com',\n",
    "            'facebook app',\n",
    "            'campaign utx=3533',\n",
    "            'google search',\n",
    "            'homepage',\n",
    "            'campaign utx=1389',\n",
    "            'campaign utx=1389',\n",
    "            'homepage',\n",
    "            'campaign utx=3533',\n",
    "            'instagram app',\n",
    "            'homepage',\n",
    "            'homepage',\n",
    "            'campaign utx=3533',\n",
    "            'homepage',\n",
    "            'instagram app',\n",
    "            'campaign utx=1389',\n",
    "            'instagram app',\n",
    "            'facebook app',\n",
    "            'homepage',\n",
    "            'facebook.com',\n",
    "            'campaign utx=1389',\n",
    "            'campaign utx=1389',\n",
    "            'homepage',\n",
    "            'homepage',\n",
    "            'facebook.com',\n",
    "            'instagram app',\n",
    "            'instagram app',\n",
    "            'campaign utx=1389',\n",
    "            'homepage',\n",
    "            'facebook.com',\n",
    "            'newsletter',\n",
    "            'newsletter',\n",
    "            'homepage',\n",
    "            'newsletter',\n",
    "            'homepage',\n",
    "            'newsletter',\n",
    "            'facebook.com',\n",
    "            'facebook.com',\n",
    "            'homepage',\n",
    "            'newsletter',\n",
    "            'newsletter',\n",
    "            'newsletter',\n",
    "            'google search',\n",
    "            'campaign utx=1389',\n",
    "            'newsletter',\n",
    "            'newsletter']"
   ]
  },
  {
   "cell_type": "markdown",
   "metadata": {},
   "source": [
    "Now, answer the following questions (not by hand, of course, but by writing appropriate code).\n",
    "For each question, provide the necessary code and a short explanation of the choices you made and how to interpret the results (in a Markdown cell) .\n",
    "\n",
    "    \n",
    "### 1.1 What is the most popular source that visitors came from?\n",
    "- Just provide a naive count over the unprocessed raw data.\n",
    "- Explain, in your own words, potential problems.\n",
    "\n",
    "### 1.2 Provide some 'fairer\" and more detailed comparisons!\n",
    "- You may have realized that probably some of the categories should have been merged. Write multiple function to preprocess the data and provide more insightful counts than you did in 1.1.\n",
    "- Here are some techniques that you may find useful for this:\n",
    "\n",
    "```\n",
    "# slicing\n",
    "# for example:\n",
    "somestring[:5]      # to get the  the first five characters\n",
    "somelist[-1]        # to get the last element of a list\n",
    "\n",
    "# the str.split() method:\n",
    "somestring.split(c) # to split a string into a list of strings everytime character c occurs\n",
    "                    # if you leave away c, it splits on spaced\n",
    "\n",
    "# the str.find() method:\n",
    "somestring.find(somesearchstring)   # returns the position of a searchstring within a string, \n",
    "                                    # and -1 if not found\n",
    "\n",
    "```\n",
    "\n",
    "\n",
    "\n",
    "### 1.3 Which campaign was most succesful?\n",
    "\n",
    "You probably realized that there seems to have been some campaigns to promote the page. They apparently have different internal IDs. Which one was most succesful?\n",
    "\n"
   ]
  },
  {
   "cell_type": "markdown",
   "metadata": {},
   "source": [
    "## 1.1 - solution"
   ]
  },
  {
   "cell_type": "code",
   "execution_count": 2,
   "metadata": {},
   "outputs": [],
   "source": [
    "from collections import Counter\n",
    "\n",
    "c = Counter(visitors)\n",
    "print (c.most_common())"
   ]
  },
  {
   "cell_type": "code",
   "execution_count": 3,
   "metadata": {},
   "outputs": [
    {
     "name": "stdout",
     "output_type": "stream",
     "text": [
      "COUNT\tREFERER\n",
      "===================================\n",
      "\n",
      "23\thomepage\n",
      "10\tcampaign utx=1389\n",
      "9\tnewsletter\n",
      "7\tinstagram app\n",
      "6\tfacebook.com\n",
      "5\tfacebook app\n",
      "3\tgoogle search\n",
      "3\tcampaign utx=3533\n",
      "1\tcampaign utx=468495678\n",
      "1\tcampaign utx=479098\n"
     ]
    }
   ],
   "source": [
    "# but you can also print it much nicer (after all, you know how to write a for-loop....):\n",
    "# \\t means TAB, \\n new line\n",
    "\n",
    "\n",
    "print(\"COUNT\\tREFERER\")\n",
    "print(\"===================================\\n\")\n",
    "for referer, count in c.most_common():\n",
    "    print(f\"{count}\\t{referer}\")"
   ]
  },
  {
   "cell_type": "markdown",
   "metadata": {},
   "source": [
    "### Potential problems\n",
    "\n",
    "- we distinguish between facebook.com and facebook app, so we may underestimate the total impact of facebook\n",
    "- we may also want to see how important all campaigns togeher are\n",
    "- ..."
   ]
  },
  {
   "cell_type": "markdown",
   "metadata": {},
   "source": [
    "## 1.2 - solution"
   ]
  },
  {
   "cell_type": "code",
   "execution_count": 4,
   "metadata": {},
   "outputs": [
    {
     "name": "stdout",
     "output_type": "stream",
     "text": [
      "Let's first look at the main sources only:\n",
      "COUNT\tREFERER\n",
      "===================================\n",
      "\n",
      "23\thomepage\n",
      "15\tcampaign\n",
      "11\tfacebook\n",
      "9\tnewsletter\n",
      "7\tinstagram\n",
      "3\tgoogle\n",
      "\n",
      "\n",
      "\n",
      "\n",
      "Let's compare social to campaigns to organic:\n",
      "COUNT\tREFERER\n",
      "===================================\n",
      "\n",
      "26\torganic\n",
      "24\tcampaign\n",
      "18\tsocial\n"
     ]
    }
   ],
   "source": [
    "def remove_details(r):\n",
    "    '''takes a referrer string r as input and removes all detail information so that we get the main source '''\n",
    "    elements = r.split()  # split on space\n",
    "    relevantpart = elements[0]    # only consider the first element further\n",
    "    # we could stop here and return relevantpart directly\n",
    "    # but we also want to remove the .com of facebook.com, so we do the same exercise again but now with . instead of space\n",
    "    elements2 = relevantpart.split(\".\")  # split on the .\n",
    "    relevantpart2 = elements2[0]         # just take everything before the dot\n",
    "    return relevantpart2\n",
    "\n",
    "\n",
    "def categorize(r):\n",
    "    '''takes a referrer string r and determines whether it is social, organic, or campaign'''\n",
    "    \n",
    "    # of course you may categorize this differently!\n",
    "    r = r.lower()   # just in case...\n",
    "    if \"facebook\" in r or \"instagram\" in r:\n",
    "        return \"social\"\n",
    "    elif \"campaign\" in r or \"newsletter\" in r:   \n",
    "        return \"campaign\"\n",
    "    else:\n",
    "        return \"organic\"\n",
    "\n",
    "def count_and_print(rs):\n",
    "    '''takes a list or referrers rs, counts them, and prints a table'''\n",
    "    print(\"COUNT\\tREFERER\")\n",
    "    print(\"===================================\\n\")\n",
    "    c = Counter(rs)\n",
    "    for referer, count in c.most_common():\n",
    "        print(f\"{count}\\t{referer}\")\n",
    "\n",
    "print(\"Let's first look at the main sources only:\")\n",
    "recoded1 = [remove_details(visitor) for visitor in visitors]\n",
    "count_and_print(recoded1)\n",
    "\n",
    "print(\"\\n\\n\\n\")\n",
    "print(\"Let's compare social to campaigns to organic:\")\n",
    "\n",
    "# note that I wrote the function categorize such that you can apply it either to visitors or to recoded1\n",
    "recoded2 = [categorize(r) for r in visitors]  \n",
    "count_and_print(recoded2)\n"
   ]
  },
  {
   "cell_type": "markdown",
   "metadata": {},
   "source": [
    "## 1.3 - solution"
   ]
  },
  {
   "cell_type": "code",
   "execution_count": 5,
   "metadata": {},
   "outputs": [
    {
     "name": "stdout",
     "output_type": "stream",
     "text": [
      "COUNT\tREFERER\n",
      "===================================\n",
      "\n",
      "53\tNone\n",
      "10\tutx=1389\n",
      "3\tutx=3533\n",
      "1\tutx=468495678\n",
      "1\tutx=479098\n"
     ]
    }
   ],
   "source": [
    "def get_campaign_id(r):\n",
    "    '''takes a referrer r and returns its campaign ID and None if it was not part of a campaign'''\n",
    "    if \"campaign\" in r.lower():\n",
    "        campidstart = r.find(\"utx\")  # apparently the ids start with utx...\n",
    "        if campidstart == -1:         # if there is no id...\n",
    "            return None\n",
    "        else:\n",
    "            return r[campidstart:]    # use slicing to throw away the first part of the string\n",
    "    \n",
    "    # we should never reach the next line if there is a valid campaign ID, so in case we do, we return None\n",
    "    return None\n",
    "    \n",
    "count_and_print([get_campaign_id(visitor) for visitor in visitors])        "
   ]
  },
  {
   "cell_type": "markdown",
   "metadata": {},
   "source": [
    "# Challenge 2\n",
    "\n",
    "Below, you find a (fictive) dictionary called `visited_products`. The keys are unique vistior IDs in the form of hashs (a hash is a one-way function: you can convert an email-address to a hash, but you cannot go back -- a very important technique to protect someone's privacy). The values denote the products in a web shop that the users have clicked on. As you see, unfortunately, the data type is mixed depending on whether they visited one or more product pages.\n",
    "\n",
    "### 2.1 Analyze the data\n",
    "- Write a function that calculates how many products someone visited.\n",
    "- Apply the function to the whole dictionary either by looping of its `.items()` or by  using a dictionary comprehension.\n",
    "\n",
    "### 2.2 Clean up the data\n",
    "- Of course, you could also say that the data structure could be cleaned up in such a way that it is not necessary any more to support multiple data types. Write a function to perform this cleanup!\n",
    "\n",
    "### 2.3 Support messy data\n",
    "- Let's take a step back and assume that the data are even messier than assumed (they are in `visited_products2`). Adapt your previous code(s) such that also this would be supported.\n",
    "\n",
    "For each question, provide the necessary code and a short explanation of the choices you made."
   ]
  },
  {
   "cell_type": "code",
   "execution_count": 6,
   "metadata": {},
   "outputs": [],
   "source": [
    "visited_products = {'ae5efe74061d4048964216c70f3a418c': 67,\n",
    "              '65241d7b66974fc798f307383c4714e8': [45,187,44],\n",
    "              '7f1de8287e184071840c8744cfcc8780': [32,48,312],\n",
    "              'c4681ec57db14d88b27a34560fe4d6ad': 453,\n",
    "              '4db40286540a48a1bdc73621e9ae699d': [67,89,46,90,104],\n",
    "              '7af0f5fd5b8d4025a9c86e1857f495f7': [34,89,135,104,106],\n",
    "              '49482fdca3db43d295f7d5b89e4a654e': [23,78,156,189,143,187],\n",
    "              'cba7ba80d78c4406b18ad97d59792d7d': 8,\n",
    "              '0a27e7eb71494802a4862a6b01aefe2c': [34,65,18,22],\n",
    "              '37a56050f11241778ef182afe5a58843': [56,87],\n",
    "              '1a18d1f7940f484b9d04f223930dfb4f': [76,98,106,125,356],\n",
    "              '483bd2d270134f4c96b128217b712b35': 45,\n",
    "              'ea5f7ddfc91945fc96b8b15c9f4a26b4': [76,109,45,22]}"
   ]
  },
  {
   "cell_type": "code",
   "execution_count": 7,
   "metadata": {},
   "outputs": [],
   "source": [
    "visited_products2 = {'ae5efe74061d4048964216c70f3a418c': 67,\n",
    "              '65241d7b66974fc798f307383c4714e8': 'ERROR',\n",
    "              '7f1de8287e184071840c8744cfcc8780': [32,48,312],\n",
    "              'c4681ec57db14d88b27a34560fe4d6ad': 453,\n",
    "              '4db40286540a48a1bdc73621e9ae699d': [67,89,46,90,104],\n",
    "              '7af0f5fd5b8d4025a9c86e1857f495f7': [34,89,135,104,106],\n",
    "              '49482fdca3db43d295f7d5b89e4a654e': [23,78,156,189,143,187],\n",
    "              'cba7ba80d78c4406b18ad97d59792d7d': 8,\n",
    "              '0a27e7eb71494802a4862a6b01aefe2c': [34,65,18,22],\n",
    "              '37a56050f11241778ef182afe5a58843': [56,87],\n",
    "              '1a18d1f7940f484b9d04f223930dfb4f': 'ERROR',\n",
    "              '483bd2d270134f4c96b128217b712b35': 45,\n",
    "              'ea5f7ddfc91945fc96b8b15c9f4a26b4': [76,109,45,22]}"
   ]
  },
  {
   "cell_type": "code",
   "execution_count": null,
   "metadata": {},
   "outputs": [],
   "source": []
  },
  {
   "cell_type": "markdown",
   "metadata": {},
   "source": [
    "### 2.1 solution"
   ]
  },
  {
   "cell_type": "code",
   "execution_count": 8,
   "metadata": {},
   "outputs": [
    {
     "data": {
      "text/plain": [
       "{'ae5efe74061d4048964216c70f3a418c': 1,\n",
       " '65241d7b66974fc798f307383c4714e8': 3,\n",
       " '7f1de8287e184071840c8744cfcc8780': 3,\n",
       " 'c4681ec57db14d88b27a34560fe4d6ad': 1,\n",
       " '4db40286540a48a1bdc73621e9ae699d': 5,\n",
       " '7af0f5fd5b8d4025a9c86e1857f495f7': 5,\n",
       " '49482fdca3db43d295f7d5b89e4a654e': 6,\n",
       " 'cba7ba80d78c4406b18ad97d59792d7d': 1,\n",
       " '0a27e7eb71494802a4862a6b01aefe2c': 4,\n",
       " '37a56050f11241778ef182afe5a58843': 2,\n",
       " '1a18d1f7940f484b9d04f223930dfb4f': 5,\n",
       " '483bd2d270134f4c96b128217b712b35': 1,\n",
       " 'ea5f7ddfc91945fc96b8b15c9f4a26b4': 4}"
      ]
     },
     "execution_count": 8,
     "metadata": {},
     "output_type": "execute_result"
    }
   ],
   "source": [
    "def numberofvisits(x):\n",
    "    if type(x) is list:\n",
    "        return len(x)\n",
    "    else:\n",
    "        return 1\n",
    "    \n",
    "newdata = {k: numberofvisits(v) for k,v in visited_products.items() }\n",
    "newdata"
   ]
  },
  {
   "cell_type": "markdown",
   "metadata": {},
   "source": [
    "### 2.2 solution"
   ]
  },
  {
   "cell_type": "code",
   "execution_count": 9,
   "metadata": {},
   "outputs": [
    {
     "data": {
      "text/plain": [
       "{'ae5efe74061d4048964216c70f3a418c': [67],\n",
       " '65241d7b66974fc798f307383c4714e8': [45, 187, 44],\n",
       " '7f1de8287e184071840c8744cfcc8780': [32, 48, 312],\n",
       " 'c4681ec57db14d88b27a34560fe4d6ad': [453],\n",
       " '4db40286540a48a1bdc73621e9ae699d': [67, 89, 46, 90, 104],\n",
       " '7af0f5fd5b8d4025a9c86e1857f495f7': [34, 89, 135, 104, 106],\n",
       " '49482fdca3db43d295f7d5b89e4a654e': [23, 78, 156, 189, 143, 187],\n",
       " 'cba7ba80d78c4406b18ad97d59792d7d': [8],\n",
       " '0a27e7eb71494802a4862a6b01aefe2c': [34, 65, 18, 22],\n",
       " '37a56050f11241778ef182afe5a58843': [56, 87],\n",
       " '1a18d1f7940f484b9d04f223930dfb4f': [76, 98, 106, 125, 356],\n",
       " '483bd2d270134f4c96b128217b712b35': [45],\n",
       " 'ea5f7ddfc91945fc96b8b15c9f4a26b4': [76, 109, 45, 22]}"
      ]
     },
     "execution_count": 9,
     "metadata": {},
     "output_type": "execute_result"
    }
   ],
   "source": [
    "def inttolist(x):\n",
    "    if type(x) is list:\n",
    "        return x\n",
    "    elif type(x) is int:\n",
    "        return [x]    # so, a list with just one entry, x\n",
    "    \n",
    "cleandata = {k: inttolist(v) for k,v in visited_products.items() }\n",
    "cleandata"
   ]
  },
  {
   "cell_type": "markdown",
   "metadata": {},
   "source": [
    "### 2.3 solution"
   ]
  },
  {
   "cell_type": "code",
   "execution_count": 10,
   "metadata": {},
   "outputs": [
    {
     "data": {
      "text/plain": [
       "{'ae5efe74061d4048964216c70f3a418c': 1,\n",
       " '65241d7b66974fc798f307383c4714e8': 0,\n",
       " '7f1de8287e184071840c8744cfcc8780': 3,\n",
       " 'c4681ec57db14d88b27a34560fe4d6ad': 1,\n",
       " '4db40286540a48a1bdc73621e9ae699d': 5,\n",
       " '7af0f5fd5b8d4025a9c86e1857f495f7': 5,\n",
       " '49482fdca3db43d295f7d5b89e4a654e': 6,\n",
       " 'cba7ba80d78c4406b18ad97d59792d7d': 1,\n",
       " '0a27e7eb71494802a4862a6b01aefe2c': 4,\n",
       " '37a56050f11241778ef182afe5a58843': 2,\n",
       " '1a18d1f7940f484b9d04f223930dfb4f': 0,\n",
       " '483bd2d270134f4c96b128217b712b35': 1,\n",
       " 'ea5f7ddfc91945fc96b8b15c9f4a26b4': 4}"
      ]
     },
     "execution_count": 10,
     "metadata": {},
     "output_type": "execute_result"
    }
   ],
   "source": [
    "def inttolist2(x):\n",
    "    if type(x) is list:\n",
    "        return x\n",
    "    elif type(x) is int:\n",
    "        return [x]    # so, a list with just one entry, x\n",
    "    elif x=='ERROR':  # we assume that such a person effectively hasn't visited anything\n",
    "        return []\n",
    "\n",
    "newdata2 = {k: len(inttolist2(v)) for k,v in visited_products2.items() }  # let's just directly integrate len() here\n",
    "newdata2"
   ]
  },
  {
   "cell_type": "code",
   "execution_count": null,
   "metadata": {},
   "outputs": [],
   "source": []
  }
 ],
 "metadata": {
  "kernelspec": {
   "display_name": "Python 3",
   "language": "python",
   "name": "python3"
  },
  "language_info": {
   "codemirror_mode": {
    "name": "ipython",
    "version": 3
   },
   "file_extension": ".py",
   "mimetype": "text/x-python",
   "name": "python",
   "nbconvert_exporter": "python",
   "pygments_lexer": "ipython3",
   "version": "3.8.10"
  }
 },
 "nbformat": 4,
 "nbformat_minor": 5
}
