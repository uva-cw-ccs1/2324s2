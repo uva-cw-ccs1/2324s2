{
 "cells": [
  {
   "cell_type": "markdown",
   "metadata": {},
   "source": [
    "# Challenges Week 4\n",
    "\n",
    "Now that you have some experience with pandas and data exploration in Python, it's time for you to combine and apply this week's knowledge. You will start working on these challenges in the tutorial and will be asked to complete them by the end of the week.\n",
    "\n",
    "In each challenge, you are asked to provide the programming solution to it as well as a technical interpretation explaining the steps taken and the result.\n",
    "\n",
    "In this week's challenges, we will use the dataset `marketing_campaign.csv`. A full description of the dataset is available below. \n",
    "\n",
    "Customer Personality Analysis is a detailed analysis of a company’s ideal customers. It helps a business to better understand its customers and makes it easier for them to modify products according to the specific needs, behaviors and concerns of different types of customers.\n",
    "\n",
    "Customer personality analysis helps a business to modify its product based on its target customers from different types of customer segments. For example, instead of spending money to market a new product to every customer in the company’s database, a company can analyze which customer segment is most likely to buy the product and then market the product only on that particular segment.\n",
    "\n",
    "**People**\n",
    "<br>\n",
    "customer_id: Customer's unique identifier\n",
    "<br>\n",
    "Year_Birth: Customer's birth year\n",
    "<br>\n",
    "Education: Customer's education level\n",
    "<br>\n",
    "Marital_Status: Customer's marital status\n",
    "<br>\n",
    "Income: Customer's yearly household income\n",
    "<br>\n",
    "\n",
    "**Products**\n",
    "<br>\n",
    "MntWines: Amount spent on wine in last 2 years\n",
    "<br>\n",
    "MntFruits: Amount spent on fruits in last 2 years\n",
    "<br>\n",
    "MntMeatProducts: Amount spent on meat in last 2 years\n",
    "<br>\n",
    "MntFishProducts: Amount spent on fish in last 2 years\n",
    "<br>\n",
    "\n",
    "**Place**\n",
    "<br>\n",
    "NumWebPurchases: Number of purchases made through the company’s web site\n",
    "<br>\n",
    "NumCatalogPurchases: Number of purchases made using a catalogue\n",
    "<br>\n",
    "NumStorePurchases: Number of purchases made directly in stores\n",
    "<br>\n",
    "NumWebVisitsMonth: Number of visits to company’s web site in the last month\n",
    "\n",
    "\n",
    "Original dataset source: https://www.kaggle.com/imakash3011/customer-personality-analysis"
   ]
  },
  {
   "cell_type": "markdown",
   "metadata": {},
   "source": [
    "# Challenge 1\n",
    "\n",
    "In the first challenge, we will focus on exploring and describing the data.\n",
    "\n",
    "#### 1.1 Read and explore the dataset\n",
    "\n",
    "* Load the dataset into pandas. *Hint: you will need to specify the column separator to properly read the dataset.* \n",
    "\n",
    "* Explore the dataset: print first few rows, check all column types and check for missing values. Decide what to do with missing values and explain your decision.\n",
    "\n",
    "#### 1.2 Filter the dataset\n",
    "\n",
    "* Create a smaller dataset consisting of households that have above average spendings on meat *and* fish.\n",
    "\n",
    "* Who are the meat and fish eaters? Describe them using demographic information available to you."
   ]
  },
  {
   "cell_type": "code",
   "execution_count": 1,
   "metadata": {},
   "outputs": [
    {
     "data": {
      "text/plain": [
       "customer_id             0\n",
       "Year_Birth              0\n",
       "Education               2\n",
       "Marital_Status          0\n",
       "Income                 24\n",
       "MntWines                0\n",
       "MntFruits               0\n",
       "MntMeatProducts         0\n",
       "MntFishProducts         0\n",
       "NumWebPurchases         0\n",
       "NumCatalogPurchases     0\n",
       "NumStorePurchases       0\n",
       "NumWebVisitsMonth       0\n",
       "dtype: int64"
      ]
     },
     "execution_count": 1,
     "metadata": {},
     "output_type": "execute_result"
    }
   ],
   "source": [
    "import pandas as pd\n",
    "#I make sure to specify the separator, otherwise the dataset cannot be worked with\n",
    "marketing = pd.read_csv(\"marketing_campaign.csv\", sep=';')\n"
   ]
  },
  {
   "cell_type": "code",
   "execution_count": 2,
   "metadata": {},
   "outputs": [
    {
     "data": {
      "text/plain": [
       "customer_id              int64\n",
       "Year_Birth               int64\n",
       "Education               object\n",
       "Marital_Status          object\n",
       "Income                 float64\n",
       "MntWines                 int64\n",
       "MntFruits                int64\n",
       "MntMeatProducts          int64\n",
       "MntFishProducts          int64\n",
       "NumWebPurchases          int64\n",
       "NumCatalogPurchases      int64\n",
       "NumStorePurchases        int64\n",
       "NumWebVisitsMonth        int64\n",
       "dtype: object"
      ]
     },
     "execution_count": 2,
     "metadata": {},
     "output_type": "execute_result"
    }
   ],
   "source": [
    "#I check for column types\n",
    "marketing.dtypes"
   ]
  },
  {
   "cell_type": "code",
   "execution_count": 3,
   "metadata": {},
   "outputs": [
    {
     "data": {
      "text/plain": [
       "customer_id             0\n",
       "Year_Birth              0\n",
       "Education               2\n",
       "Marital_Status          0\n",
       "Income                 24\n",
       "MntWines                0\n",
       "MntFruits               0\n",
       "MntMeatProducts         0\n",
       "MntFishProducts         0\n",
       "NumWebPurchases         0\n",
       "NumCatalogPurchases     0\n",
       "NumStorePurchases       0\n",
       "NumWebVisitsMonth       0\n",
       "dtype: int64"
      ]
     },
     "execution_count": 3,
     "metadata": {},
     "output_type": "execute_result"
    }
   ],
   "source": [
    "#I check for NAs\n",
    "marketing.isna().sum()"
   ]
  },
  {
   "cell_type": "markdown",
   "metadata": {},
   "source": [
    "I have read the csv file into pandas. Then I explored it. I can conclude that the majority of the data is numeric (ins or floats) mad that two columns contain missing values. For now, I will leave the missing values in the dataset. It does not look like they have a eaning on their own (it might be that some customers did not provide the information)."
   ]
  },
  {
   "cell_type": "code",
   "execution_count": 5,
   "metadata": {},
   "outputs": [],
   "source": [
    "#To create a smaller dataset I do:\n",
    "marketing_smaller = marketing[(marketing['MntMeatProducts'] > marketing['MntMeatProducts'].mean()) & (marketing['MntFishProducts'] > marketing['MntFishProducts'].mean())]\n"
   ]
  },
  {
   "cell_type": "code",
   "execution_count": 7,
   "metadata": {},
   "outputs": [
    {
     "data": {
      "text/plain": [
       "(2240, 509)"
      ]
     },
     "execution_count": 7,
     "metadata": {},
     "output_type": "execute_result"
    }
   ],
   "source": [
    "len(marketing), len(marketing_smaller)"
   ]
  },
  {
   "cell_type": "markdown",
   "metadata": {},
   "source": [
    "As both columns (`MntMeatProducts` and `MntFishProducts`) are numeric (they contain integers), I can do mathematical operations on them. This means that I can calculate the mean by using the method `.mean()` and can compare that mean to the value in the column. I only keep cells hthat meet both conditions (note use of `&`). This reduced the size of my data."
   ]
  },
  {
   "cell_type": "markdown",
   "metadata": {},
   "source": [
    "# Challenge 2\n",
    "\n",
    "The dataset `marketing_campaign_response.csv` contains an additional observation - whether a customer did or did not respond to the marketing campaign (a binary variable with values 0 and 1). The variable is coded 1 if a customer reacted to the campaign positively, 0 otherwise. Additionally, it contains ID of each customer exposed to the campaign (this ID corresponds to customer_id in the other dataset). Not all customers of the company where exposed to the campaign.\n",
    "\n",
    "#### 2.1 How to choose the best merge strategy?\n",
    "\n",
    "Merge the `marketing_campaigns.csv` dataset with `marketing_campaign_response.csv`. Explore all four merge types and their consequences (dataset length and missing values). Why do they result in different dataset lengths? Which merge is most useful? <br>  **Note: the identifier column names differ across the two datasets.**  <br>\n",
    "\n",
    "#### 2.2 Merge datasets\n",
    "\n",
    "Use the appropriate join (left, right, inner, outer) to merge `marketing_campaign.csv` with `marketing_campaign_response.csv`, such that only customers exposed to the marketing campaign are included."
   ]
  },
  {
   "cell_type": "code",
   "execution_count": 8,
   "metadata": {},
   "outputs": [
    {
     "data": {
      "text/plain": [
       "Index(['ID', 'Response'], dtype='object')"
      ]
     },
     "execution_count": 8,
     "metadata": {},
     "output_type": "execute_result"
    }
   ],
   "source": [
    "#As before, having tried to load the dataset without a separator argument, I see that the columns are not formatted well\n",
    "#I input the appropriate sep argument\n",
    "responses = pd.read_csv(\"marketing_campaign_response.csv\", sep =';')\n",
    "\n",
    "#I check che column names before I merge\n",
    "responses.columns"
   ]
  },
  {
   "cell_type": "code",
   "execution_count": 14,
   "metadata": {},
   "outputs": [
    {
     "data": {
      "text/plain": [
       "(2240, 2174)"
      ]
     },
     "execution_count": 14,
     "metadata": {},
     "output_type": "execute_result"
    }
   ],
   "source": [
    "len(marketing), len(responses)"
   ]
  },
  {
   "cell_type": "markdown",
   "metadata": {},
   "source": [
    "It looks like the dataset with responses is smaller than the dataset with all customers. It makes sense - not all customers have been exposed to the marketing campaign. "
   ]
  },
  {
   "cell_type": "code",
   "execution_count": 15,
   "metadata": {},
   "outputs": [],
   "source": [
    "#In the responses, the id columns is called ID, so I merge left_on ID and right_on customer_id (for marketing_smaller)\n",
    "outer_data = responses.merge(marketing, how='outer', left_on=\"ID\", right_on=\"customer_id\")"
   ]
  },
  {
   "cell_type": "code",
   "execution_count": 16,
   "metadata": {},
   "outputs": [],
   "source": [
    "inner_data = responses.merge(marketing, how='inner', left_on=\"ID\", right_on=\"customer_id\")"
   ]
  },
  {
   "cell_type": "code",
   "execution_count": 17,
   "metadata": {},
   "outputs": [],
   "source": [
    "left_data = responses.merge(marketing, how='left', left_on=\"ID\", right_on=\"customer_id\")"
   ]
  },
  {
   "cell_type": "code",
   "execution_count": 18,
   "metadata": {},
   "outputs": [],
   "source": [
    "right_data = responses.merge(marketing, how='right', left_on=\"ID\", right_on=\"customer_id\")"
   ]
  },
  {
   "cell_type": "code",
   "execution_count": 19,
   "metadata": {},
   "outputs": [
    {
     "data": {
      "text/plain": [
       "(2240, 2174, 2174, 2240)"
      ]
     },
     "execution_count": 19,
     "metadata": {},
     "output_type": "execute_result"
    }
   ],
   "source": [
    "len(outer_data), len(inner_data), len(left_data), len(right_data)"
   ]
  },
  {
   "cell_type": "markdown",
   "metadata": {},
   "source": [
    "I have now tried the four different merges and the result in different lengths. The outer merge takes all the data in both dataframes and whenever it does not find a match between them, it generates missing values. You can see below that we hence are missing information on marketing response for customers who were not exposed to the message."
   ]
  },
  {
   "cell_type": "code",
   "execution_count": 20,
   "metadata": {},
   "outputs": [
    {
     "data": {
      "text/plain": [
       "ID                     66\n",
       "Response               67\n",
       "customer_id             0\n",
       "Year_Birth              0\n",
       "Education               2\n",
       "Marital_Status          0\n",
       "Income                 24\n",
       "MntWines                0\n",
       "MntFruits               0\n",
       "MntMeatProducts         0\n",
       "MntFishProducts         0\n",
       "NumWebPurchases         0\n",
       "NumCatalogPurchases     0\n",
       "NumStorePurchases       0\n",
       "NumWebVisitsMonth       0\n",
       "dtype: int64"
      ]
     },
     "execution_count": 20,
     "metadata": {},
     "output_type": "execute_result"
    }
   ],
   "source": [
    "outer_data.isna().sum()"
   ]
  },
  {
   "cell_type": "markdown",
   "metadata": {},
   "source": [
    "The inner merge only includes rows that are in both dataframes. Its length corresponds to the length of the responses dataframe - we have \"lost\" users who were not exposed to the message.\n",
    "\n",
    "The right merge \"takes the right dataframe (marketing)\" as a starting point and adds matching information from the responses dataframe. That means that all rows from the marketing dataframe are kept and whenever a row does not have matching information in the responses dataframe, missing value is created (See below)."
   ]
  },
  {
   "cell_type": "code",
   "execution_count": 21,
   "metadata": {},
   "outputs": [
    {
     "data": {
      "text/plain": [
       "ID                     66\n",
       "Response               67\n",
       "customer_id             0\n",
       "Year_Birth              0\n",
       "Education               2\n",
       "Marital_Status          0\n",
       "Income                 24\n",
       "MntWines                0\n",
       "MntFruits               0\n",
       "MntMeatProducts         0\n",
       "MntFishProducts         0\n",
       "NumWebPurchases         0\n",
       "NumCatalogPurchases     0\n",
       "NumStorePurchases       0\n",
       "NumWebVisitsMonth       0\n",
       "dtype: int64"
      ]
     },
     "execution_count": 21,
     "metadata": {},
     "output_type": "execute_result"
    }
   ],
   "source": [
    "right_data.isna().sum()"
   ]
  },
  {
   "cell_type": "markdown",
   "metadata": {},
   "source": [
    "The left merge \"takes the left dataframe (responses)\" as a starting point and adds matching information from the marketing dataframe. That means that all rows from the responses dataframe are kept and whenever a row does not have matching information in the responses dataframe, missing value is created. This also means that whenever there is a row in marketing that did not match to a row in responses, this row is omitted. Hence, the datafarame is smaller than marketing dataframe, but corresponds in size to the responses dataframe.\n",
    "\n",
    "To keep only customers exposed to the campaign, I will choose the inner merge - this way, I make sure that only rows that are both in marketing dataframe and in responses dataframe are included."
   ]
  },
  {
   "cell_type": "markdown",
   "metadata": {},
   "source": [
    "# Challenge 3\n",
    "\n",
    "#### 3.1 Create new columns\n",
    "\n",
    "Create a new column called Age which denotes age in years for customers from the merged dataset. What is the average age of customers who reacted to the campaign positively?\n",
    "\n",
    "#### 3.2 Writing pandas \n",
    "Write a csv file with the dataset you ended up with. "
   ]
  },
  {
   "cell_type": "code",
   "execution_count": 24,
   "metadata": {},
   "outputs": [],
   "source": [
    "marketing['Age'] = 2023 - marketing['Year_Birth']"
   ]
  },
  {
   "cell_type": "markdown",
   "metadata": {},
   "source": [
    "To create an age variable, I can do a mathematical operation by substracting one's year of birth (value in the column `Year_Birth`) from the current year. This operation creates a new column `Age`. "
   ]
  },
  {
   "cell_type": "code",
   "execution_count": 25,
   "metadata": {},
   "outputs": [
    {
     "data": {
      "text/plain": [
       "count    2240.000000\n",
       "mean       54.194196\n",
       "std        11.984069\n",
       "min        27.000000\n",
       "25%        46.000000\n",
       "50%        53.000000\n",
       "75%        64.000000\n",
       "max       130.000000\n",
       "Name: Age, dtype: float64"
      ]
     },
     "execution_count": 25,
     "metadata": {},
     "output_type": "execute_result"
    }
   ],
   "source": [
    "marketing['Age'].describe()"
   ]
  },
  {
   "cell_type": "code",
   "execution_count": 26,
   "metadata": {},
   "outputs": [],
   "source": [
    "marketing.to_csv('marketing_final.csv')"
   ]
  },
  {
   "cell_type": "code",
   "execution_count": null,
   "metadata": {},
   "outputs": [],
   "source": []
  }
 ],
 "metadata": {
  "interpreter": {
   "hash": "aee8b7b246df8f9039afb4144a1f6fd8d2ca17a180786b69acc140d282b71a49"
  },
  "kernelspec": {
   "display_name": "Python 3.9.1 64-bit",
   "language": "python",
   "name": "python3"
  },
  "language_info": {
   "codemirror_mode": {
    "name": "ipython",
    "version": 3
   },
   "file_extension": ".py",
   "mimetype": "text/x-python",
   "name": "python",
   "nbconvert_exporter": "python",
   "pygments_lexer": "ipython3",
   "version": "3.9.1"
  }
 },
 "nbformat": 4,
 "nbformat_minor": 4
}
