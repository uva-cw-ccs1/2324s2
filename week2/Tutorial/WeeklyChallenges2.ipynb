{
 "cells": [
  {
   "cell_type": "markdown",
   "metadata": {},
   "source": [
    "# Challenges Week 2\n",
    "\n",
    "Now that you have some expereince with for loops and control flow in Python, it's time for you to combine and apply this week's knowledge. You will start working on these challenges in the tutorial and will be asked to complete them by the end of the week.\n",
    "\n",
    "In each challange, you are asked to provide the programing solution to it as well as a technical interpretation explaining the steps taken and the result.\n",
    "\n",
    "Some important notes for the challenges:\n",
    "\n",
    "* If you get an error message, try to troubleshoot it (using Google often helps). If all else fails, go to the next excercise (but make sure to hand it in).\n",
    "* We will make sure to provide feedback and improvement suggestions in the rubric. Make sure to read them; they will help you improve next week."
   ]
  },
  {
   "cell_type": "markdown",
   "metadata": {},
   "source": [
    "# Challenge 1\n",
    "\n",
    "* Using the lists fruit and colors, print out each possible combination of fruit and color. \n",
    "\n",
    "* Use conditional operators to construct a for loop that populates the list real_fruit with all real combinations of color and ripe fruit, e.g. yellow banana. \n",
    "\n",
    "* Write a for loop that separately prints each letter of each word in the list fruit. \n",
    "\n",
    "For each question, provide the necessary code and a short explanation of the choices you made."
   ]
  },
  {
   "cell_type": "code",
   "execution_count": 12,
   "metadata": {},
   "outputs": [],
   "source": [
    "fruit = ['banana', 'orange', 'apple', 'kiwi']\n",
    "colors = ['red', 'orange', 'yellow', 'green']\n",
    "real_fruit = []"
   ]
  },
  {
   "cell_type": "markdown",
   "metadata": {},
   "source": [
    "# Challenge 2\n",
    "\n",
    "The list below shows a number of steps an individual walked a day in a period of one month. \n",
    "* Loop over the list and print only the days when the person walked above average number of steps. Build in a count to find out how many days meet this requirement.\n",
    "\n",
    "* Create three shorter lists:\n",
    "    * List of low number of steps (below 4000),\n",
    "    * List of medium number of steps (between 4000 and 8000)\n",
    "    * List of high number of steps (above 8000) \n",
    "\n",
    "For each question, provide the necessary code and a short explanation of the choices you made."
   ]
  },
  {
   "cell_type": "code",
   "execution_count": 5,
   "metadata": {},
   "outputs": [],
   "source": [
    "stepsaday = [10000, 8000, 6798, 5643, 8753,\n",
    "            3875, 1284, 9462, 7649, 9854, \n",
    "            2457, 6518, 8734, 6598, 2684, \n",
    "            5672, 7842, 6741, 7593, 9854, \n",
    "            5634, 6296, 3683, 8946, 7638,\n",
    "            7452, 6452, 9812, 8732, 8321]"
   ]
  },
  {
   "cell_type": "markdown",
   "metadata": {},
   "source": [
    "# Challenge 3\n",
    "\n",
    "The dictionary below gives you information on the number of inhabitants of ten largest Dutch cities. \n",
    "\n",
    "* Loop through the city dictionary below to print the city and the size of the population in each city, e.g. \"City X has a population of Y\".\n",
    "\n",
    "* Filter the dictionary to include only cities with a population smaller than 500000 citizens. \n",
    "\n",
    "For each question, provide the necessary code and a short explanation of the choices you made."
   ]
  },
  {
   "cell_type": "code",
   "execution_count": 18,
   "metadata": {},
   "outputs": [],
   "source": [
    "city_data = {\"Amsterdam\": 873338, \"Rotterdam\": 651631, \"Den Haag\": 548320, \"Utrecht\": 359370, \"Eindhoven\": 235691, \"Groningen\": 233273, \"Tilburg\": 221947, \"Almere\": 218096, \"Breda\" : 184126, \"Nijmegen\": 179126}"
   ]
  },
  {
   "cell_type": "markdown",
   "metadata": {},
   "source": [
    "### Bonus\n",
    "\n",
    "In the dictionary below, not all data has the type you would expect. Make sure all data has the expected data type and filter the dictionary to include only cities with a population larger than 250000."
   ]
  },
  {
   "cell_type": "code",
   "execution_count": null,
   "metadata": {},
   "outputs": [],
   "source": [
    "city_data = {\"Amsterdam\": 873338, \"Rotterdam\": \"651631\", \"Den Haag\": 548320, \"Utrecht\": 359370, \"Eindhoven\": 235691, \"Groningen\": 233273, \"Tilburg\": \"221947\", \"Almere\": 218096, \"Breda\" : 184126, \"Nijmegen\": 179126}"
   ]
  },
  {
   "cell_type": "code",
   "execution_count": null,
   "metadata": {},
   "outputs": [],
   "source": []
  }
 ],
 "metadata": {
  "interpreter": {
   "hash": "aee8b7b246df8f9039afb4144a1f6fd8d2ca17a180786b69acc140d282b71a49"
  },
  "kernelspec": {
   "display_name": "Python 3.9.1 64-bit",
   "language": "python",
   "name": "python3"
  },
  "language_info": {
   "codemirror_mode": {
    "name": "ipython",
    "version": 3
   },
   "file_extension": ".py",
   "mimetype": "text/x-python",
   "name": "python",
   "nbconvert_exporter": "python",
   "pygments_lexer": "ipython3",
   "version": "3.9.1"
  }
 },
 "nbformat": 4,
 "nbformat_minor": 4
}
