{
 "cells": [
  {
   "cell_type": "markdown",
   "metadata": {},
   "source": [
    "# Simple control structures - loops and conditions\n",
    "\n",
    "Welcome to the second week of the course. By the end of this week, you should acquire:\n",
    "\n",
    "Knowledge on:\n",
    "\n",
    "* Open Communication Science\n",
    "* Python operators and loops\n",
    "* Control structures \n",
    "\n",
    "Skills on:\n",
    "* Writing and applying various loops\n",
    "* Using conditional operators "
   ]
  },
  {
   "cell_type": "markdown",
   "metadata": {},
   "source": [
    "# Python operators"
   ]
  },
  {
   "cell_type": "markdown",
   "metadata": {},
   "source": [
    "## Arithmetic"
   ]
  },
  {
   "cell_type": "code",
   "execution_count": 4,
   "metadata": {},
   "outputs": [
    {
     "data": {
      "text/plain": [
       "27.5"
      ]
     },
     "execution_count": 4,
     "metadata": {},
     "output_type": "execute_result"
    }
   ],
   "source": [
    "#int\n",
    "5*5.5"
   ]
  },
  {
   "cell_type": "code",
   "execution_count": 5,
   "metadata": {},
   "outputs": [
    {
     "ename": "TypeError",
     "evalue": "unsupported operand type(s) for /: 'str' and 'str'",
     "output_type": "error",
     "traceback": [
      "\u001b[0;31m---------------------------------------------------------------------------\u001b[0m",
      "\u001b[0;31mTypeError\u001b[0m                                 Traceback (most recent call last)",
      "\u001b[0;32m<ipython-input-5-eabd2af55dde>\u001b[0m in \u001b[0;36m<module>\u001b[0;34m\u001b[0m\n\u001b[1;32m      1\u001b[0m \u001b[0;31m#str\u001b[0m\u001b[0;34m\u001b[0m\u001b[0;34m\u001b[0m\u001b[0;34m\u001b[0m\u001b[0m\n\u001b[0;32m----> 2\u001b[0;31m \u001b[0mprint\u001b[0m\u001b[0;34m(\u001b[0m\u001b[0;34m\"5\"\u001b[0m \u001b[0;34m/\u001b[0m \u001b[0;34m\"ggg\"\u001b[0m\u001b[0;34m)\u001b[0m\u001b[0;34m\u001b[0m\u001b[0;34m\u001b[0m\u001b[0m\n\u001b[0m",
      "\u001b[0;31mTypeError\u001b[0m: unsupported operand type(s) for /: 'str' and 'str'"
     ]
    }
   ],
   "source": [
    "#str\n",
    "print(\"5\" / \"ggg\")"
   ]
  },
  {
   "cell_type": "code",
   "execution_count": 12,
   "metadata": {},
   "outputs": [],
   "source": [
    "x = 5"
   ]
  },
  {
   "cell_type": "code",
   "execution_count": 16,
   "metadata": {},
   "outputs": [],
   "source": [
    "i=0"
   ]
  },
  {
   "cell_type": "code",
   "execution_count": 23,
   "metadata": {},
   "outputs": [],
   "source": [
    "i+=1"
   ]
  },
  {
   "cell_type": "code",
   "execution_count": 24,
   "metadata": {},
   "outputs": [
    {
     "name": "stdout",
     "output_type": "stream",
     "text": [
      "6\n"
     ]
    }
   ],
   "source": [
    "print(i)"
   ]
  },
  {
   "cell_type": "markdown",
   "metadata": {},
   "source": [
    "## Comparison"
   ]
  },
  {
   "cell_type": "code",
   "execution_count": 29,
   "metadata": {},
   "outputs": [
    {
     "data": {
      "text/plain": [
       "False"
      ]
     },
     "execution_count": 29,
     "metadata": {},
     "output_type": "execute_result"
    }
   ],
   "source": [
    "#int\n",
    "5 > 10"
   ]
  },
  {
   "cell_type": "code",
   "execution_count": 80,
   "metadata": {},
   "outputs": [
    {
     "data": {
      "text/plain": [
       "True"
      ]
     },
     "execution_count": 80,
     "metadata": {},
     "output_type": "execute_result"
    }
   ],
   "source": [
    "#type\n",
    "len(['words', 'word2']) == 2"
   ]
  },
  {
   "cell_type": "markdown",
   "metadata": {},
   "source": [
    "## Logical and membership"
   ]
  },
  {
   "cell_type": "code",
   "execution_count": 37,
   "metadata": {},
   "outputs": [
    {
     "name": "stdout",
     "output_type": "stream",
     "text": [
      "False\n"
     ]
    }
   ],
   "source": [
    "#int\n",
    "numbers = [1,2,3]\n",
    "print(5 in numbers)"
   ]
  },
  {
   "cell_type": "code",
   "execution_count": 67,
   "metadata": {},
   "outputs": [
    {
     "name": "stdout",
     "output_type": "stream",
     "text": [
      "False\n",
      "present\n"
     ]
    }
   ],
   "source": [
    "#str\n",
    "words = [\"blue\", \"yellow\", \"green\"]\n",
    "print(\"blue\" not in words)\n",
    "\n",
    "if \"blue\" in words:\n",
    "    print(\"present\")\n",
    "else:\n",
    "    print(\"not present\")"
   ]
  },
  {
   "cell_type": "markdown",
   "metadata": {},
   "source": [
    "## Assignment operators"
   ]
  },
  {
   "cell_type": "code",
   "execution_count": null,
   "metadata": {},
   "outputs": [],
   "source": [
    "m = 3 \n",
    "m += 5\n",
    "print(m)"
   ]
  },
  {
   "cell_type": "markdown",
   "metadata": {},
   "source": [
    "# Loops"
   ]
  },
  {
   "cell_type": "code",
   "execution_count": 39,
   "metadata": {},
   "outputs": [
    {
     "name": "stdout",
     "output_type": "stream",
     "text": [
      "7\n",
      "9\n",
      "10\n"
     ]
    }
   ],
   "source": [
    "#A basic for loop with a list of numbers\n",
    "my_list = [3,5,6]\n",
    "\n",
    "for b in my_list:\n",
    "    print(b+4)"
   ]
  },
  {
   "cell_type": "code",
   "execution_count": 42,
   "metadata": {},
   "outputs": [
    {
     "name": "stdout",
     "output_type": "stream",
     "text": [
      "Name is John\n",
      "Name is Tyler\n",
      "Name is Danny\n",
      "Name is Matt\n"
     ]
    }
   ],
   "source": [
    "#A basic for loop with a list of strings\n",
    "names = [\"John\", \"Tyler\", \"Danny\", \"Matt\"]\n",
    "for name in names:\n",
    "    print(\"Name is\", name)"
   ]
  },
  {
   "cell_type": "code",
   "execution_count": 45,
   "metadata": {},
   "outputs": [
    {
     "name": "stdout",
     "output_type": "stream",
     "text": [
      "This is the name I am working on Viola\n",
      "Viola de Young\n",
      "Viola Rogers\n",
      "Viola Roggia\n",
      "This is the name I am working on Matt\n",
      "Matt de Young\n",
      "Matt Rogers\n",
      "Matt Roggia\n",
      "This is the name I am working on Danny\n",
      "Danny de Young\n",
      "Danny Rogers\n",
      "Danny Roggia\n",
      "This is the name I am working on Anna\n",
      "Anna de Young\n",
      "Anna Rogers\n",
      "Anna Roggia\n"
     ]
    }
   ],
   "source": [
    "#Nested for loops\n",
    "surnames = ['de Young', 'Rogers', 'Roggia']\n",
    "names = ['Viola', 'Matt', 'Danny', 'Anna']\n",
    "\n",
    "for bla in names:\n",
    "    print(\"This is the name I am working on\", name)\n",
    "    for surname in surnames:\n",
    "        print(name, surname)"
   ]
  },
  {
   "cell_type": "code",
   "execution_count": 52,
   "metadata": {},
   "outputs": [],
   "source": [
    "#For loops for dictionaries \n",
    "emails = {\"Damian\":\"d.c.trilling@uva.nl\", \"Joanna\":\"j.strycharz@uva.nl\", \"Rupert\":\"r.t.kiddle@uva.nl\", \"Alain\": \"a.d.starke@uva.nl\"}\n",
    "listemails = []\n",
    "for name,email in emails.items():\n",
    "    listemails.append(email)"
   ]
  },
  {
   "cell_type": "code",
   "execution_count": 53,
   "metadata": {},
   "outputs": [
    {
     "name": "stdout",
     "output_type": "stream",
     "text": [
      "['d.c.trilling@uva.nl', 'j.strycharz@uva.nl', 'r.t.kiddle@uva.nl', 'a.d.starke@uva.nl']\n"
     ]
    }
   ],
   "source": [
    "print(listemails)"
   ]
  },
  {
   "cell_type": "code",
   "execution_count": null,
   "metadata": {},
   "outputs": [],
   "source": [
    "#As is often the case, the key and value are arbitrary names for variables\n"
   ]
  },
  {
   "cell_type": "code",
   "execution_count": null,
   "metadata": {},
   "outputs": [],
   "source": [
    "#You can also iterate only over the keys or only over the values \n"
   ]
  },
  {
   "cell_type": "code",
   "execution_count": 57,
   "metadata": {},
   "outputs": [
    {
     "name": "stdout",
     "output_type": "stream",
     "text": [
      "<class 'str'>\n",
      "<class 'str'>\n",
      "<class 'str'>\n",
      "<class 'str'>\n",
      "<class 'str'>\n",
      "<class 'str'>\n",
      "<class 'str'>\n",
      "<class 'str'>\n",
      "<class 'str'>\n",
      "<class 'str'>\n",
      "<class 'str'>\n",
      "<class 'str'>\n",
      "<class 'str'>\n",
      "<class 'str'>\n",
      "<class 'str'>\n"
     ]
    }
   ],
   "source": [
    "#Loop over string or int?\n",
    "\n",
    "x = 'blue is a color'\n",
    "\n",
    "for element in x:\n",
    "    print(type(element))"
   ]
  },
  {
   "cell_type": "code",
   "execution_count": 58,
   "metadata": {},
   "outputs": [
    {
     "ename": "TypeError",
     "evalue": "'int' object is not iterable",
     "output_type": "error",
     "traceback": [
      "\u001b[0;31m---------------------------------------------------------------------------\u001b[0m",
      "\u001b[0;31mTypeError\u001b[0m                                 Traceback (most recent call last)",
      "\u001b[0;32m<ipython-input-58-de80b5540d26>\u001b[0m in \u001b[0;36m<module>\u001b[0;34m\u001b[0m\n\u001b[1;32m      1\u001b[0m \u001b[0mx\u001b[0m \u001b[0;34m=\u001b[0m \u001b[0;36m5\u001b[0m\u001b[0;34m\u001b[0m\u001b[0;34m\u001b[0m\u001b[0m\n\u001b[1;32m      2\u001b[0m \u001b[0;34m\u001b[0m\u001b[0m\n\u001b[0;32m----> 3\u001b[0;31m \u001b[0;32mfor\u001b[0m \u001b[0melement\u001b[0m \u001b[0;32min\u001b[0m \u001b[0mx\u001b[0m\u001b[0;34m:\u001b[0m\u001b[0;34m\u001b[0m\u001b[0;34m\u001b[0m\u001b[0m\n\u001b[0m\u001b[1;32m      4\u001b[0m     \u001b[0mprint\u001b[0m\u001b[0;34m(\u001b[0m\u001b[0melement\u001b[0m\u001b[0;34m)\u001b[0m\u001b[0;34m\u001b[0m\u001b[0;34m\u001b[0m\u001b[0m\n",
      "\u001b[0;31mTypeError\u001b[0m: 'int' object is not iterable"
     ]
    }
   ],
   "source": [
    "x = 5\n",
    "\n",
    "for element in x:\n",
    "    print(element)"
   ]
  },
  {
   "cell_type": "markdown",
   "metadata": {},
   "source": [
    "## List comprehension"
   ]
  },
  {
   "cell_type": "code",
   "execution_count": null,
   "metadata": {},
   "outputs": [],
   "source": []
  },
  {
   "cell_type": "markdown",
   "metadata": {},
   "source": [
    "# Conditional statements (in loops)"
   ]
  },
  {
   "cell_type": "code",
   "execution_count": null,
   "metadata": {},
   "outputs": [],
   "source": [
    "#int\n",
    "\n"
   ]
  },
  {
   "cell_type": "code",
   "execution_count": 61,
   "metadata": {},
   "outputs": [
    {
     "name": "stdout",
     "output_type": "stream",
     "text": [
      "this one\n"
     ]
    }
   ],
   "source": [
    "#string\n",
    "\n",
    "words = \"words\"\n",
    "\n",
    "if words == \"not a sentence\":\n",
    "    print(\"nope\")\n",
    "elif words == \"words\":\n",
    "    print(\"this one\")\n",
    "else:\n",
    "    print(\"yes\")"
   ]
  },
  {
   "cell_type": "code",
   "execution_count": 62,
   "metadata": {},
   "outputs": [
    {
     "name": "stdout",
     "output_type": "stream",
     "text": [
      "true\n"
     ]
    }
   ],
   "source": [
    "#bol\n",
    "\n",
    "x = True\n",
    "\n",
    "if x == True:\n",
    "    print('true')\n",
    "else:\n",
    "    print('false')"
   ]
  },
  {
   "cell_type": "code",
   "execution_count": 66,
   "metadata": {},
   "outputs": [
    {
     "name": "stdout",
     "output_type": "stream",
     "text": [
      "1.6666666666666667\n"
     ]
    }
   ],
   "source": [
    "words = 5\n",
    "\n",
    "if type(words) == str:\n",
    "    print(\"string\")\n",
    "elif type(words) == int:\n",
    "    print(words/3)\n",
    "else: \n",
    "    print(\"other type\")"
   ]
  },
  {
   "cell_type": "code",
   "execution_count": 71,
   "metadata": {},
   "outputs": [
    {
     "name": "stdout",
     "output_type": "stream",
     "text": [
      "nope\n",
      "[]\n",
      "[5]\n",
      "nope\n",
      "[5]\n"
     ]
    }
   ],
   "source": [
    "#print number smaller than 5\n",
    "#operation on every element\n",
    "my_list = [3,5,6]\n",
    "\n",
    "newnumbers=[]\n",
    "\n",
    "for number in my_list:\n",
    "    if number == 5:\n",
    "        newnumbers.append(number)\n",
    "    else:\n",
    "        print(\"nope\")\n",
    "    print(newnumbers)"
   ]
  },
  {
   "cell_type": "code",
   "execution_count": 70,
   "metadata": {},
   "outputs": [
    {
     "name": "stdout",
     "output_type": "stream",
     "text": [
      "[5]\n"
     ]
    }
   ],
   "source": [
    "print(newnumbers)"
   ]
  },
  {
   "cell_type": "code",
   "execution_count": null,
   "metadata": {},
   "outputs": [],
   "source": [
    "#create 3 conditions\n",
    "my_list = [3,5,9,6]\n",
    "\n",
    "\n"
   ]
  },
  {
   "cell_type": "code",
   "execution_count": null,
   "metadata": {},
   "outputs": [],
   "source": [
    "#print numbers between 4 and 7\n",
    "my_list = [3,5,9,6]\n"
   ]
  },
  {
   "cell_type": "code",
   "execution_count": null,
   "metadata": {},
   "outputs": [],
   "source": [
    "#While loop\n",
    "counter = 0\n",
    "while counter <= 4:\n",
    "    print(\"Inside loop\")\n",
    "    counter += 1\n",
    "else:\n",
    "    print(\"Inside else\")\n",
    "print(counter)"
   ]
  },
  {
   "cell_type": "code",
   "execution_count": 75,
   "metadata": {},
   "outputs": [
    {
     "name": "stdout",
     "output_type": "stream",
     "text": [
      "I am working on Tiktok\n",
      "1\n",
      "I am working on Facebook\n",
      "I am working on Instagram\n",
      "2\n",
      "I am working on Snapchat\n",
      "I am working on Twitter\n",
      "I am working on LinkedIn\n",
      "I am working on Tiktok\n",
      "3\n",
      "I am working on Instagram\n",
      "4\n",
      "I am working on Facebook\n",
      "I am working on Tiktok\n",
      "5\n"
     ]
    }
   ],
   "source": [
    "#create count how many times visual social media mentioned\n",
    "socialmedia = [\"Tiktok\", \"Facebook\", \"Instagram\", \"Snapchat\", \"Twitter\", \"LinkedIn\", \"Tiktok\", \"Instagram\", \"Facebook\", \"Tiktok\"]\n",
    "\n",
    "countervisuals=0\n",
    "visualslist = []\n",
    "for medium in socialmedia:\n",
    "    print(\"I am working on\", medium)\n",
    "    if medium == \"Tiktok\":\n",
    "        countervisuals+=1\n",
    "        print(countervisuals)\n",
    "        visualslist.append(medium)\n",
    "    elif medium == \"Instagram\":\n",
    "        countervisuals+=1\n",
    "        print(countervisuals)\n",
    "        visualslist.append(medium)\n",
    "    else:\n",
    "        pass\n"
   ]
  },
  {
   "cell_type": "code",
   "execution_count": 76,
   "metadata": {},
   "outputs": [
    {
     "name": "stdout",
     "output_type": "stream",
     "text": [
      "['Tiktok', 'Instagram', 'Tiktok', 'Instagram', 'Tiktok']\n"
     ]
    }
   ],
   "source": [
    "print(visualslist)"
   ]
  },
  {
   "cell_type": "code",
   "execution_count": 81,
   "metadata": {},
   "outputs": [],
   "source": [
    "#filter to have a dict with only Tiktok users\n",
    "#Filter to have only \"heavy users\" (at least 2 social media)\n",
    "socialusers = {\"user1\": [\"Tiktok\", \"Instagram\"],\n",
    "                \"user2\": [\"Instagram, Facebook, Twitter\"],\n",
    "                \"user3\": [\"Twitter\", \"LinkedIn\"],\n",
    "                \"user4\": [\"Tiktok\"],\n",
    "                \"user5\": [\"Tiktok\", \"LinkedIn\"]}\n",
    "\n",
    "for user,media in socialusers.items():\n",
    "    if len(media) > 2:\n",
    "        print(user)"
   ]
  },
  {
   "cell_type": "code",
   "execution_count": null,
   "metadata": {},
   "outputs": [],
   "source": []
  }
 ],
 "metadata": {
  "interpreter": {
   "hash": "aee8b7b246df8f9039afb4144a1f6fd8d2ca17a180786b69acc140d282b71a49"
  },
  "kernelspec": {
   "display_name": "Python 3",
   "language": "python",
   "name": "python3"
  },
  "language_info": {
   "codemirror_mode": {
    "name": "ipython",
    "version": 3
   },
   "file_extension": ".py",
   "mimetype": "text/x-python",
   "name": "python",
   "nbconvert_exporter": "python",
   "pygments_lexer": "ipython3",
   "version": "3.9.1"
  }
 },
 "nbformat": 4,
 "nbformat_minor": 4
}
