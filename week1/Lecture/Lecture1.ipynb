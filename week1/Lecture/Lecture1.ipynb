{
 "cells": [
  {
   "cell_type": "markdown",
   "id": "understood-radio",
   "metadata": {},
   "source": [
    "# Getting started with 🐍 in Jupyter\n",
    "\n",
    "Welcome to the first week of the course. By the end of this week, you should acquire:\n",
    "\n",
    "**Knowledge on:**\n",
    "* Programing language: definition\n",
    "* Differences between programming langauges and software\n",
    "* Computational Communication Science as a subdiscipline\n",
    "* Data types and data structures\n",
    "\n",
    "**Skills on:**\n",
    "* Using Jupyter Lab\n",
    "* Writing in Markdown\n",
    "* Choosing the right data type\n",
    "* Transforming unstructured data in structured "
   ]
  },
  {
   "cell_type": "markdown",
   "id": "a5fafa68-292b-436d-a5ac-7d4a0fe5bf0d",
   "metadata": {},
   "source": [
    "***"
   ]
  },
  {
   "cell_type": "markdown",
   "id": "b910395a-6138-47e3-a3d0-f1516e94f63d",
   "metadata": {},
   "source": [
    "# Jupyter Notebooks 📔\n",
    "\n",
    "Notebooks consist of different `cells`:\n",
    "- Code (Python, R, ...)\n",
    "- Markdown (think: normal text; this is a markdown cell)\n",
    "\n",
    "## Navigation 🌍\n",
    "\n",
    "Any good programmer knows: the less you use the trackpad/mouse the faster/better you become.\n",
    "\n",
    "Try navigating through the notebook in the following way:\n",
    "1. Hit `ESC` a few times to make sure you are in `cell selection mode`.\n",
    "2. Use the ⬆️ and ⬇️ arrow keys to quickly go through cells.\n",
    "3. Hit `ENTER` on a cell to start `cell editing mode`. (note how this changes the layout of a markdown cell).\n",
    "4. Hit `SHIFT` + `ENTER` to `execute` (run) a cell (e.g., this will \"render\" a markdown cell and execute Python code).\n",
    "\n",
    "5. When in `cell selection mode` hit `A` to create a new cell **A**bove the current one; hit `B` for a new cell **B**elow the current one. Hit `D` twice to delete the currently selected cell.\n",
    "6. A newly created cell will always be a `Code` cell. To change it to `Markdown`, simply hit `M` after creating the cell.\n",
    "7. When you accidentially delete a cell, go to `cell selection mode` and hit `Z` to restore the deleted cell.\n",
    "\n",
    "_DO TRY IT YOURSELF!_"
   ]
  },
  {
   "cell_type": "code",
   "execution_count": null,
   "id": "20658739-afb3-4d5d-bf41-e88347bc5d12",
   "metadata": {},
   "outputs": [],
   "source": []
  },
  {
   "cell_type": "markdown",
   "id": "precious-heritage",
   "metadata": {},
   "source": [
    "## Using Jupyter Notebook and Jupyter Lab"
   ]
  },
  {
   "cell_type": "code",
   "execution_count": null,
   "id": "appreciated-publication",
   "metadata": {},
   "outputs": [],
   "source": [
    "#headings"
   ]
  },
  {
   "cell_type": "markdown",
   "id": "45993778-6ab3-4d84-afeb-b2b4cab837da",
   "metadata": {},
   "source": [
    "***"
   ]
  },
  {
   "cell_type": "markdown",
   "id": "862d9bb4-bfcc-48bb-ab21-8a94150fb5dc",
   "metadata": {},
   "source": [
    "## Markdown\n",
    "\n",
    "`Markdown` is a syntax (language) to write in. It allows you to organize your notebook and document your code by using headlines, line breaks, etc. \n",
    "\n",
    "Check out this [cheat sheet](https://www.markdownguide.org/cheat-sheet/) for an introduction. "
   ]
  },
  {
   "cell_type": "markdown",
   "id": "sustainable-proposal",
   "metadata": {},
   "source": [
    "# This is a first level heading\n",
    "\n",
    "## This is a second level heading \n",
    "\n",
    "### This is a third level heading...\n",
    "\n",
    "**This is bold**\n",
    "\n",
    "_This is italic_\n",
    "\n",
    "This is normal (lol). \n",
    "\n",
    "***"
   ]
  },
  {
   "cell_type": "markdown",
   "id": "3730c21f-de48-4236-9ad1-dd6dff8171cc",
   "metadata": {},
   "source": [
    "# Python"
   ]
  },
  {
   "cell_type": "markdown",
   "id": "alpha-singing",
   "metadata": {},
   "source": [
    "## Data types\n",
    "\n",
    "### Floats and Integers\n",
    "\n",
    "Starting from the basics, we have integers or floats. They are... numbers. The difference is that integers are whole numbers, and floats allow for decimals."
   ]
  },
  {
   "cell_type": "code",
   "execution_count": null,
   "id": "cardiac-roulette",
   "metadata": {},
   "outputs": [],
   "source": [
    "#examples\n",
    "#integer\n"
   ]
  },
  {
   "cell_type": "code",
   "execution_count": null,
   "id": "average-hours",
   "metadata": {},
   "outputs": [],
   "source": [
    "#float\n"
   ]
  },
  {
   "cell_type": "code",
   "execution_count": null,
   "id": "antique-victoria",
   "metadata": {},
   "outputs": [],
   "source": [
    "#operations\n"
   ]
  },
  {
   "cell_type": "markdown",
   "id": "human-headline",
   "metadata": {},
   "source": [
    "### Strings\n",
    "\n",
    "Strings are pieces of text and are **always** surrounded by either a single quote (') or a double-quote(\"). \n",
    "\n",
    "**WE TYPICALLY USE DOUBLE-QUOTES TO MARK BEGINNING AND ENDING OF A STRING. WHY?**"
   ]
  },
  {
   "cell_type": "code",
   "execution_count": null,
   "id": "global-display",
   "metadata": {},
   "outputs": [],
   "source": [
    "#examples\n"
   ]
  },
  {
   "cell_type": "code",
   "execution_count": null,
   "id": "empirical-overhead",
   "metadata": {},
   "outputs": [],
   "source": [
    "#operations\n"
   ]
  },
  {
   "cell_type": "markdown",
   "id": "unique-organizer",
   "metadata": {},
   "source": [
    "### Booleans: True, False\n",
    "\n",
    "This datatype can take one of two values: True and False\n",
    "\n",
    "It is important to know them for two reasons:\n",
    "1. They will be used in later in conditions (we'll get into that later)\n",
    "2. You cannot use True, False as a variable name (we'll get into that later as well)"
   ]
  },
  {
   "cell_type": "code",
   "execution_count": null,
   "id": "efficient-nightlife",
   "metadata": {},
   "outputs": [],
   "source": [
    "#examples\n"
   ]
  },
  {
   "cell_type": "markdown",
   "id": "ec1eb6d2-b7cd-4b73-a540-bc611e107213",
   "metadata": {},
   "source": [
    "***"
   ]
  },
  {
   "cell_type": "markdown",
   "id": "substantial-sullivan",
   "metadata": {},
   "source": [
    "## Data structures\n",
    "\n",
    "### Objects\n",
    "In Python, an object can be seen as a \"space\" in memory that can hold a specific value.\n",
    "\n",
    "You will learn that Python is an `object-oriented` programming language. **EVERYTHING** in Python is an object. "
   ]
  },
  {
   "cell_type": "code",
   "execution_count": null,
   "id": "bronze-custody",
   "metadata": {},
   "outputs": [],
   "source": [
    "#examples\n",
    "a=\n",
    "b="
   ]
  },
  {
   "cell_type": "code",
   "execution_count": null,
   "id": "protecting-blake",
   "metadata": {},
   "outputs": [],
   "source": [
    "type(a)"
   ]
  },
  {
   "cell_type": "code",
   "execution_count": null,
   "id": "congressional-makeup",
   "metadata": {},
   "outputs": [],
   "source": [
    "type(b)"
   ]
  },
  {
   "cell_type": "code",
   "execution_count": null,
   "id": "satellite-quest",
   "metadata": {},
   "outputs": [],
   "source": [
    "#adding objects (ints, strings)"
   ]
  },
  {
   "cell_type": "code",
   "execution_count": null,
   "id": "optimum-coffee",
   "metadata": {},
   "outputs": [],
   "source": [
    "a+b"
   ]
  },
  {
   "cell_type": "code",
   "execution_count": null,
   "id": "neither-webmaster",
   "metadata": {},
   "outputs": [],
   "source": [
    "#changing objects"
   ]
  },
  {
   "cell_type": "code",
   "execution_count": null,
   "id": "herbal-pension",
   "metadata": {},
   "outputs": [],
   "source": [
    "a="
   ]
  },
  {
   "cell_type": "code",
   "execution_count": null,
   "id": "identical-movement",
   "metadata": {},
   "outputs": [],
   "source": [
    "a+b"
   ]
  },
  {
   "cell_type": "markdown",
   "id": "binary-speed",
   "metadata": {},
   "source": [
    "## Lists\n",
    "\n",
    "Another interesting concept in Python is the ability to create lists. Lists are what their name says... a list of items."
   ]
  },
  {
   "cell_type": "code",
   "execution_count": 1,
   "id": "recorded-million",
   "metadata": {},
   "outputs": [],
   "source": [
    "#list of strings\n",
    "myitems = ['First item', 'Second item', 'Third item', 'Fourth item', 'Fifth item']"
   ]
  },
  {
   "cell_type": "code",
   "execution_count": 2,
   "id": "monetary-alberta",
   "metadata": {},
   "outputs": [
    {
     "data": {
      "text/plain": [
       "'First item'"
      ]
     },
     "execution_count": 2,
     "metadata": {},
     "output_type": "execute_result"
    }
   ],
   "source": [
    "#access 0th element\n",
    "myitems[0]"
   ]
  },
  {
   "cell_type": "code",
   "execution_count": 3,
   "id": "precious-ghana",
   "metadata": {},
   "outputs": [
    {
     "data": {
      "text/plain": [
       "'Fifth item'"
      ]
     },
     "execution_count": 3,
     "metadata": {},
     "output_type": "execute_result"
    }
   ],
   "source": [
    "#access 4th element\n",
    "myitems[4]"
   ]
  },
  {
   "cell_type": "code",
   "execution_count": 4,
   "id": "described-binary",
   "metadata": {},
   "outputs": [],
   "source": [
    "#append 7 (meaning add 7 to list)\n",
    "myitems.append(7)"
   ]
  },
  {
   "cell_type": "code",
   "execution_count": 5,
   "id": "express-physiology",
   "metadata": {},
   "outputs": [
    {
     "data": {
      "text/plain": [
       "['First item', 'Second item', 'Third item', 'Fourth item', 'Fifth item', 7]"
      ]
     },
     "execution_count": 5,
     "metadata": {},
     "output_type": "execute_result"
    }
   ],
   "source": [
    "myitems"
   ]
  },
  {
   "cell_type": "code",
   "execution_count": 6,
   "id": "beautiful-abuse",
   "metadata": {},
   "outputs": [],
   "source": [
    "#list of lists - each element of the list is a list\n",
    "listoflists = [[1987,82], [7643,35], [7633,67]]"
   ]
  },
  {
   "cell_type": "code",
   "execution_count": 7,
   "id": "special-isolation",
   "metadata": {},
   "outputs": [],
   "source": [
    "#Insert \"Zero item\" at position 0\n",
    "myitems.insert(0,\"Zero item\")"
   ]
  },
  {
   "cell_type": "code",
   "execution_count": 8,
   "id": "continuous-mileage",
   "metadata": {},
   "outputs": [
    {
     "data": {
      "text/plain": [
       "['Zero item',\n",
       " 'First item',\n",
       " 'Second item',\n",
       " 'Third item',\n",
       " 'Fourth item',\n",
       " 'Fifth item',\n",
       " 7]"
      ]
     },
     "execution_count": 8,
     "metadata": {},
     "output_type": "execute_result"
    }
   ],
   "source": [
    "myitems"
   ]
  },
  {
   "cell_type": "code",
   "execution_count": 9,
   "id": "overhead-shield",
   "metadata": {},
   "outputs": [
    {
     "data": {
      "text/plain": [
       "'Zero item'"
      ]
     },
     "execution_count": 9,
     "metadata": {},
     "output_type": "execute_result"
    }
   ],
   "source": [
    "#Remove element at position 0\n",
    "myitems.pop(0)"
   ]
  },
  {
   "cell_type": "code",
   "execution_count": 10,
   "id": "southeast-gregory",
   "metadata": {},
   "outputs": [
    {
     "data": {
      "text/plain": [
       "['First item', 'Second item', 'Third item', 'Fourth item', 'Fifth item', 7]"
      ]
     },
     "execution_count": 10,
     "metadata": {},
     "output_type": "execute_result"
    }
   ],
   "source": [
    "myitems"
   ]
  },
  {
   "cell_type": "code",
   "execution_count": 11,
   "id": "steady-lover",
   "metadata": {},
   "outputs": [],
   "source": [
    "#Operations on a list if lists\n",
    "grades = [6,7,5,6,8,7,6,8,6]"
   ]
  },
  {
   "cell_type": "code",
   "execution_count": 12,
   "id": "introductory-holocaust",
   "metadata": {},
   "outputs": [
    {
     "data": {
      "text/plain": [
       "6.555555555555555"
      ]
     },
     "execution_count": 12,
     "metadata": {},
     "output_type": "execute_result"
    }
   ],
   "source": [
    "#What is average grade?\n",
    "sum(grades)/len(grades)"
   ]
  },
  {
   "cell_type": "markdown",
   "id": "3b3cd565-02c3-4cd5-aa93-24306ae309f9",
   "metadata": {},
   "source": [
    "❓ What are the sum() and len() things? \n",
    "\n",
    "=> They are called `functions`. You will learn about them in more depth. For now, you should only remember that functions... \n",
    "\n",
    "- are always `called` (executed) using `()`\n",
    "- always require an `input` and return an `output`. Remember: $$ f(x) = y $$"
   ]
  },
  {
   "cell_type": "markdown",
   "id": "9e7eb711-51b1-4d39-a442-46e838a5458f",
   "metadata": {},
   "source": [
    "***"
   ]
  },
  {
   "cell_type": "markdown",
   "id": "recent-spain",
   "metadata": {},
   "source": [
    "## Dictionaries\n",
    "\n",
    "A very handy concept in Python is the option to create dictionaries. As you have noticed with lists, you can only access items by their location - so you need to know if they are the first, second, third element in the list to be able to get their value.\n",
    "\n",
    "With dictionaries, we can store information with keys. So instead of accessing something by their location (or position), we find it by its key."
   ]
  },
  {
   "cell_type": "code",
   "execution_count": 13,
   "id": "electric-honey",
   "metadata": {},
   "outputs": [],
   "source": [
    "#examples\n",
    "world_capitals = {\n",
    "    'Netherlands': 'Amsterdam',\n",
    "    'Germany' : 'Berlin',\n",
    "    'Italy' : 'Rome',\n",
    "    'France' : 'Paris',\n",
    "    'UK' : 'London',\n",
    "    'US': 'Washington',\n",
    "    'China': 'Beijing'\n",
    "}"
   ]
  },
  {
   "cell_type": "code",
   "execution_count": 14,
   "id": "resistant-gasoline",
   "metadata": {},
   "outputs": [
    {
     "data": {
      "text/plain": [
       "dict_keys(['Netherlands', 'Germany', 'Italy', 'France', 'UK', 'US', 'China'])"
      ]
     },
     "execution_count": 14,
     "metadata": {},
     "output_type": "execute_result"
    }
   ],
   "source": [
    "#print keys\n",
    "world_capitals.keys()"
   ]
  },
  {
   "cell_type": "code",
   "execution_count": 15,
   "id": "bottom-palestinian",
   "metadata": {},
   "outputs": [
    {
     "data": {
      "text/plain": [
       "dict_values(['Amsterdam', 'Berlin', 'Rome', 'Paris', 'London', 'Washington', 'Beijing'])"
      ]
     },
     "execution_count": 15,
     "metadata": {},
     "output_type": "execute_result"
    }
   ],
   "source": [
    "#print values\n",
    "world_capitals.values()"
   ]
  },
  {
   "cell_type": "code",
   "execution_count": 16,
   "id": "exposed-reserve",
   "metadata": {},
   "outputs": [],
   "source": [
    "#extending dictionary"
   ]
  },
  {
   "cell_type": "code",
   "execution_count": 17,
   "id": "registered-knife",
   "metadata": {},
   "outputs": [],
   "source": [
    "nvisits = {'Jonny': 3,\n",
    "         'Maarten': 5,\n",
    "         'Rob': 3,\n",
    "         \"Marthe\": 7,\n",
    "         \"Fabio\": 8}"
   ]
  },
  {
   "cell_type": "code",
   "execution_count": 19,
   "id": "optional-spiritual",
   "metadata": {},
   "outputs": [],
   "source": [
    "#Add key \"John\" and assiciated with it value 5 to the dictiornay nvisits\n"
   ]
  },
  {
   "cell_type": "code",
   "execution_count": 20,
   "id": "dominant-examination",
   "metadata": {},
   "outputs": [
    {
     "data": {
      "text/plain": [
       "{'Jonny': 3, 'Maarten': 5, 'Rob': 3, 'Marthe': 7, 'Fabio': 8, 'John': 5}"
      ]
     },
     "execution_count": 20,
     "metadata": {},
     "output_type": "execute_result"
    }
   ],
   "source": [
    "nvistis"
   ]
  },
  {
   "cell_type": "code",
   "execution_count": null,
   "id": "hired-playlist",
   "metadata": {},
   "outputs": [],
   "source": [
    "#Erorr when calling non-existing key\n"
   ]
  },
  {
   "cell_type": "code",
   "execution_count": null,
   "id": "00326e1d-57a9-42ed-be0d-59efc466635e",
   "metadata": {},
   "outputs": [],
   "source": []
  }
 ],
 "metadata": {
  "interpreter": {
   "hash": "aee8b7b246df8f9039afb4144a1f6fd8d2ca17a180786b69acc140d282b71a49"
  },
  "kernelspec": {
   "display_name": "Python 3 (ipykernel)",
   "language": "python",
   "name": "python3"
  },
  "language_info": {
   "codemirror_mode": {
    "name": "ipython",
    "version": 3
   },
   "file_extension": ".py",
   "mimetype": "text/x-python",
   "name": "python",
   "nbconvert_exporter": "python",
   "pygments_lexer": "ipython3",
   "version": "3.8.18"
  }
 },
 "nbformat": 4,
 "nbformat_minor": 5
}
