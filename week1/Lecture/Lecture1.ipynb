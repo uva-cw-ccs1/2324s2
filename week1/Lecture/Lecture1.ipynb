{
 "cells": [
  {
   "cell_type": "markdown",
   "id": "understood-radio",
   "metadata": {},
   "source": [
    "# Getting started with Python in Jupyter\n",
    "\n",
    "Welcome to the first week of the course. By the end of this week, you should acquire:\n",
    "\n",
    "**Knowledge on:**\n",
    "* Programing language: definition\n",
    "* Differences between programming langauges and software\n",
    "* Computational Communication Science as a subdiscipline\n",
    "* Data types and data structures\n",
    "\n",
    "**Skills on:**\n",
    "* Using Jupyter Lab\n",
    "* Writing in Markdown\n",
    "* Choosing the right data type\n",
    "* Transforming unstructured data in structured "
   ]
  },
  {
   "cell_type": "markdown",
   "id": "precious-heritage",
   "metadata": {},
   "source": [
    "## Using Jupyter Notebook and Jupyter Lab"
   ]
  },
  {
   "cell_type": "code",
   "execution_count": null,
   "id": "appreciated-publication",
   "metadata": {},
   "outputs": [],
   "source": [
    "#headings"
   ]
  },
  {
   "cell_type": "markdown",
   "id": "sustainable-proposal",
   "metadata": {},
   "source": [
    "# This is a first level heading"
   ]
  },
  {
   "cell_type": "code",
   "execution_count": null,
   "id": "sophisticated-raleigh",
   "metadata": {},
   "outputs": [],
   "source": [
    "#special characters"
   ]
  },
  {
   "cell_type": "markdown",
   "id": "encouraging-bottle",
   "metadata": {},
   "source": [
    "**This is bold**"
   ]
  },
  {
   "cell_type": "markdown",
   "id": "alpha-singing",
   "metadata": {},
   "source": [
    "## Data types\n",
    "\n",
    "### Floats and Integers\n",
    "\n",
    "Starting from the basics, we have integers or floats. They are... numbers. The difference is that integers are whole numbers, and floats allow for decimals."
   ]
  },
  {
   "cell_type": "code",
   "execution_count": null,
   "id": "cardiac-roulette",
   "metadata": {},
   "outputs": [],
   "source": [
    "#examples\n",
    "#integer\n"
   ]
  },
  {
   "cell_type": "code",
   "execution_count": null,
   "id": "average-hours",
   "metadata": {},
   "outputs": [],
   "source": [
    "#float\n"
   ]
  },
  {
   "cell_type": "code",
   "execution_count": null,
   "id": "antique-victoria",
   "metadata": {},
   "outputs": [],
   "source": [
    "#operations\n"
   ]
  },
  {
   "cell_type": "markdown",
   "id": "human-headline",
   "metadata": {},
   "source": [
    "### Strings\n",
    "\n",
    "Strings are pieces of text and are **always** surrounded by either a single quote (') or a double-quote(\")"
   ]
  },
  {
   "cell_type": "code",
   "execution_count": null,
   "id": "global-display",
   "metadata": {},
   "outputs": [],
   "source": [
    "#examples\n"
   ]
  },
  {
   "cell_type": "code",
   "execution_count": null,
   "id": "empirical-overhead",
   "metadata": {},
   "outputs": [],
   "source": [
    "#operations\n"
   ]
  },
  {
   "cell_type": "markdown",
   "id": "unique-organizer",
   "metadata": {},
   "source": [
    "### Booleans: True, False\n",
    "\n",
    "This datatype can take one of two values: True and False\n",
    "\n",
    "It is important to know them for two reasons:\n",
    "1. They will be used in later in conditions (we'll get into that later)\n",
    "2. You cannot use True, False as a variable name (we'll get into that later as well)"
   ]
  },
  {
   "cell_type": "code",
   "execution_count": null,
   "id": "efficient-nightlife",
   "metadata": {},
   "outputs": [],
   "source": [
    "#examples\n"
   ]
  },
  {
   "cell_type": "markdown",
   "id": "substantial-sullivan",
   "metadata": {},
   "source": [
    "## Data structures\n",
    "\n",
    "### Objects\n",
    "In Python, an object can be seen as a \"space\" in memory that can hold a specific value."
   ]
  },
  {
   "cell_type": "code",
   "execution_count": null,
   "id": "bronze-custody",
   "metadata": {},
   "outputs": [],
   "source": [
    "#examples\n",
    "a=\n",
    "b="
   ]
  },
  {
   "cell_type": "code",
   "execution_count": null,
   "id": "protecting-blake",
   "metadata": {},
   "outputs": [],
   "source": [
    "type(a)"
   ]
  },
  {
   "cell_type": "code",
   "execution_count": null,
   "id": "congressional-makeup",
   "metadata": {},
   "outputs": [],
   "source": [
    "type(b)"
   ]
  },
  {
   "cell_type": "code",
   "execution_count": null,
   "id": "satellite-quest",
   "metadata": {},
   "outputs": [],
   "source": [
    "#adding objects (ints, strings)"
   ]
  },
  {
   "cell_type": "code",
   "execution_count": null,
   "id": "optimum-coffee",
   "metadata": {},
   "outputs": [],
   "source": [
    "a+b"
   ]
  },
  {
   "cell_type": "code",
   "execution_count": null,
   "id": "neither-webmaster",
   "metadata": {},
   "outputs": [],
   "source": [
    "#changing objects"
   ]
  },
  {
   "cell_type": "code",
   "execution_count": null,
   "id": "herbal-pension",
   "metadata": {},
   "outputs": [],
   "source": [
    "a="
   ]
  },
  {
   "cell_type": "code",
   "execution_count": null,
   "id": "identical-movement",
   "metadata": {},
   "outputs": [],
   "source": [
    "a+b"
   ]
  },
  {
   "cell_type": "markdown",
   "id": "binary-speed",
   "metadata": {},
   "source": [
    "## Lists\n",
    "\n",
    "Another interesting concept in Python is the ability to create lists. Lists are what their name says... a list of items."
   ]
  },
  {
   "cell_type": "code",
   "execution_count": null,
   "id": "recorded-million",
   "metadata": {},
   "outputs": [],
   "source": [
    "#list of strings\n",
    "myitems = ['First item', 'Second item', 'Third item', 'Fourth item', 'Fifth item']"
   ]
  },
  {
   "cell_type": "code",
   "execution_count": null,
   "id": "monetary-alberta",
   "metadata": {},
   "outputs": [],
   "source": [
    "#access 0th element\n",
    "myitems[0]"
   ]
  },
  {
   "cell_type": "code",
   "execution_count": null,
   "id": "precious-ghana",
   "metadata": {},
   "outputs": [],
   "source": [
    "#access 4th element\n",
    "myitems[4]"
   ]
  },
  {
   "cell_type": "code",
   "execution_count": null,
   "id": "described-binary",
   "metadata": {},
   "outputs": [],
   "source": [
    "#appned 7 (meaning add 7 to list)\n",
    "myitems.append(7)"
   ]
  },
  {
   "cell_type": "code",
   "execution_count": null,
   "id": "express-physiology",
   "metadata": {},
   "outputs": [],
   "source": [
    "myitems"
   ]
  },
  {
   "cell_type": "code",
   "execution_count": null,
   "id": "beautiful-abuse",
   "metadata": {},
   "outputs": [],
   "source": [
    "#list of lists - each element of the list is a list\n",
    "listoflists = [[1987,82], [7643,35], [7633,67]]"
   ]
  },
  {
   "cell_type": "code",
   "execution_count": null,
   "id": "special-isolation",
   "metadata": {},
   "outputs": [],
   "source": [
    "#Insert \"Zero item\" at position 0\n",
    "myitems.insert(0,\"Zero item\")"
   ]
  },
  {
   "cell_type": "code",
   "execution_count": null,
   "id": "continuous-mileage",
   "metadata": {},
   "outputs": [],
   "source": [
    "myitems"
   ]
  },
  {
   "cell_type": "code",
   "execution_count": null,
   "id": "overhead-shield",
   "metadata": {},
   "outputs": [],
   "source": [
    "#Remove element at position 0\n",
    "myitems.pop(0)"
   ]
  },
  {
   "cell_type": "code",
   "execution_count": null,
   "id": "southeast-gregory",
   "metadata": {},
   "outputs": [],
   "source": [
    "myitems"
   ]
  },
  {
   "cell_type": "code",
   "execution_count": null,
   "id": "steady-lover",
   "metadata": {},
   "outputs": [],
   "source": [
    "#Operations on a list if lists\n",
    "grades = [6,7,5,6,8,7,6,8,6]"
   ]
  },
  {
   "cell_type": "code",
   "execution_count": null,
   "id": "introductory-holocaust",
   "metadata": {},
   "outputs": [],
   "source": [
    "#What is average grade?\n",
    "sum(grades)/len(grades)"
   ]
  },
  {
   "cell_type": "markdown",
   "id": "recent-spain",
   "metadata": {},
   "source": [
    "## Dictionaries\n",
    "\n",
    "A very handy concept in Python is the option to create dictionaries. As you have noticed with lists and tuples, you can only access items by their location - so you need to know if they are the first, second, third element in the list to be able to get their value.\n",
    "\n",
    "With dictionaries, we can store information with keys. So instead of accessing something by their location (or position), we find it by its key."
   ]
  },
  {
   "cell_type": "code",
   "execution_count": null,
   "id": "electric-honey",
   "metadata": {},
   "outputs": [],
   "source": [
    "#examples\n",
    "world_capitals = {\n",
    "    'Netherlands': 'Amsterdam',\n",
    "    'Germany' : 'Berlin',\n",
    "    'Italy' : 'Rome',\n",
    "    'France' : 'Paris',\n",
    "    'UK' : 'London',\n",
    "    'US': 'Washington',\n",
    "    'China': 'Beijing'\n",
    "}"
   ]
  },
  {
   "cell_type": "code",
   "execution_count": null,
   "id": "resistant-gasoline",
   "metadata": {},
   "outputs": [],
   "source": [
    "#print keys\n",
    "world_capitals.keys()"
   ]
  },
  {
   "cell_type": "code",
   "execution_count": null,
   "id": "bottom-palestinian",
   "metadata": {},
   "outputs": [],
   "source": [
    "#print values\n",
    "world_capitals.values()"
   ]
  },
  {
   "cell_type": "code",
   "execution_count": null,
   "id": "exposed-reserve",
   "metadata": {},
   "outputs": [],
   "source": [
    "#extending dictionary"
   ]
  },
  {
   "cell_type": "code",
   "execution_count": null,
   "id": "registered-knife",
   "metadata": {},
   "outputs": [],
   "source": [
    "nvisits = {'Jonny': 3,\n",
    "         'Maarten': 5,\n",
    "         'Rob': 3,\n",
    "         \"Marthe\": 7,\n",
    "         \"Fabio\": 8}"
   ]
  },
  {
   "cell_type": "code",
   "execution_count": null,
   "id": "optional-spiritual",
   "metadata": {},
   "outputs": [],
   "source": [
    "#Add key \"John\" and assiciated with it value 5 to the dictiornay nvisits\n"
   ]
  },
  {
   "cell_type": "code",
   "execution_count": null,
   "id": "dominant-examination",
   "metadata": {},
   "outputs": [],
   "source": [
    "nvisits"
   ]
  },
  {
   "cell_type": "code",
   "execution_count": null,
   "id": "hired-playlist",
   "metadata": {},
   "outputs": [],
   "source": [
    "#Erorr when calling non-existing key\n"
   ]
  },
  {
   "cell_type": "code",
   "execution_count": null,
   "id": "closed-necessity",
   "metadata": {},
   "outputs": [],
   "source": []
  }
 ],
 "metadata": {
  "interpreter": {
   "hash": "aee8b7b246df8f9039afb4144a1f6fd8d2ca17a180786b69acc140d282b71a49"
  },
  "kernelspec": {
   "display_name": "Python 3.9.1 64-bit",
   "language": "python",
   "name": "python3"
  },
  "language_info": {
   "codemirror_mode": {
    "name": "ipython",
    "version": 3
   },
   "file_extension": ".py",
   "mimetype": "text/x-python",
   "name": "python",
   "nbconvert_exporter": "python",
   "pygments_lexer": "ipython3",
   "version": "3.9.1"
  }
 },
 "nbformat": 4,
 "nbformat_minor": 5
}
