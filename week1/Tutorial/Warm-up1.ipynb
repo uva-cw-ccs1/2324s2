{
 "cells": [
  {
   "cell_type": "markdown",
   "id": "transparent-redhead",
   "metadata": {},
   "source": [
    "# Warm-up excercises week 1"
   ]
  },
  {
   "cell_type": "markdown",
   "id": "elect-perspective",
   "metadata": {},
   "source": [
    "Now that we've seen how Python and Jupyter Notebooks work and that you have read about Computational Communication Science, it's time for you to combine apply this knowledge. To prepare for the tutorial, we ask you to complete two warm-up exercises.\n",
    "\n",
    "\n",
    "Some important notes for the exercises:\n",
    "\n",
    "* These exercises are a warming up meant to help you get ready for class. Make sure to give them a try on all of them. If you get an error message, try to troubleshoot it (using Google often helps). If all else fails, go to the next exercise.\n",
    "* As these exercises are meant to help you participate in the tutorial and us to make sure you can get as much as possible from the tutorials, we do not expect perfect answers. However, this is important to try and write down what obstacles you faced to share in the class."
   ]
  },
  {
   "cell_type": "markdown",
   "id": "stopped-membrane",
   "metadata": {},
   "source": [
    "# Excercise 1\n",
    "\n",
    "Check out how to add (1) a list, (2) an image and (3) a link in a cell in MarkDown. You may need to search this online. Check how to do it, and include a list, an image and a link in your notebook below."
   ]
  },
  {
   "cell_type": "code",
   "execution_count": null,
   "id": "atlantic-xerox",
   "metadata": {},
   "outputs": [],
   "source": []
  },
  {
   "cell_type": "markdown",
   "id": "brazilian-vocabulary",
   "metadata": {},
   "source": [
    "# Excercise 2\n",
    "\n",
    "We would like you to conduct a number of operations in Python to practice what we discussed in the lecture:\n",
    "* Create three objects: a, b and c.  `a` takes the value `5`, `b` takes the value `7.7` and `c` takes the value `\"5\"`\n",
    "    * What data types do these objects have? Use appropiate python code to show it.\n",
    "    * Create a sum of these objects. *Tip: make sure they have the appropriate data type*\n",
    "* Create a dictonary that contains information on age for a number of individuals: Anne, 8 years old; Brian, 7 years old; Rebecah, 7 years old; Nick, 9 years old; Emma, 6 years old.\n",
    "    * Write a Python script to add information on Liz, 10 years old to the dictionary."
   ]
  },
  {
   "cell_type": "code",
   "execution_count": null,
   "id": "congressional-retailer",
   "metadata": {},
   "outputs": [],
   "source": []
  }
 ],
 "metadata": {
  "kernelspec": {
   "display_name": "Python 3",
   "language": "python",
   "name": "python3"
  },
  "language_info": {
   "codemirror_mode": {
    "name": "ipython",
    "version": 3
   },
   "file_extension": ".py",
   "mimetype": "text/x-python",
   "name": "python",
   "nbconvert_exporter": "python",
   "pygments_lexer": "ipython3",
   "version": "3.9.1"
  }
 },
 "nbformat": 4,
 "nbformat_minor": 5
}
