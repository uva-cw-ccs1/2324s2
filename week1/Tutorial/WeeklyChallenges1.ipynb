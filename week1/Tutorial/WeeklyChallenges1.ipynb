{
 "cells": [
  {
   "cell_type": "markdown",
   "id": "junior-newcastle",
   "metadata": {},
   "source": [
    "# Challenges week 1"
   ]
  },
  {
   "cell_type": "markdown",
   "id": "covered-marsh",
   "metadata": {},
   "source": [
    "Now that you have some experience with Jupyter notebooks and variables in Python, it's time for you to combine and apply this week's knowledge. You will start working on these challenges in the tutorial and will complete them in your own time. \n",
    "\n",
    "In each challenge, you are asked to provide the programing solution to it as well as a technical interpretation explaining the steps taken and the result.\n",
    "\n",
    "Some important notes for the challenges:\n",
    "\n",
    "* If you get an error message, try to troubleshoot it (using Google often helps) or ask us in the tutorial."
   ]
  },
  {
   "cell_type": "markdown",
   "id": "addressed-birthday",
   "metadata": {},
   "source": [
    "# Challenge 1\n",
    "\n",
    "Below, you have a list that contains referals (places from which a visitor has entered a website) for one hour of the day. This is an example of digital trace data. Imagine that this is a list of referrals to the website of a news organization for one article. The list is ordered chronologically (i.e., first entries start at the full hour). \n",
    "\n",
    "Using the skills you have learned in the tutorial provide the following information:\n",
    "* How many readers did the article have in one hour?\n",
    "* Where did the first five visits come from?\n",
    "* Where did the last 10 visitors come from?\n",
    "* How many visitors came from the newsletter?\n",
    "\n",
    "For each question, provide the necessary code and a short explanation of the choices you made."
   ]
  },
  {
   "cell_type": "code",
   "execution_count": 17,
   "id": "united-astronomy",
   "metadata": {},
   "outputs": [],
   "source": [
    "visitors = ['homepage',\n",
    "            'homepage',\n",
    "            'homepage',\n",
    "            'instagram app',\n",
    "            'facebook app',\n",
    "            'campaign utx=1389',\n",
    "            'homepage',\n",
    "            'facebook app',\n",
    "            'homepage',\n",
    "            'google search',\n",
    "            'homepage',\n",
    "            'facebook app',\n",
    "            'homepage',\n",
    "            'homepage',\n",
    "            'homepage',\n",
    "            'campaign utx=1389',\n",
    "            'homepage',\n",
    "            'homepage',\n",
    "            'instagram app',\n",
    "            'campaign utx=1389',\n",
    "            'facebook.com',\n",
    "            'facebook app',\n",
    "            'google search',\n",
    "            'homepage',\n",
    "            'campaign utx=1389',\n",
    "            'campaign utx=1389',\n",
    "            'homepage',\n",
    "            'instagram app',\n",
    "            'homepage',\n",
    "            'homepage',\n",
    "            'homepage',\n",
    "            'instagram app',\n",
    "            'campaign utx=1389',\n",
    "            'instagram app',\n",
    "            'facebook app',\n",
    "            'homepage',\n",
    "            'facebook.com',\n",
    "            'campaign utx=1389'\n",
    "            'campaign utx=1389'\n",
    "            'homepage',\n",
    "            'homepage',\n",
    "            'facebook.com',\n",
    "            'instagram app',\n",
    "            'instagram app',\n",
    "            'campaign utx=1389',\n",
    "            'homepage',\n",
    "            'facebook.com',\n",
    "            'newsletter',\n",
    "            'newsletter',\n",
    "            'homepage',\n",
    "            'newsletter',\n",
    "            'homepage',\n",
    "            'newsletter',\n",
    "            'facebook.com',\n",
    "            'facebook.com',\n",
    "            'homepage',\n",
    "            'newsletter',\n",
    "            'newsletter',\n",
    "            'newsletter',\n",
    "            'google search',\n",
    "            'campaign utx=1389',\n",
    "            'newsletter',\n",
    "            'newsletter']"
   ]
  },
  {
   "cell_type": "code",
   "execution_count": null,
   "id": "noticed-inspector",
   "metadata": {},
   "outputs": [],
   "source": []
  },
  {
   "cell_type": "markdown",
   "id": "received-gothic",
   "metadata": {},
   "source": [
    "# Challenge 2\n",
    "\n",
    "The table  contains information on grades for an assigment. \n",
    "\n",
    "| Name  | Grade |\n",
    "|-------|-------|\n",
    "| Emily | 6     |\n",
    "| Ron   | 7     |\n",
    "| John  | 7     |\n",
    "| Amber | 8     |\n",
    "| Emma  | 6     |\n",
    "| David | 5     |\n",
    "| Anne  | 6     |\n",
    "\n",
    "1. Create a dictionary with the information from the table.\n",
    "2. Using the dictionary you have created, write a code to compute average grade for the assignment. \n",
    "3. Rob was late with his assignment. Add his grade (7) to the dictionary.\n",
    "\n",
    "For each question, provide the necessary code and a short explanation of the choices you made."
   ]
  },
  {
   "cell_type": "code",
   "execution_count": null,
   "id": "alive-murray",
   "metadata": {},
   "outputs": [],
   "source": []
  },
  {
   "cell_type": "markdown",
   "id": "convenient-alabama",
   "metadata": {},
   "source": [
    "# Challenge 3\n",
    "\n",
    "This is the most important challenge of this week, as we will use the concepts here to think how to organize our (digital) data. The paragraph below contains a lot of information. How would you organize this data in a way that you can visualize and work with it later? Consider using lists, dictionaries, tuples... or whatever makes sense to you!\n",
    "\n",
    "Please explain why you decided to organize the data in the way that you did. In this explanation, consider both *technical* aspects (i.e., why lists, dictionaries, tuples or combinations thereof) and *substantive* aspects (i.e., why you structured the data in the way that you did).\n",
    "\n",
    "```\n",
    "Lake Aarens is 28 years old, works as an analyst at ING,\n",
    "and is mother to a 3 year old boy. She is married to John.\n",
    "On average, she spends 30 minutes a day on social media.\n",
    "John Aarens is 32 years old, works as a journalist at NRC, \n",
    "and was born in the US. He has a 3 year old boy and is married to Lake. \n",
    "On average, he spends 45 minutes on social media.\n",
    "Catharine Blakeslee is a student at the University of Amsterdam, born in 2000, \n",
    "she is not married and does not have children. She was born in the UK.\n",
    "She does not use social media.\n",
    "Walter Menno is 71 years old and is on pention. He is married to Anne\n",
    "They do not have children. On average, Walter spends 1.5 hours a day on social media.\n",
    "Anne Menno is 66 years old and works part-time as a teacher in a primary school.\n",
    "She is married to Menno. On average, she spends 15 minutes a day on social media. \n",
    "```"
   ]
  },
  {
   "cell_type": "code",
   "execution_count": null,
   "id": "frank-webcam",
   "metadata": {},
   "outputs": [],
   "source": []
  }
 ],
 "metadata": {
  "kernelspec": {
   "display_name": "Python 3",
   "language": "python",
   "name": "python3"
  },
  "language_info": {
   "codemirror_mode": {
    "name": "ipython",
    "version": 3
   },
   "file_extension": ".py",
   "mimetype": "text/x-python",
   "name": "python",
   "nbconvert_exporter": "python",
   "pygments_lexer": "ipython3",
   "version": "3.9.1"
  }
 },
 "nbformat": 4,
 "nbformat_minor": 5
}
