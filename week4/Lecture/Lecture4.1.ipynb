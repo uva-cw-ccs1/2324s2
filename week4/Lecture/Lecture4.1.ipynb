{
 "cells": [
  {
   "cell_type": "markdown",
   "id": "exciting-advantage",
   "metadata": {},
   "source": [
    "# Lecture Week 4 Session 1\n",
    "\n",
    "## Reading and Writing Files in Python\n",
    "\n",
    "***"
   ]
  },
  {
   "cell_type": "markdown",
   "id": "a1306008-34aa-4315-82a6-b0c509b10943",
   "metadata": {},
   "source": [
    "## Where am I _currently_? "
   ]
  },
  {
   "cell_type": "markdown",
   "id": "9585b45a-04c1-4a66-8745-a48fc193e061",
   "metadata": {},
   "source": [
    "The `present working directory (pwd)`is where your current Python kernel is `running`. When working with notebooks, this is typically where your notebook is located. "
   ]
  },
  {
   "cell_type": "code",
   "execution_count": 1,
   "id": "6811a9bf-5971-4be8-b6ec-626904ea7a1f",
   "metadata": {},
   "outputs": [
    {
     "name": "stdout",
     "output_type": "stream",
     "text": [
      "Present Working Directory (PWD):\n",
      " /Users/fhopp/Library/Mobile Documents/com~apple~CloudDocs/FRH/Science/ASCoR/Teaching/CCS/CCS_2024_S2/lectures/week4\n"
     ]
    }
   ],
   "source": [
    "import os\n",
    "\n",
    "# Get the present working directory\n",
    "pwd = os.getcwd()\n",
    "\n",
    "print(\"Present Working Directory (PWD):\\n\", pwd)"
   ]
  },
  {
   "cell_type": "markdown",
   "id": "113370d7-4613-4b8e-8af0-b1cc2d8c0af3",
   "metadata": {},
   "source": [
    "## Which files are in my pwd?"
   ]
  },
  {
   "cell_type": "code",
   "execution_count": 2,
   "id": "e8298bea-940b-4f90-8fe9-e66aa29c76ee",
   "metadata": {},
   "outputs": [
    {
     "data": {
      "text/plain": [
       "['newwordlist.txt',\n",
       " '.DS_Store',\n",
       " 'Lecture4.1.ipynb',\n",
       " 'Example_trace_data.json',\n",
       " 'Example_word_list.txt',\n",
       " '.ipynb_checkpoints',\n",
       " '.jupyter',\n",
       " 'Example_shop_data.csv',\n",
       " 'Week 4.pptx',\n",
       " '~$Week 4.pptx']"
      ]
     },
     "execution_count": 2,
     "metadata": {},
     "output_type": "execute_result"
    }
   ],
   "source": [
    "files_and_directories = os.listdir()\n",
    "\n",
    "files_and_directories"
   ]
  },
  {
   "cell_type": "markdown",
   "id": "d290f05a-b609-4a81-adbb-d16e38d75f66",
   "metadata": {},
   "source": [
    "***"
   ]
  },
  {
   "cell_type": "code",
   "execution_count": 3,
   "id": "heavy-astronomy",
   "metadata": {},
   "outputs": [],
   "source": [
    "#reading txt\n",
    "wordlist=[]"
   ]
  },
  {
   "cell_type": "code",
   "execution_count": 4,
   "id": "exterior-scanning",
   "metadata": {},
   "outputs": [],
   "source": [
    "with open('Example_word_list.txt', mode = 'r', encoding='utf-8') as f:\n",
    "    for line in f:\n",
    "        wordlist.append(line.strip())"
   ]
  },
  {
   "cell_type": "code",
   "execution_count": 5,
   "id": "17ebc7c8-8248-4a53-b638-11b94ab3ff92",
   "metadata": {},
   "outputs": [
    {
     "data": {
      "text/plain": [
       "['a', 'aa', 'aaa', 'aah', 'aahed']"
      ]
     },
     "execution_count": 5,
     "metadata": {},
     "output_type": "execute_result"
    }
   ],
   "source": [
    "# Show the first 5 entries\n",
    "wordlist[0:5]"
   ]
  },
  {
   "cell_type": "code",
   "execution_count": 6,
   "id": "supposed-thirty",
   "metadata": {},
   "outputs": [],
   "source": [
    "#Changing txt - adding a word\n",
    "wordlist.append('new_word')"
   ]
  },
  {
   "cell_type": "code",
   "execution_count": 7,
   "id": "a5502fbc-488b-4d3e-9445-2522bcf7913a",
   "metadata": {},
   "outputs": [
    {
     "data": {
      "text/plain": [
       "['zwinglianist', 'zwitter', 'zwitterion', 'zwitterionic', 'new_word']"
      ]
     },
     "execution_count": 7,
     "metadata": {},
     "output_type": "execute_result"
    }
   ],
   "source": [
    "wordlist[-5:]"
   ]
  },
  {
   "cell_type": "code",
   "execution_count": 8,
   "id": "local-audience",
   "metadata": {},
   "outputs": [],
   "source": [
    "# Writing to newfile\n",
    "with open('newwordlist.txt', mode='w', encoding='utf-8') as f:\n",
    "    for word in wordlist:\n",
    "        f.write(word + '\\n')"
   ]
  },
  {
   "cell_type": "markdown",
   "id": "979a85f8-4125-4a53-ab12-2b54d059f4ef",
   "metadata": {},
   "source": [
    "***"
   ]
  },
  {
   "cell_type": "code",
   "execution_count": 9,
   "id": "bigger-chile",
   "metadata": {},
   "outputs": [],
   "source": [
    "# importing\n",
    "import json\n",
    " \n",
    "# Opening JSON file\n",
    "with open('Example_trace_data.json', mode = \"r\", encoding='utf-8') as json_file:\n",
    "    data = json.load(json_file)"
   ]
  },
  {
   "cell_type": "code",
   "execution_count": 10,
   "id": "contemporary-railway",
   "metadata": {},
   "outputs": [
    {
     "data": {
      "text/plain": [
       "[{'id': 17856030280050897,\n",
       "  'created_at': 1460536003,\n",
       "  'text': 'Amazing post',\n",
       "  'owner': {'id': '258072239',\n",
       "   'is_verified': False,\n",
       "   'profile_pic_url': 'https://scontent-amt2-1.cdninstagram.com/v/t51.2885-19/s150x150/56716439_2164431090536028_1322459527525695488_n.jpg?tp=1&_nc_ht=scontent-amt2-1.cdninstagram.com&_nc_ohc=0nKvmdOv1oUAX_tCvKW&oh=af792d725a674555fd596e65673f5d6f&oe=606EFF09',\n",
       "   'username': 'theroyaldanishballet.dancers'},\n",
       "  'likes_count': 0,\n",
       "  'answers': []},\n",
       " {'id': 17855984527050897,\n",
       "  'created_at': 1460370495,\n",
       "  'text': 'Beautiful photo!!',\n",
       "  'owner': {'id': '1981148420',\n",
       "   'is_verified': False,\n",
       "   'profile_pic_url': 'https://instagram.fruh4-1.fna.fbcdn.net/v/t51.2885-19/44884218_345707102882519_2446069589734326272_n.jpg?_nc_ht=instagram.fruh4-1.fna.fbcdn.net&_nc_ohc=q2X-4RcAgecAX-zmpvG&oh=503b0eb981e5925c25bea81a8b5d5e33&oe=606FB88F&ig_cache_key=YW5vbnltb3VzX3Byb2ZpbGVfcGlj.2',\n",
       "   'username': 'fuss60'},\n",
       "  'likes_count': 0,\n",
       "  'answers': []}]"
      ]
     },
     "execution_count": 10,
     "metadata": {},
     "output_type": "execute_result"
    }
   ],
   "source": [
    "data"
   ]
  },
  {
   "cell_type": "code",
   "execution_count": 11,
   "id": "5133384c-af01-4b8f-8431-211be7eb7379",
   "metadata": {},
   "outputs": [
    {
     "data": {
      "text/plain": [
       "list"
      ]
     },
     "execution_count": 11,
     "metadata": {},
     "output_type": "execute_result"
    }
   ],
   "source": [
    "type(data)"
   ]
  },
  {
   "cell_type": "code",
   "execution_count": 12,
   "id": "14c6bd34-6d55-4439-a46b-38231183d1ab",
   "metadata": {},
   "outputs": [
    {
     "data": {
      "text/plain": [
       "dict"
      ]
     },
     "execution_count": 12,
     "metadata": {},
     "output_type": "execute_result"
    }
   ],
   "source": [
    "type(data[0])"
   ]
  },
  {
   "cell_type": "code",
   "execution_count": 13,
   "id": "angry-knife",
   "metadata": {},
   "outputs": [
    {
     "name": "stdout",
     "output_type": "stream",
     "text": [
      "['36548', '0', 'Referral', '0', '20171010', 'Chrome', 'desktop', 'False', 'Macintosh', '6413139757155395885', 'Austin', 'Americas', 'United States', 'Austin TX', '(not set)', 'Texas', 'Northern America', '0', 'shop.googlemerchandisestore.com/home', '0.0', 'shop.googlemerchandisestore.com/home', '(not set)', '(not set)', '(not set)', '(not set)', '(not set)', '8.0', 'True', '', '50.0', 'shop.googlemerchandisestore.com', '/home', '/home', '', '', '', 'Home', '', '', '', '', '', '', '', '', '', '', '', 'True', 'home_main_link_apparel.jpg', 'Apparel Row 1', 'Apparel', 'Row 1', 'https://mall.googleplex.com/', 'No', ' : ', '(not set)', '128.0', '0', '', '1.0', '3.0', '166.0', '', '', '', '', '', '', '', '', '(not set)', '', '', '(none)', '/', '(direct)', '1507650614', '1', '1507650614']\n"
     ]
    }
   ],
   "source": [
    "#csv to list\n",
    "import csv\n",
    "  \n",
    "with open('Example_shop_data.csv', 'r') as read_obj:\n",
    "    # Return a reader object which will\n",
    "    # iterate over lines in the given csvfile\n",
    "    csv_reader = csv.reader(read_obj, delimiter=',')\n",
    "    # convert string to list\n",
    "    list_of_csv = list(csv_reader)\n",
    "\n",
    "print(list_of_csv[1])"
   ]
  },
  {
   "cell_type": "markdown",
   "id": "24ac624a-e847-438a-a2d5-1bc8d94aaa2b",
   "metadata": {},
   "source": [
    "***\n",
    "## Writing and loading files with pickle"
   ]
  },
  {
   "cell_type": "code",
   "execution_count": 14,
   "id": "98209dcf-7894-47ec-9996-266221f210cb",
   "metadata": {},
   "outputs": [],
   "source": [
    "import pickle \n",
    "\n",
    "#List of lists\n",
    "listoflists = [['Marthe',5.5,7],\n",
    "               ['John', 6.5,7,8],\n",
    "               ['Elle', 8,7,6]]\n",
    "\n",
    "#Nested data\n",
    "listofdicts = {'Marthe': [5.5,7,8],\n",
    "               'John': [6.5,7,8],\n",
    "               'Elle': [8,7,6]}"
   ]
  },
  {
   "cell_type": "code",
   "execution_count": 15,
   "id": "6e6a7373-2024-4ded-99d2-d8edd8e67d5e",
   "metadata": {},
   "outputs": [
    {
     "data": {
      "text/plain": [
       "[['Marthe', 5.5, 7], ['John', 6.5, 7, 8], ['Elle', 8, 7, 6]]"
      ]
     },
     "execution_count": 15,
     "metadata": {},
     "output_type": "execute_result"
    }
   ],
   "source": [
    "with open('list_of_lists.pkl', 'wb') as handle:\n",
    "    pickle.dump(listoflists, handle)\n",
    "\n",
    "# Load data (deserialize)\n",
    "with open('list_of_lists.pkl', 'rb') as handle:\n",
    "    my_data = pickle.load(handle)\n",
    "\n",
    "my_data"
   ]
  }
 ],
 "metadata": {
  "interpreter": {
   "hash": "aee8b7b246df8f9039afb4144a1f6fd8d2ca17a180786b69acc140d282b71a49"
  },
  "kernelspec": {
   "display_name": "Python 3 (ipykernel)",
   "language": "python",
   "name": "python3"
  },
  "language_info": {
   "codemirror_mode": {
    "name": "ipython",
    "version": 3
   },
   "file_extension": ".py",
   "mimetype": "text/x-python",
   "name": "python",
   "nbconvert_exporter": "python",
   "pygments_lexer": "ipython3",
   "version": "3.8.17"
  }
 },
 "nbformat": 4,
 "nbformat_minor": 5
}
