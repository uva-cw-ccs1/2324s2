{
 "cells": [
  {
   "cell_type": "markdown",
   "id": "exciting-advantage",
   "metadata": {},
   "source": [
    "# Data structures"
   ]
  },
  {
   "cell_type": "code",
   "execution_count": 1,
   "id": "quarterly-wilson",
   "metadata": {},
   "outputs": [],
   "source": [
    "#List of lists\n",
    "listoflists = [['Marthe',5.5,7],\n",
    "               ['John', 6.5,7,8],\n",
    "               ['Elle', 8,7,6]]"
   ]
  },
  {
   "cell_type": "code",
   "execution_count": null,
   "id": "peripheral-pasta",
   "metadata": {},
   "outputs": [],
   "source": [
    "#Nested data\n",
    "listofdicts = {'Marthe': [5.5,7,8],\n",
    "               'John': [6.5,7,8],\n",
    "               'Elle': [8,7,6]}"
   ]
  },
  {
   "cell_type": "code",
   "execution_count": 2,
   "id": "fuzzy-transition",
   "metadata": {},
   "outputs": [],
   "source": [
    "#Data frame\n",
    "import pandas as pd\n",
    "\n",
    "\n"
   ]
  },
  {
   "cell_type": "code",
   "execution_count": 3,
   "id": "generous-suffering",
   "metadata": {},
   "outputs": [],
   "source": [
    "df = pd.DataFrame(listoflists, columns = ['name', 'g1', 'g2', 'g3'])"
   ]
  },
  {
   "cell_type": "code",
   "execution_count": 4,
   "id": "seeing-glance",
   "metadata": {},
   "outputs": [
    {
     "data": {
      "text/html": [
       "<div>\n",
       "<style scoped>\n",
       "    .dataframe tbody tr th:only-of-type {\n",
       "        vertical-align: middle;\n",
       "    }\n",
       "\n",
       "    .dataframe tbody tr th {\n",
       "        vertical-align: top;\n",
       "    }\n",
       "\n",
       "    .dataframe thead th {\n",
       "        text-align: right;\n",
       "    }\n",
       "</style>\n",
       "<table border=\"1\" class=\"dataframe\">\n",
       "  <thead>\n",
       "    <tr style=\"text-align: right;\">\n",
       "      <th></th>\n",
       "      <th>name</th>\n",
       "      <th>g1</th>\n",
       "      <th>g2</th>\n",
       "      <th>g3</th>\n",
       "    </tr>\n",
       "  </thead>\n",
       "  <tbody>\n",
       "    <tr>\n",
       "      <th>0</th>\n",
       "      <td>Marthe</td>\n",
       "      <td>5.5</td>\n",
       "      <td>7</td>\n",
       "      <td>NaN</td>\n",
       "    </tr>\n",
       "    <tr>\n",
       "      <th>1</th>\n",
       "      <td>John</td>\n",
       "      <td>6.5</td>\n",
       "      <td>7</td>\n",
       "      <td>8.0</td>\n",
       "    </tr>\n",
       "    <tr>\n",
       "      <th>2</th>\n",
       "      <td>Elle</td>\n",
       "      <td>8.0</td>\n",
       "      <td>7</td>\n",
       "      <td>6.0</td>\n",
       "    </tr>\n",
       "  </tbody>\n",
       "</table>\n",
       "</div>"
      ],
      "text/plain": [
       "     name   g1  g2   g3\n",
       "0  Marthe  5.5   7  NaN\n",
       "1    John  6.5   7  8.0\n",
       "2    Elle  8.0   7  6.0"
      ]
     },
     "execution_count": 4,
     "metadata": {},
     "output_type": "execute_result"
    }
   ],
   "source": [
    "df"
   ]
  },
  {
   "cell_type": "markdown",
   "id": "plastic-person",
   "metadata": {},
   "source": [
    "## Reading and writing files"
   ]
  },
  {
   "cell_type": "code",
   "execution_count": 5,
   "id": "heavy-astronomy",
   "metadata": {},
   "outputs": [],
   "source": [
    "#reading txt\n",
    "wordlist=[]"
   ]
  },
  {
   "cell_type": "code",
   "execution_count": 6,
   "id": "exterior-scanning",
   "metadata": {},
   "outputs": [],
   "source": [
    "with open('Example_word_list.txt', mode = 'r', encoding='utf-8') as f:\n",
    "    for line in f:\n",
    "        wordlist.append(line.strip())"
   ]
  },
  {
   "cell_type": "code",
   "execution_count": 8,
   "id": "supposed-thirty",
   "metadata": {},
   "outputs": [],
   "source": [
    "#Changing txt - adding a word\n",
    "wordlist.append('word')"
   ]
  },
  {
   "cell_type": "code",
   "execution_count": 9,
   "id": "local-audience",
   "metadata": {},
   "outputs": [],
   "source": [
    "#Writing csv\n",
    "with open('newwordlist.txt', mode = 'w', encoding='utf-8', separator = ';') as f:\n",
    "    f.writelines(wordlist)"
   ]
  },
  {
   "cell_type": "code",
   "execution_count": null,
   "id": "modular-rating",
   "metadata": {},
   "outputs": [],
   "source": []
  },
  {
   "cell_type": "code",
   "execution_count": 10,
   "id": "bigger-chile",
   "metadata": {},
   "outputs": [],
   "source": [
    "# importing\n",
    "import json\n",
    " \n",
    "# Opening JSON file\n",
    "with open('Example_trace_data.json', mode = \"r\", encoding='utf-8') as json_file:\n",
    "    data = json.load(json_file)"
   ]
  },
  {
   "cell_type": "code",
   "execution_count": 11,
   "id": "contemporary-railway",
   "metadata": {},
   "outputs": [
    {
     "data": {
      "text/plain": [
       "[{'id': 17856030280050897,\n",
       "  'created_at': 1460536003,\n",
       "  'text': 'Amazing post',\n",
       "  'owner': {'id': '258072239',\n",
       "   'is_verified': False,\n",
       "   'profile_pic_url': 'https://scontent-amt2-1.cdninstagram.com/v/t51.2885-19/s150x150/56716439_2164431090536028_1322459527525695488_n.jpg?tp=1&_nc_ht=scontent-amt2-1.cdninstagram.com&_nc_ohc=0nKvmdOv1oUAX_tCvKW&oh=af792d725a674555fd596e65673f5d6f&oe=606EFF09',\n",
       "   'username': 'theroyaldanishballet.dancers'},\n",
       "  'likes_count': 0,\n",
       "  'answers': []},\n",
       " {'id': 17855984527050897,\n",
       "  'created_at': 1460370495,\n",
       "  'text': 'Beautiful photo!!',\n",
       "  'owner': {'id': '1981148420',\n",
       "   'is_verified': False,\n",
       "   'profile_pic_url': 'https://instagram.fruh4-1.fna.fbcdn.net/v/t51.2885-19/44884218_345707102882519_2446069589734326272_n.jpg?_nc_ht=instagram.fruh4-1.fna.fbcdn.net&_nc_ohc=q2X-4RcAgecAX-zmpvG&oh=503b0eb981e5925c25bea81a8b5d5e33&oe=606FB88F&ig_cache_key=YW5vbnltb3VzX3Byb2ZpbGVfcGlj.2',\n",
       "   'username': 'fuss60'},\n",
       "  'likes_count': 0,\n",
       "  'answers': []}]"
      ]
     },
     "execution_count": 11,
     "metadata": {},
     "output_type": "execute_result"
    }
   ],
   "source": [
    "#json to pandas\n",
    "data"
   ]
  },
  {
   "cell_type": "code",
   "execution_count": 12,
   "id": "angry-knife",
   "metadata": {},
   "outputs": [
    {
     "name": "stdout",
     "output_type": "stream",
     "text": [
      "['36548', '0', 'Referral', '0', '20171010', 'Chrome', 'desktop', 'False', 'Macintosh', '6413139757155395885', 'Austin', 'Americas', 'United States', 'Austin TX', '(not set)', 'Texas', 'Northern America', '0', 'shop.googlemerchandisestore.com/home', '0.0', 'shop.googlemerchandisestore.com/home', '(not set)', '(not set)', '(not set)', '(not set)', '(not set)', '8.0', 'True', '', '50.0', 'shop.googlemerchandisestore.com', '/home', '/home', '', '', '', 'Home', '', '', '', '', '', '', '', '', '', '', '', 'True', 'home_main_link_apparel.jpg', 'Apparel Row 1', 'Apparel', 'Row 1', 'https://mall.googleplex.com/', 'No', ' : ', '(not set)', '128.0', '0', '', '1.0', '3.0', '166.0', '', '', '', '', '', '', '', '', '(not set)', '', '', '(none)', '/', '(direct)', '1507650614', '1', '1507650614']\n"
     ]
    }
   ],
   "source": [
    "#csv to list\n",
    "import csv\n",
    "  \n",
    "with open('Example_shop_data.csv', 'r') as read_obj:\n",
    "  \n",
    "    # Return a reader object which will\n",
    "    # iterate over lines in the given csvfile\n",
    "    csv_reader = csv.reader(read_obj, delimiter=',')\n",
    "    # convert string to list\n",
    "    list_of_csv = list(csv_reader)\n",
    "\n",
    "print(list_of_csv[1])"
   ]
  },
  {
   "cell_type": "code",
   "execution_count": null,
   "id": "liked-notebook",
   "metadata": {},
   "outputs": [],
   "source": []
  }
 ],
 "metadata": {
  "interpreter": {
   "hash": "aee8b7b246df8f9039afb4144a1f6fd8d2ca17a180786b69acc140d282b71a49"
  },
  "kernelspec": {
   "display_name": "Python 3",
   "language": "python",
   "name": "python3"
  },
  "language_info": {
   "codemirror_mode": {
    "name": "ipython",
    "version": 3
   },
   "file_extension": ".py",
   "mimetype": "text/x-python",
   "name": "python",
   "nbconvert_exporter": "python",
   "pygments_lexer": "ipython3",
   "version": "3.9.1"
  }
 },
 "nbformat": 4,
 "nbformat_minor": 5
}
