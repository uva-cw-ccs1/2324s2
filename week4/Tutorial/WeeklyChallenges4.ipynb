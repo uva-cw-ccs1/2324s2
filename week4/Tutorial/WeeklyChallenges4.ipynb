{
 "cells": [
  {
   "cell_type": "markdown",
   "metadata": {},
   "source": [
    "# Challenges Week 4\n",
    "\n",
    "Now that you have some experience with pandas and data exploration in Python, it's time for you to combine and apply this week's knowledge. You will start working on these challenges in the tutorial and will be asked to complete them by the end of the week.\n",
    "\n",
    "In each challenge, you are asked to provide the programming solution to it as well as a technical interpretation explaining the steps taken and the result.\n",
    "\n",
    "In this week's challenges, we will use the dataset `marketing_campaign.csv`. A full description of the dataset is available below. \n",
    "\n",
    "Customer Personality Analysis is a detailed analysis of a company’s ideal customers. It helps a business to better understand its customers and makes it easier for them to modify products according to the specific needs, behaviors and concerns of different types of customers.\n",
    "\n",
    "Customer personality analysis helps a business to modify its product based on its target customers from different types of customer segments. For example, instead of spending money to market a new product to every customer in the company’s database, a company can analyze which customer segment is most likely to buy the product and then market the product only on that particular segment.\n",
    "\n",
    "**People**\n",
    "<br>\n",
    "customer_id: Customer's unique identifier\n",
    "<br>\n",
    "Year_Birth: Customer's birth year\n",
    "<br>\n",
    "Education: Customer's education level\n",
    "<br>\n",
    "Marital_Status: Customer's marital status\n",
    "<br>\n",
    "Income: Customer's yearly household income\n",
    "<br>\n",
    "\n",
    "**Products**\n",
    "<br>\n",
    "MntWines: Amount spent on wine in last 2 years\n",
    "<br>\n",
    "MntFruits: Amount spent on fruits in last 2 years\n",
    "<br>\n",
    "MntMeatProducts: Amount spent on meat in last 2 years\n",
    "<br>\n",
    "MntFishProducts: Amount spent on fish in last 2 years\n",
    "<br>\n",
    "\n",
    "**Place**\n",
    "<br>\n",
    "NumWebPurchases: Number of purchases made through the company’s web site\n",
    "<br>\n",
    "NumCatalogPurchases: Number of purchases made using a catalogue\n",
    "<br>\n",
    "NumStorePurchases: Number of purchases made directly in stores\n",
    "<br>\n",
    "NumWebVisitsMonth: Number of visits to company’s web site in the last month\n",
    "\n",
    "\n",
    "Original dataset source: https://www.kaggle.com/imakash3011/customer-personality-analysis"
   ]
  },
  {
   "cell_type": "markdown",
   "metadata": {},
   "source": [
    "# Challenge 1\n",
    "\n",
    "In the first challenge, we will focus on exploring and describing the data.\n",
    "\n",
    "#### 1.1 Read and explore the dataset\n",
    "\n",
    "* Load the dataset into pandas. *Hint: you will need to specify the column separator to properly read the dataset.* \n",
    "\n",
    "* Explore the dataset: print first few rows, check all column types and check for missing values. Decide what to do with missing values and explain your decision.\n",
    "\n",
    "#### 1.2 Filter the dataset\n",
    "\n",
    "* Create a smaller dataset consisting of households that have above average spendings on meat *and* fish.\n",
    "\n",
    "* Who are the meat and fish eaters? Describe them using demographic information available to you."
   ]
  },
  {
   "cell_type": "code",
   "execution_count": null,
   "metadata": {},
   "outputs": [],
   "source": []
  },
  {
   "cell_type": "markdown",
   "metadata": {},
   "source": [
    "# Challenge 2\n",
    "\n",
    "The dataset `marketing_campaign_response.csv` contains an additional observation - whether a customer did or did not respond to the marketing campaign (a binary variable with values 0 and 1). The variable is coded 1 if a customer reacted to the campaign positively, 0 otherwise. Additionally, it contains ID of each customer exposed to the campaign (this ID corresponds to customer_id in the other dataset). Not all customers of the company where exposed to the campaign.\n",
    "\n",
    "#### 2.1 How to choose the best merge strategy?\n",
    "\n",
    "Merge the `marketing_campaigns.csv` dataset with `marketing_campaign_response.csv`. Explore all four merge types and their consequences (dataset length and missing values). Why do they result in different dataset lengths? Which merge is most useful? <br>  **Note: the identifier column names differ across the two datasets.**  <br>\n",
    "\n",
    "#### 2.2 Merge datasets\n",
    "\n",
    "Use the appropriate join (left, right, inner, outer) to merge `marketing_campaign.csv` with `marketing_campaign_response.csv`, such that only customers exposed to the marketing campaign are included."
   ]
  },
  {
   "cell_type": "code",
   "execution_count": 10,
   "metadata": {},
   "outputs": [],
   "source": []
  },
  {
   "cell_type": "markdown",
   "metadata": {},
   "source": [
    "# Challenge 3\n",
    "\n",
    "#### 3.1 Create new columns\n",
    "\n",
    "Create a new column called Age which denotes age in years for customers from the merged dataset. What is the average age of customers who reacted to the campaign positively?\n",
    "\n",
    "#### 3.2 Writing pandas \n",
    "Write a csv file with the dataset you ended up with. "
   ]
  },
  {
   "cell_type": "code",
   "execution_count": null,
   "metadata": {},
   "outputs": [],
   "source": []
  }
 ],
 "metadata": {
  "interpreter": {
   "hash": "aee8b7b246df8f9039afb4144a1f6fd8d2ca17a180786b69acc140d282b71a49"
  },
  "kernelspec": {
   "display_name": "Python 3.9.1 64-bit",
   "language": "python",
   "name": "python3"
  },
  "language_info": {
   "codemirror_mode": {
    "name": "ipython",
    "version": 3
   },
   "file_extension": ".py",
   "mimetype": "text/x-python",
   "name": "python",
   "nbconvert_exporter": "python",
   "pygments_lexer": "ipython3",
   "version": "3.9.1"
  }
 },
 "nbformat": 4,
 "nbformat_minor": 4
}
