{
 "cells": [
  {
   "cell_type": "markdown",
   "metadata": {},
   "source": [
    "# Warm-up exercises week 4\n",
    "\n",
    "\n",
    "\n",
    "Now that you have some experience with opening different files and working with pandas, it's time for you to combine and apply your knowledge. To prepare for the tutorial, complete the following two warm-up exercises.\n",
    "\n",
    "Some important notes for the exercises:\n",
    "\n",
    "* These exercises are a warming up meant to help you get ready for class. Make sure to give a try to all of them.\n",
    "* As these exercises are meant to help you participate in the tutorial and us to make sure you can get as much as possible from the tutorials, we do not expect perfect answers. However, this is important to show the effort you have put in the exercises and what obstacles you faced."
   ]
  },
  {
   "cell_type": "markdown",
   "metadata": {},
   "source": [
    "# Exercise 1\n",
    "\n",
    "The json file `books.json` contains ratings of books. The json file is structured as follows: keys are titles of books and values the rating given to them on a scale from 1-10.\n",
    "\n",
    "* Read the json file into a dictionary.\n",
    "\n",
    "* Create a list of book titles that only contains books rated above average.\n",
    "\n",
    "* Write that list into a csv file."
   ]
  },
  {
   "cell_type": "code",
   "execution_count": null,
   "metadata": {},
   "outputs": [],
   "source": []
  },
  {
   "cell_type": "markdown",
   "metadata": {},
   "source": [
    "# Exercise 2\n",
    "\n",
    "For the second exercise, we'll use a popular example dataset. The dataset, called **iris**, contains data about flowers, and was first introduced by the British statistician and biologist Ronald Fisher in 1936. \n",
    "\n",
    "#### 2.1. Explore the data.\n",
    "\n",
    "Load the csv file `Iris.csv` into pandas and check if the iris dataset contains missing values, check all column types and print all column names. If the dataset contains missing values, consider what you could do with them\n",
    "\n",
    "#### 2.2. Process the data.\n",
    "\n",
    "Now, create a smaller dataset, called setosa, consisting only of observations from the setosa species. Compute descriptive statistics for the sepal_length and sepal_width in the newly created setosa dataset.\n",
    "\n",
    "\n",
    "Source of the dataset: https://www.kaggle.com/datasets/uciml/iris\n"
   ]
  },
  {
   "cell_type": "code",
   "execution_count": null,
   "metadata": {},
   "outputs": [],
   "source": []
  }
 ],
 "metadata": {
  "interpreter": {
   "hash": "aee8b7b246df8f9039afb4144a1f6fd8d2ca17a180786b69acc140d282b71a49"
  },
  "kernelspec": {
   "display_name": "Python 3.9.1 64-bit",
   "language": "python",
   "name": "python3"
  },
  "language_info": {
   "codemirror_mode": {
    "name": "ipython",
    "version": 3
   },
   "file_extension": ".py",
   "mimetype": "text/x-python",
   "name": "python",
   "nbconvert_exporter": "python",
   "pygments_lexer": "ipython3",
   "version": "3.9.1"
  }
 },
 "nbformat": 4,
 "nbformat_minor": 4
}
