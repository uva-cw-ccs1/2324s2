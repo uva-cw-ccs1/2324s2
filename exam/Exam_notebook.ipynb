{
 "cells": [
  {
   "cell_type": "markdown",
   "id": "1c25e0d1",
   "metadata": {},
   "source": [
    "# Computational communication science 1 - final exam"
   ]
  },
  {
   "cell_type": "markdown",
   "id": "747c5679",
   "metadata": {},
   "source": [
    "Student name:\n",
    "\n",
    "Student number:"
   ]
  },
  {
   "cell_type": "markdown",
   "id": "bd93927c",
   "metadata": {},
   "source": [
    "Now that you have learned all the necessary basic programming skills in Python, we will ask you to apply them in this exam. The exam will test your understanding of programming languages for communication science, your abilities to apply Python to solve programming challenges in the communication science context, and your understanding of basic programming solutions in Python.\n",
    "\n",
    "* You are allowed to use your study materials (e.g., slides, literature, notebooks, solutions to weekly challenges) during the assignment. You are **not** allowed to use external sources.\n",
    "* It is strictly forbidden to communicate with other students during the examination.\n",
    "* When you are finished, double-check whether you answered all questions before uploading the assignment.\n",
    "* Carefully read the instructions and questions in this notebook!\n",
    "\n",
    "General instructions for answering the questions. Please read the instructions carefully:\n",
    "\n",
    "* This Exam for CCS1 consists of a Jupyter Notebook with 3 questions, including sub-questions (a, b, etc.). Read all the questions carefully. Make sure you save the notebook locally before starting to answer the questions. Rename this file according to the following structure: <br>LastName_FirstName_StudentID_Coursename\n",
    "* Fill in your name and student number in the indicated space.\n",
    "* To answer the exam questions, write your answers in this notebook where indicated. The word count for the reflection question is a guideline for how lengthy we expect the answer to be. Take this advice seriously (writing a lot more may result in insufficient time to finish the exam). Remaining below or going over the word count will by itself not lead to a deduction of points.\n",
    "* Answer all questions and check upon completion if you really addressed all (sub-)questions.\n",
    "* Use correct and complete sentences. Poorly or unclearly formulated answers will not be graded.\n",
    "* Make sure to answer all questions in your own words.\n",
    "* Do not provide any irrelevant information. If you provide more answers than instructed, only your first answer will be graded. If your correct answer also includes incorrect or irrelevant elements, these will lead to deduction of points.\n",
    "* You can obtain a maximum of 100 points. The points you can obtain for each question are provided at the respective question.\n",
    "* Re-reading full articles or re-doing the challenges during the assignment will not be possible, due to time restrictions. We advise you to use the materials to look up essential coding details.\n",
    "\n",
    "Submission instructions:\n",
    "\n",
    "* Please upload the html version of the notebook on Canvas. \n",
    "* To do so, when the assignment is fully finished (and all the code executed), in Jupyter Lab, select File --> Export Notebook As --> Export Notebook to HTML. An html file will be generated (and probably downloaded to your Downloads folder). Upload this html file to Canvas. This file will be also used for the plagiarism check.\n",
    "* Make sure that the html file is named according to the following structure: \n",
    "LastName_FirstName_StudentID_Coursename.html\n",
    "* If you cannot generate an HTML version from your Notebook (if the option disappeared), upload a PDF instead to Canvas. Please tell your lecturer about it.\n",
    "\n",
    "The exam consists of three sections (giving you max 100 points):\n",
    "* Reflection (20% of exam grade): in a short reflection, we ask you to think about the use of programming languages for computational communication science.\n",
    "* Programming 1 (40% of exam grade): in this programming task, we ask you to filter a dictionary and write a new dataset.\n",
    "* Programming 2 (40% of exam grade): in this programming task, we ask you to answer a research question through analysing datasets provided by us.\n",
    "\n",
    "Make sure to have a look at the importance of the different sections for your final grade to determine how much time you should give to it. \n",
    "\n",
    "Good luck!\n",
    "<br>\n",
    "<br>\n",
    "\n",
    "## Reflection *(20 points)*\n",
    "\n",
    "\n",
    "During the course, you have read multiple articles that discuss the opportunities and challenges that big data and computational methods offer for communication science research. Please choose an opportunity **or** a challange and describe: \n",
    "\n",
    "1. One **opportunity** introduced in the course and describe how computational methods and big data have the potential to enhance the scientific study of communication. Building on the cases discussed in class, provide at least **one concrete example** of how big data or computational methods can improve the communication science field. <br>*Hint: When thinking of examples consider types of data that can be studied, different types of validity or research practices.*<br> Word count: max. 200 words \n",
    "\n",
    "**OR**\n",
    "\n",
    "2. One **challenge** introduced in the course and describe how computational methods and big data can become pitfalls for the scientific study of communication. Building on the cases discussed in class, provide at least **one concrete example** of how big data or computational methods can pose challenges to the communication science field.<br> *Hint: When thinking of examples consider data access, data quality, representativeness, validity, reliability or ethical issues.*<br> Word count: max. 200 words"
   ]
  },
  {
   "cell_type": "code",
   "execution_count": null,
   "id": "146487a6",
   "metadata": {},
   "outputs": [],
   "source": []
  },
  {
   "cell_type": "markdown",
   "id": "065aa682",
   "metadata": {},
   "source": [
    "# Programming 1 *(30 points)*\n"
   ]
  },
  {
   "cell_type": "markdown",
   "id": "c04effd0",
   "metadata": {},
   "source": [
    "The json `exam1.json` contains a fictional dataset from Spotify's user_table. The dataset contains three characteristics for each Spotify user: \n",
    "\n",
    "* a unique ID for each user\n",
    "* the type of subscription (free or premium - note that the type can be written upper or lower case)\n",
    "* list of their favourite artists\n",
    "\n",
    "Your tasks are to: \n",
    "\n",
    "* load the json file into a dictionary,\n",
    "* filter the dictionary by *removing* everybody who has the subscription type 'free' **and** has less than 3 favorite artists,\n",
    "* use a command to export/save the filtered data in a file format that others can use (regardless of the programming language they use).\n",
    "\n",
    "\n",
    "### Analysis plan (10 points)\n",
    "Before you start writing the necessary code, write down what steps you will undertake and why.\n",
    "\n",
    "*Hint: There are different ways to solve this task. Excellent solutions should be based on self-written functions.* "
   ]
  },
  {
   "cell_type": "markdown",
   "id": "9193795e",
   "metadata": {},
   "source": [
    "[your plan goes here]"
   ]
  },
  {
   "cell_type": "markdown",
   "id": "bbf5be1c",
   "metadata": {},
   "source": [
    "### Programming (20 points)\n",
    "\n",
    "Write the code to solve the tasks above. Include comments in Markdown or using # to explain your code.\n",
    "\n",
    "*Note: If your code does not work, try to debug it. If that does not work, leave it in to show us your line of thinking.*"
   ]
  },
  {
   "cell_type": "code",
   "execution_count": null,
   "id": "6b981eb6",
   "metadata": {},
   "outputs": [],
   "source": []
  },
  {
   "cell_type": "markdown",
   "id": "87e827cd-242a-466f-9396-03f9af9a0f68",
   "metadata": {},
   "source": [
    "***"
   ]
  },
  {
   "cell_type": "markdown",
   "id": "206d38da",
   "metadata": {},
   "source": [
    "# Programming 2 *(50 points)*\n",
    "\n",
    "In the final part of the exam, you will work with a simulated dataset from an NGO that is currently running a communication campaign to increase the amount of donations. The datasets will be used to analyse how much individuals who visit the website donate.\n",
    "\n",
    "### Datasets\n",
    "You will find two files in the exam folder (starting with NGO):\n",
    "* **NGO_donations.csv** (or NGO_donations.pkl for a pickle version). This file contains a list of donations made on the website (only sessions during which a donation was made are included). It contains:\n",
    "    * `visit_id` - session ID of the sessions/visits during which the donation was made,\n",
    "    * `donation` - this variable indicates if a donation happened (variable takes value 1 for visitors who donated),\n",
    "    * `donation_amount` - how many euros were donated.\n",
    "* **NGO_sessions.csv** (or NGO_sessions.pkl for a pickle version). This file contains a list of all online sessions on the website of the NGO (both sessions with donation and without donation). For each session, it contains:\n",
    "    * `session_id` - ID of the session on the website, indicating a visit, \n",
    "    * `campaign` - this variable indicates if the session started from clicking on a campaign (variable takes value 1 if the session started from a campaign).\n",
    "\n",
    "Read the descriptions of the data columns carefully to understand how they can be combined and how to deal with missing values.\n",
    "\n",
    "\n",
    "### Research question\n",
    "\n",
    "We ask you to answer the following research question:\n",
    "\n",
    "**Question** Looking at *all visitors* of the page, to what extent does the *amount one donates* differ between visitors coming from a *campaign* and visitors not coming from a campaign? \n",
    "<br>*Tip: to assess the effectiveness of the campaign you also need to take into account that some people donated nothing (0 euros) when visiting the website.*\n",
    "\n",
    "For each task provided below, explain what you are doing: before each line of code, add a line in Markdown/`#comment` that outlines what is being done below and why.\n",
    "\n",
    "#### Task 1 (15 points)\n",
    "\n",
    "Identify the necessary variables. Load the datasets and initially explore them looking at 1) first few rows, 2) columns in the datasets, 3) data types, 4) missing values and 5) descriptives.  Write a short summary of the two datasets and your analysis plan."
   ]
  },
  {
   "cell_type": "code",
   "execution_count": null,
   "id": "9667190f",
   "metadata": {},
   "outputs": [],
   "source": []
  },
  {
   "cell_type": "markdown",
   "id": "1216666a",
   "metadata": {},
   "source": [
    "#### Task 2 (15 points)\n",
    "Clean and prepare the datasets:\n",
    "   1. Merge the two datasets appropriately. Make sure that all conditions for merging are met and explain your reason for type of merge (left, right, inner or outer) as well as its consequences for the number of cases and missing values. <br>*Note: If you do not manage to merge the datasets, continue with one of the datasets to complete the remaining tasks (if possible). This will mean that you will not be able to complete the tasks fully, but you can still receive partial points.* \n",
    "   2. Deal with missing data in the merged dataset. Provide a justification for your choices (e.g., why you drop them or fill them in with another value).\n",
    "   3. Prepare necessary variables making sure they have appropriate operationalization and data type.\n"
   ]
  },
  {
   "cell_type": "code",
   "execution_count": null,
   "id": "380bd693",
   "metadata": {},
   "outputs": [],
   "source": []
  },
  {
   "cell_type": "markdown",
   "id": "25496520",
   "metadata": {},
   "source": [
    "#### Task 3 (10 points)\n",
    "\n",
    "Visualize one of the variables relevant for your research question. Explain what type of visualization you chose and why. \n",
    "\n",
    "Interpret the plot."
   ]
  },
  {
   "cell_type": "code",
   "execution_count": null,
   "id": "16e92d87",
   "metadata": {},
   "outputs": [],
   "source": []
  },
  {
   "cell_type": "markdown",
   "id": "a3d7e07f-f169-480c-9e2a-659ab822b591",
   "metadata": {},
   "source": [
    "#### Task 4 (10 points)\n",
    "\n",
    "Visualize the relation between variables relevant for your research question. Explain what type of visualization you chose and why.\n",
    "\n",
    "Interpret the plot."
   ]
  },
  {
   "cell_type": "code",
   "execution_count": null,
   "id": "86fb7fbd-c17c-43ac-ab17-43ad41a3f702",
   "metadata": {},
   "outputs": [],
   "source": []
  },
  {
   "cell_type": "markdown",
   "id": "67033641",
   "metadata": {},
   "source": [
    "#### Bonus task (10 points)\n",
    "\n",
    "Conduct the appropriate statistical test to answer the research question. Justify your test choice and interpret it.\n"
   ]
  },
  {
   "cell_type": "code",
   "execution_count": null,
   "id": "8f308b4f",
   "metadata": {},
   "outputs": [],
   "source": []
  }
 ],
 "metadata": {
  "interpreter": {
   "hash": "aee8b7b246df8f9039afb4144a1f6fd8d2ca17a180786b69acc140d282b71a49"
  },
  "kernelspec": {
   "display_name": "Python 3 (ipykernel)",
   "language": "python",
   "name": "python3"
  },
  "language_info": {
   "codemirror_mode": {
    "name": "ipython",
    "version": 3
   },
   "file_extension": ".py",
   "mimetype": "text/x-python",
   "name": "python",
   "nbconvert_exporter": "python",
   "pygments_lexer": "ipython3",
   "version": "3.8.18"
  }
 },
 "nbformat": 4,
 "nbformat_minor": 5
}
