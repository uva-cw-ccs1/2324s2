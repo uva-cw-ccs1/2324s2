{
 "cells": [
  {
   "cell_type": "markdown",
   "id": "green-scottish",
   "metadata": {},
   "source": [
    "# Warm-up excercises week 3"
   ]
  },
  {
   "cell_type": "markdown",
   "id": "defensive-mitchell",
   "metadata": {},
   "source": [
    "Now that we've seen how Python and Jupyter Notebooks work and that you have read about Computational Communication Science, it's time for you to combine apply this knowledge. To prepare for the tutorial, we ask you to complete two warm-up excercises.\n",
    "\n",
    "\n",
    "Some important notes for the excercises:\n",
    "\n",
    "* These excercises are a warming up meant to help you get ready for class. Make sure to give them a try on all of them. If you get an error message, try to troubleshoot it (using Google often helps). If all else fails, go to the next excercise (but make sure to hand it in).\n",
    "* While we of course like when you get all the answers right, the important thing is to exercise and apply the knowledge. So we will still accept solutions that may not be complete, as long as we see enough effort for each excercise. \n",
    "* Delivering the warm-up excercises on time is critical, as it helps also prepare for the tutorial session. *info on handing-in*\n",
    "* As these excercises are meant to help you participate in the tutorial and us to make sure you can get as much as possible from the tutorials, we do not expect perfect answers. However, this is important to show the effort you have put in the excercises and what obstacles you faced."
   ]
  },
  {
   "cell_type": "markdown",
   "id": "current-brook",
   "metadata": {},
   "source": [
    "# Excercise 1\n",
    "\n",
    "`grades_exam1` is a list of grades students in one group recieved for their assignment.  \n",
    "* Use built-in functions of Pyhton to caclucate average grade *Tip: use the built-in functions we used in the lecture*\n",
    "* Write a function that checks if a student passed (got at least 5.5). Make sure that the grades are in the right format in the function.\n",
    "* *Extra: The second list `grades_exam2`contains grades from the second exam the students have taken. Here however some students were absent and hence do not have a grade. Improve your function so that it takes it into account.*"
   ]
  },
  {
   "cell_type": "code",
   "execution_count": 48,
   "id": "governmental-thesis",
   "metadata": {},
   "outputs": [],
   "source": [
    "grades_exam1 = [4.5,6,7,8,8,7.5,6.5,6,9,7,8,7.5,6.5,5.5,6,4.5,3,8,7.5,7,3.5,9,7,6.5]"
   ]
  },
  {
   "cell_type": "code",
   "execution_count": null,
   "id": "appropriate-dictionary",
   "metadata": {},
   "outputs": [],
   "source": []
  },
  {
   "cell_type": "code",
   "execution_count": 59,
   "id": "cardiac-resolution",
   "metadata": {},
   "outputs": [],
   "source": [
    "grades_exam2 = [3.5,6,\"Absent\",8,9,7.5,4.5,6,9,7,7.5,7,\"Absent\",5.5,6.5,6,3,8,7.5,7,5.5,8,7,8]"
   ]
  },
  {
   "cell_type": "code",
   "execution_count": null,
   "id": "preceding-supervisor",
   "metadata": {},
   "outputs": [],
   "source": []
  },
  {
   "cell_type": "markdown",
   "id": "surface-accused",
   "metadata": {},
   "source": [
    "# Excercise 2\n",
    "\n",
    "Below, you can find a list of ratings given to a restaurant on TripAdvisor. You are the owner of the restaurant and you want to know what the average rating was. You have written the code below, but it doesn't work. Adjust the code to caluclate the average rating.\n",
    "\n",
    "*Do not adjust the list manually, but use appropriate code.*"
   ]
  },
  {
   "cell_type": "code",
   "execution_count": 1,
   "id": "muslim-joining",
   "metadata": {},
   "outputs": [],
   "source": [
    "ratings = [7,8,5,6,9,4,3,7,2,7,9,4,7,5,7,6,2,7,8,9,5,4,6,4,5,'7',8,9,7,7,8,6,7,7,5,3,7,6,4,9,7,8,5,1,5,8,7,5,6,7,9,8,'9',7,6,5,6,7,7,8,5,6,9,4,3,7,2,7,9,4,7,5,7,6,2,7,8,9,5,4,6,4,5,'6',8,9,7,7,8,6,7,8,5,3,7,6,4,9,7,8,5,1,7,8,7,5,5,7,9,8,'8',7,6,5,6,7, 7,8,5,6,9,4,3,7,2,7,9,4,7,5,7,6,2,7,8,9,6,4,6,4,5,'4',8,9,7,7,8,5,7,7,5,3,7,5,9,6,8,5,1,5,7,8,5,6,7,9,8,'6',7,6,5,6,7]"
   ]
  },
  {
   "cell_type": "code",
   "execution_count": 2,
   "id": "increased-given",
   "metadata": {},
   "outputs": [
    {
     "ename": "NameError",
     "evalue": "name 'rating' is not defined",
     "output_type": "error",
     "traceback": [
      "\u001b[0;31m---------------------------------------------------------------------------\u001b[0m",
      "\u001b[0;31mNameError\u001b[0m                                 Traceback (most recent call last)",
      "\u001b[0;32m<ipython-input-2-16f7ae7a24bb>\u001b[0m in \u001b[0;36m<module>\u001b[0;34m\u001b[0m\n\u001b[0;32m----> 1\u001b[0;31m \u001b[0mavg\u001b[0m \u001b[0;34m=\u001b[0m \u001b[0msum\u001b[0m\u001b[0;34m(\u001b[0m\u001b[0mrating\u001b[0m\u001b[0;34m)\u001b[0m\u001b[0;34m/\u001b[0m\u001b[0mlen\u001b[0m\u001b[0;34m(\u001b[0m\u001b[0mrating\u001b[0m\u001b[0;34m)\u001b[0m\u001b[0;34m\u001b[0m\u001b[0;34m\u001b[0m\u001b[0m\n\u001b[0m",
      "\u001b[0;31mNameError\u001b[0m: name 'rating' is not defined"
     ]
    }
   ],
   "source": [
    "avg = sum(rating)/len(rating)"
   ]
  },
  {
   "cell_type": "code",
   "execution_count": null,
   "id": "smooth-particle",
   "metadata": {},
   "outputs": [],
   "source": []
  }
 ],
 "metadata": {
  "kernelspec": {
   "display_name": "Python 3",
   "language": "python",
   "name": "python3"
  },
  "language_info": {
   "codemirror_mode": {
    "name": "ipython",
    "version": 3
   },
   "file_extension": ".py",
   "mimetype": "text/x-python",
   "name": "python",
   "nbconvert_exporter": "python",
   "pygments_lexer": "ipython3",
   "version": "3.9.1"
  }
 },
 "nbformat": 4,
 "nbformat_minor": 5
}
