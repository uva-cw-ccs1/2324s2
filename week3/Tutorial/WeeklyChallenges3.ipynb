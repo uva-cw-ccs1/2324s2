{
 "cells": [
  {
   "cell_type": "markdown",
   "metadata": {},
   "source": [
    "# Challenges week 3"
   ]
  },
  {
   "cell_type": "markdown",
   "metadata": {},
   "source": [
    "Now that you have some expereince with the most important control structures and can apply them when writing your own functions, it's time for you to combine and apply your knowledge.  \n",
    "\n",
    "In each challange, you are asked to provide the programing solution to it as well as a technical interpretation explaining the steps taken and the result.\n"
   ]
  },
  {
   "cell_type": "markdown",
   "metadata": {},
   "source": [
    "# Challenge 1\n",
    "\n",
    "Below, you have a list that contains so called *referers* (places a visitor of a web page came from) for a given timeframe for a given page. This is an example of so-called digital trace data. \n",
    "\n",
    "Imagine that this is a list of referers to a given page (say, a specific article on a news site or a specific product in a web shop). First have a look at the data:"
   ]
  },
  {
   "cell_type": "code",
   "execution_count": 2,
   "metadata": {},
   "outputs": [],
   "source": [
    "visitors = ['homepage',\n",
    "            'homepage',\n",
    "            'homepage',\n",
    "            'instagram app',\n",
    "            'facebook app',\n",
    "            'campaign utx=1389',\n",
    "            'homepage',\n",
    "            'facebook app',\n",
    "            'homepage',\n",
    "            'google search',\n",
    "            'homepage',\n",
    "            'facebook app',\n",
    "            'homepage',\n",
    "            'homepage',\n",
    "            'homepage',\n",
    "            'campaign utx=1389',\n",
    "            'homepage',\n",
    "            'homepage',\n",
    "            'campaign utx=468495678',\n",
    "            'campaign utx=479098',\n",
    "            'instagram app',\n",
    "            'campaign utx=1389',\n",
    "            'facebook.com',\n",
    "            'facebook app',\n",
    "            'campaign utx=3533',\n",
    "            'google search',\n",
    "            'homepage',\n",
    "            'campaign utx=1389',\n",
    "            'campaign utx=1389',\n",
    "            'homepage',\n",
    "            'campaign utx=3533',\n",
    "            'instagram app',\n",
    "            'homepage',\n",
    "            'homepage',\n",
    "            'campaign utx=3533',\n",
    "            'homepage',\n",
    "            'instagram app',\n",
    "            'campaign utx=1389',\n",
    "            'instagram app',\n",
    "            'facebook app',\n",
    "            'homepage',\n",
    "            'facebook.com',\n",
    "            'campaign utx=1389',\n",
    "            'campaign utx=1389',\n",
    "            'homepage',\n",
    "            'homepage',\n",
    "            'facebook.com',\n",
    "            'instagram app',\n",
    "            'instagram app',\n",
    "            'campaign utx=1389',\n",
    "            'homepage',\n",
    "            'facebook.com',\n",
    "            'newsletter',\n",
    "            'newsletter',\n",
    "            'homepage',\n",
    "            'newsletter',\n",
    "            'homepage',\n",
    "            'newsletter',\n",
    "            'facebook.com',\n",
    "            'facebook.com',\n",
    "            'homepage',\n",
    "            'newsletter',\n",
    "            'newsletter',\n",
    "            'newsletter',\n",
    "            'google search',\n",
    "            'campaign utx=1389',\n",
    "            'newsletter',\n",
    "            'newsletter']"
   ]
  },
  {
   "cell_type": "markdown",
   "metadata": {},
   "source": [
    "Now, answer the following questions (not by hand, of course, but by writing appropriate code).\n",
    "For each question, provide the necessary code and a short explanation of the choices you made and how to interpret the results (in a Markdown cell) .\n",
    "\n",
    "    \n",
    "### 1.1 What is the most popular source that visitors came from?\n",
    "- Just provide a naive count over the unprocessed raw data.\n",
    "- Explain, in your own words, potential problems.\n",
    "\n",
    "### 1.2 Provide some 'fairer\" and more detailed comparisons!\n",
    "- You may have realized that probably some of the categories should have been merged. Write multiple function to preprocess the data and provide more insightful counts than you did in 1.1.\n",
    "- Here are some techniques that you may find useful for this:\n",
    "\n",
    "```\n",
    "# slicing\n",
    "# for example:\n",
    "somestring[:5]      # to get the  the first five characters\n",
    "somelist[-1]        # to get the last element of a list\n",
    "\n",
    "# the str.split() method:\n",
    "somestring.split(c) # to split a string into a list of strings everytime character c occurs\n",
    "                    # if you leave away c, it splits on spaced\n",
    "\n",
    "# the str.find() method:\n",
    "somestring.find(somesearchstring)   # returns the position of a searchstring within a string, \n",
    "                                    # and -1 if not found\n",
    "\n",
    "```\n",
    "\n",
    "\n",
    "\n",
    "### 1.3 Which campaign was most succesful?\n",
    "\n",
    "You probably realized that there seems to have been some campaigns to promote the page. They apparently have different internal IDs. Which one was most succesful?\n",
    "\n"
   ]
  },
  {
   "cell_type": "markdown",
   "metadata": {},
   "source": [
    "# Challenge 2\n",
    "\n",
    "Below, you find a (fictive) dictionary called `visited_products`. The keys are unique vistior IDs in the form of hashs (a hash is a one-way function: you can convert an email-address to a hash, but you cannot go back -- a very important technique to protect someone's privacy). The values denote the products in a web shop that the users have clicked on. As you see, unfortunately, the data type is mixed depending on whether they visited one or more product pages.\n",
    "\n",
    "### 2.1 Analyze the data\n",
    "- Write a function that calculates how many products someone visited.\n",
    "- Apply the function to the whole dictionary either by looping of its `.items()` or by  using a dictionary comprehension.\n",
    "\n",
    "### 2.2 Clean up the data\n",
    "- Of course, you could also say that the data structure could be cleaned up in such a way that it is not necessary any more to support multiple data types. Write a function to perform this cleanup!\n",
    "\n",
    "### 2.3 Support messy data\n",
    "- Let's take a step back and assume that the data are even messier than assumed (they are in `visited_products2`). Adapt your previous code(s) such that also this would be supported.\n",
    "\n",
    "For each question, provide the necessary code and a short explanation of the choices you made."
   ]
  },
  {
   "cell_type": "code",
   "execution_count": 5,
   "metadata": {},
   "outputs": [],
   "source": [
    "visited_products = {'ae5efe74061d4048964216c70f3a418c': 67,\n",
    "              '65241d7b66974fc798f307383c4714e8': [45,187,44],\n",
    "              '7f1de8287e184071840c8744cfcc8780': [32,48,312],\n",
    "              'c4681ec57db14d88b27a34560fe4d6ad': 453,\n",
    "              '4db40286540a48a1bdc73621e9ae699d': [67,89,46,90,104],\n",
    "              '7af0f5fd5b8d4025a9c86e1857f495f7': [34,89,135,104,106],\n",
    "              '49482fdca3db43d295f7d5b89e4a654e': [23,78,156,189,143,187],\n",
    "              'cba7ba80d78c4406b18ad97d59792d7d': 8,\n",
    "              '0a27e7eb71494802a4862a6b01aefe2c': [34,65,18,22],\n",
    "              '37a56050f11241778ef182afe5a58843': [56,87],\n",
    "              '1a18d1f7940f484b9d04f223930dfb4f': [76,98,106,125,356],\n",
    "              '483bd2d270134f4c96b128217b712b35': 45,\n",
    "              'ea5f7ddfc91945fc96b8b15c9f4a26b4': [76,109,45,22]}"
   ]
  },
  {
   "cell_type": "code",
   "execution_count": null,
   "metadata": {},
   "outputs": [],
   "source": []
  },
  {
   "cell_type": "code",
   "execution_count": 27,
   "metadata": {},
   "outputs": [],
   "source": [
    "visited_products2 = {'ae5efe74061d4048964216c70f3a418c': 67,\n",
    "              '65241d7b66974fc798f307383c4714e8': 'ERROR',\n",
    "              '7f1de8287e184071840c8744cfcc8780': [32,48,312],\n",
    "              'c4681ec57db14d88b27a34560fe4d6ad': 453,\n",
    "              '4db40286540a48a1bdc73621e9ae699d': [67,89,46,90,104],\n",
    "              '7af0f5fd5b8d4025a9c86e1857f495f7': [34,89,135,104,106],\n",
    "              '49482fdca3db43d295f7d5b89e4a654e': [23,78,156,189,143,187],\n",
    "              'cba7ba80d78c4406b18ad97d59792d7d': 8,\n",
    "              '0a27e7eb71494802a4862a6b01aefe2c': [34,65,18,22],\n",
    "              '37a56050f11241778ef182afe5a58843': [56,87],\n",
    "              '1a18d1f7940f484b9d04f223930dfb4f': 'ERROR',\n",
    "              '483bd2d270134f4c96b128217b712b35': 45,\n",
    "              'ea5f7ddfc91945fc96b8b15c9f4a26b4': [76,109,45,22]}"
   ]
  },
  {
   "cell_type": "code",
   "execution_count": null,
   "metadata": {},
   "outputs": [],
   "source": []
  }
 ],
 "metadata": {
  "kernelspec": {
   "display_name": "Python 3",
   "language": "python",
   "name": "python3"
  },
  "language_info": {
   "codemirror_mode": {
    "name": "ipython",
    "version": 3
   },
   "file_extension": ".py",
   "mimetype": "text/x-python",
   "name": "python",
   "nbconvert_exporter": "python",
   "pygments_lexer": "ipython3",
   "version": "3.8.10"
  }
 },
 "nbformat": 4,
 "nbformat_minor": 5
}
