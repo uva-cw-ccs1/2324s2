{
 "cells": [
  {
   "cell_type": "markdown",
   "metadata": {},
   "source": [
    "# Loops\n",
    "\n",
    "## Basic exercise: looping over dictionaries\n",
    "\n",
    "The dictionary below contains information on spendings in an online store. \n",
    "1. Explore the dictionary. What are the keys and the values in it? How many key-value pairs does it have?\n",
    "2. Calculate average value of all spendings in the dictionary.\n",
    "\n"
   ]
  },
  {
   "cell_type": "code",
   "execution_count": 2,
   "metadata": {},
   "outputs": [],
   "source": [
    "spendings = {'user1': 66,\n",
    "             'user2': 75,\n",
    "             'user3': 43,\n",
    "             'user4': 50,\n",
    "             'user5': 0\n",
    "            }"
   ]
  },
  {
   "cell_type": "markdown",
   "metadata": {},
   "source": [
    "### Dealing with unexpected values\n",
    "\n",
    "Below, you can see the same dictionary, but some values are not what you would expect. Adjust your code to take this into account."
   ]
  },
  {
   "cell_type": "code",
   "execution_count": 3,
   "metadata": {},
   "outputs": [],
   "source": [
    "spendings = {'user1': 66,\n",
    "             'user2': 75,\n",
    "             'user3': 43,\n",
    "             'user4': 50,\n",
    "             'user5': 0,\n",
    "             'user6': None,\n",
    "             'user7': 52\n",
    "            }"
   ]
  },
  {
   "cell_type": "markdown",
   "metadata": {},
   "source": [
    "## Advanced excercise: looping over dictionaries\n",
    "\n",
    "The csv file `football.csv` contains information on professional footballers. As an analyst for a sports newspaper, you want to calculate different statistics for the players and teams. Write a program that reads in data from a CSV file and stores the data in a list of dictionaries, where each dictionary represents a player and contains their name, team, games played, and points scored.\n",
    "\n",
    "Calculate the following statistics for each player:\n",
    "* average points per game\n",
    "* total points scored\n",
    "* total games played\n",
    "\n",
    "Calculate the following statistics for each team:\n",
    "* average points per game\n",
    "* total points scored\n",
    "* total games played\n",
    "\n",
    "*Tip* Start with writing an analysis plan.\n",
    "\n",
    "\n",
    "### Dealing with messy data\n",
    "\n",
    "Make sure that your program can handle exceptions for missing data, such as players that did not play any games, and players whose team are not in the data file.\n"
   ]
  },
  {
   "cell_type": "markdown",
   "metadata": {},
   "source": [
    "# Operations on lists and strings\n",
    "\n",
    "## Basic exercises on lists and strings\n",
    "\n",
    "### Exercise 1\n",
    "\n",
    "The string below is an article in English. \n",
    "1. How long is the article?\n",
    "2. How often the words cat or cats is mentioned?\n",
    "3. Remove the following stopwords from the article: the, a, and, in of, to.\n",
    "4. Print the first three words of the article.\n"
   ]
  },
  {
   "cell_type": "code",
   "execution_count": 6,
   "metadata": {},
   "outputs": [],
   "source": [
    "cat_art = 'Cats have been a beloved pet for humans for thousands of years, and for good reason. Not only are they cute and cuddly, but they also provide a number of benefits to their owners. Here are some of the ways that cats are important to humans:\\nCompanionship: Cats are great companions for humans. They are affectionate, playful, and can help reduce stress and anxiety. \\nHealth benefits: Studies have shown that owning a cat can have positive health benefits for their owners. Cats have been known to help reduce blood pressure, lower the risk of heart attacks and strokes, and even improve mood. \\nPest control: Cats are natural hunters and can help keep homes and gardens free of pests like rodents and insects. \\nEntertainment: Cats are playful creatures and can provide endless hours of entertainment for their owners. Watching them chase toys or play with each other can be a great source of amusement. \\nEmotional support: Cats can be an important source of emotional support for their owners, especially for those who live alone or have mental health issues. Their calming presence and affection can help reduce feelings of loneliness and depression. \\nOverall, cats are an important part of many peoples lives. They provide companionship, health benefits, pest control, entertainment, and emotional support to their owners. So if you are looking for a furry friend to add to your family, a cat might just be the perfect choice.'"
   ]
  },
  {
   "cell_type": "code",
   "execution_count": 7,
   "metadata": {},
   "outputs": [
    {
     "name": "stdout",
     "output_type": "stream",
     "text": [
      "Cats have been a beloved pet for humans for thousands of years, and for good reason. Not only are they cute and cuddly, but they also provide a number of benefits to their owners. Here are some of the ways that cats are important to humans:\n",
      "Companionship: Cats are great companions for humans. They are affectionate, playful, and can help reduce stress and anxiety. \n",
      "Health benefits: Studies have shown that owning a cat can have positive health benefits for their owners. Cats have been known to help reduce blood pressure, lower the risk of heart attacks and strokes, and even improve mood. \n",
      "Pest control: Cats are natural hunters and can help keep homes and gardens free of pests like rodents and insects. \n",
      "Entertainment: Cats are playful creatures and can provide endless hours of entertainment for their owners. Watching them chase toys or play with each other can be a great source of amusement. \n",
      "Emotional support: Cats can be an important source of emotional support for their owners, especially for those who live alone or have mental health issues. Their calming presence and affection can help reduce feelings of loneliness and depression. \n",
      "Overall, cats are an important part of many peoples lives. They provide companionship, health benefits, pest control, entertainment, and emotional support to their owners. So if you are looking for a furry friend to add to your family, a cat might just be the perfect choice.\n"
     ]
    }
   ],
   "source": []
  },
  {
   "cell_type": "markdown",
   "metadata": {},
   "source": [
    "### Exercise 2\n",
    "\n",
    "The list below contains titles of movies about cats. \n",
    "\n",
    "1. How many movie titles start with the words: cat or cats? To count it, make sure to remove all 'the' and 'a' from the beginning of titles.\n",
    "2. Filter the list so that it only contains titles that do not mention the word cat or cats.\n",
    "3. Write a function that makes a cat movie title into a dog movie title (by replacing cat/cats by dog/dogs). Apply this function to create a new list `dog_movies`."
   ]
  },
  {
   "cell_type": "code",
   "execution_count": 8,
   "metadata": {},
   "outputs": [],
   "source": [
    "cat_movies = [\"Catwoman\",\n",
    "              \"Puss in Boots\",    \n",
    "              \"A Street Cat Named Bob\",    \n",
    "              \"Garfield: The Movie\",    \n",
    "              \"The Aristocats\",    \n",
    "              \"Felix the Cat: The Movie\",    \n",
    "              \"The Cat Returns\",    \n",
    "              \"Kedi\",    \n",
    "              \"Nine Lives\",    \n",
    "              \"Cats & Dogs\",    \n",
    "              \"That Darn Cat\",    \n",
    "              \"Cat People\",    \n",
    "              \"A Cat in Paris\",    \n",
    "              \"Stray\",    \n",
    "              \"The Cat from Outer Space\",    \n",
    "              \"Harry and Tonto\",    \n",
    "              \"Homeward Bound: The Incredible Journey\",    \n",
    "              \"Cat's Eye\",    \n",
    "              \"The Adventures of Milo and Otis\",    \n",
    "              \"Meow Madness\",    \n",
    "              \"Breakfast at Tiffany's\",    \n",
    "              \"The Three Lives of Thomasina\",    \n",
    "              \"The Cat Who Walked by Herself\",    \n",
    "              \"Don't F**k with Cats\",    \n",
    "              \"The Black Cat\",    \n",
    "              \"Pete the Cat: A Groovy New Year\",   \n",
    "              \"Cat Ballou\",    \n",
    "              \"The Cat and the Canary\",    \n",
    "              \"Tom and Jerry: The Movie\",    \n",
    "              \"A Cat with a Dog\"]\n"
   ]
  },
  {
   "cell_type": "code",
   "execution_count": null,
   "metadata": {},
   "outputs": [],
   "source": []
  },
  {
   "cell_type": "markdown",
   "metadata": {},
   "source": [
    "## Advanced exercises on lists and strings\n",
    "\n",
    "The text file `cat_movies.txt` contains 9 lists. Each list represents one individual and includes the movies about cats they have watched. \n",
    "\n",
    "1. Read this file into a list of lists. \n",
    "2. Answer the following questions:\n",
    "    * How many times was the movie \"A Cat in Paris\" watched? Make sure to account for lower and upper case spelling.\n",
    "    * How many movies did the users watch on average?\n",
    "3. Filter the list to only keep users who watched movies with the word cat in the title."
   ]
  },
  {
   "cell_type": "code",
   "execution_count": null,
   "metadata": {},
   "outputs": [],
   "source": []
  }
 ],
 "metadata": {
  "interpreter": {
   "hash": "aee8b7b246df8f9039afb4144a1f6fd8d2ca17a180786b69acc140d282b71a49"
  },
  "kernelspec": {
   "display_name": "Python 3.9.1 64-bit",
   "language": "python",
   "name": "python3"
  },
  "language_info": {
   "codemirror_mode": {
    "name": "ipython",
    "version": 3
   },
   "file_extension": ".py",
   "mimetype": "text/x-python",
   "name": "python",
   "nbconvert_exporter": "python",
   "pygments_lexer": "ipython3",
   "version": "3.9.1"
  },
  "orig_nbformat": 4
 },
 "nbformat": 4,
 "nbformat_minor": 2
}
