{
 "cells": [
  {
   "cell_type": "markdown",
   "id": "mineral-royalty",
   "metadata": {},
   "source": [
    "## In-class excercises week 7\n",
    "\n",
    "In the final tutorial we will work with two datasets containing digital traces and try to think how to solve questions related to these datasets.\n",
    "Both datasets are fictional datasets from an online service that is currenly running mutliple communication campaigns to attract users to its website. \n",
    "\n",
    "* `da56_sessions.pkl.gz` contains all visits (sessions) to the website. It includes the following columns:\n",
    "    * `session_id` - unique id of the session\n",
    "    * `session_timestamp` - starting time of the session\n",
    "    * `user_agent` - information about the browser from which the session takes place\n",
    "    * `referral` - the website from which the visitor came\n",
    "    * `paid_campaign` - categorical variable indicating the type of paid campaign that the visitor came from (one of four). Nan indicates not coming from a paid campaign. \n",
    "    * `user_id` - if the visitor has an account, their user id is pasted here\n",
    "    \n",
    "* `da56_users.pkl` contains information on registered users of the website. It includes the following columns:\n",
    "    * `id` - unique user id for registered users\n",
    "    * `reg_name` - users' name used for registration\n",
    "    * `age` - users' age provided in the registration\n",
    "    * `registration_date` - registration date\n",
    "    * `initial_referrer` - the website from which this user originally came from when registering\n",
    "    * `preferential_client` -  variable takes value 1 when the user has preferential status\n",
    "    \n",
    "\n",
    "How would you do the following:\n",
    "* Deal with missing values in the dataset? What are my options? What do missings mean?\n",
    "* Merge the two datasets: what are my options? What are the consequenecs of different types of merge for unit of analysis and for missing values?\n",
    "    * Scenario: I want to know if a visitor was a preferential client. What merge type do I need? What do I do with missing values?\n",
    "* Minimize the datasets: what do I need to know? What steps do I need to take?\n",
    "    * Scenario: I am only interested in referrals, type of paid campaign and if visitor was a preferential client. What do I need to do to minimize the data?\n",
    "* Create categorical variables: how do I \"recode\" the exisitng columns? What steps do I need to take?\n",
    "    * Scenario: I want to have a new variable about visits that is binary and tells me if a visitor came to my website from social media (Instagram or Facebook) or not. What column do I need to \"recode\"? How do I do that?"
   ]
  },
  {
   "cell_type": "code",
   "execution_count": 1,
   "id": "uniform-behalf",
   "metadata": {},
   "outputs": [],
   "source": [
    "import pandas as pd"
   ]
  },
  {
   "cell_type": "code",
   "execution_count": 2,
   "id": "regulated-sound",
   "metadata": {},
   "outputs": [],
   "source": [
    "sessions = pd.read_pickle('da56_sessions.pkl.gz')"
   ]
  },
  {
   "cell_type": "code",
   "execution_count": 8,
   "id": "tight-texture",
   "metadata": {},
   "outputs": [],
   "source": [
    "users = pd.read_pickle('da56_users.pkl')"
   ]
  },
  {
   "cell_type": "code",
   "execution_count": null,
   "id": "antique-defendant",
   "metadata": {},
   "outputs": [],
   "source": []
  }
 ],
 "metadata": {
  "kernelspec": {
   "display_name": "Python 3",
   "language": "python",
   "name": "python3"
  },
  "language_info": {
   "codemirror_mode": {
    "name": "ipython",
    "version": 3
   },
   "file_extension": ".py",
   "mimetype": "text/x-python",
   "name": "python",
   "nbconvert_exporter": "python",
   "pygments_lexer": "ipython3",
   "version": "3.9.1"
  }
 },
 "nbformat": 4,
 "nbformat_minor": 5
}
