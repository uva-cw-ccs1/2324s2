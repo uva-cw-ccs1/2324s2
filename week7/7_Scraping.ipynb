{
 "cells": [
  {
   "cell_type": "markdown",
   "metadata": {},
   "source": [
    "# Looking ahead\n",
    "\n",
    "Welcome to the final week of the course. This week we want to look ahead and focus on alternative ways to collect data and on infrastructure used for computational communication science.\n",
    "\n",
    "\n",
    "### Scraping\n",
    "\n",
    "Last week you learned how to collect your own data using API's. However, not all websites have API's services available. In such cases, scraping is often a good solution. \n",
    "\n",
    "*In this course, we do not expect you to be able to scrape websites, but want to share it with you as a possibility for e.g., your thesis in the future.*\n"
   ]
  },
  {
   "cell_type": "code",
   "execution_count": null,
   "metadata": {},
   "outputs": [],
   "source": [
    "from lxml import html\n",
    "import requests\n",
    "\n",
    "# not strictly necessary, but for formatting later:\n",
    "import pandas as pd"
   ]
  },
  {
   "cell_type": "code",
   "execution_count": null,
   "metadata": {},
   "outputs": [],
   "source": []
  },
  {
   "cell_type": "code",
   "execution_count": null,
   "metadata": {},
   "outputs": [],
   "source": [
    "#Getting all restaurants\n",
    "response = requests.get('https://cssbook.net/d/eat/index.html')\n",
    "\n",
    "tree = html.fromstring(response.text)\n",
    "\n",
    "# get get the names\n",
    "cuisines = tree.xpath('/html/body/h2/text()')"
   ]
  },
  {
   "cell_type": "code",
   "execution_count": null,
   "metadata": {},
   "outputs": [],
   "source": [
    "type(cuisines)"
   ]
  },
  {
   "cell_type": "code",
   "execution_count": null,
   "metadata": {},
   "outputs": [],
   "source": [
    "#Getting real data\n",
    "response = requests.get('https://www.politifact.com/factchecks/list/?ruling=true')\n",
    "\n",
    "tree = html.fromstring(response.text)\n",
    "\n",
    "# get get the names\n",
    "names = tree.xpath('//*[@id=\"top\"]/main/section[3]/article/section/div/article/ul/li/article/div[1]/div[2]/a/text()')"
   ]
  },
  {
   "cell_type": "markdown",
   "metadata": {},
   "source": [
    "One possible XPATH (without the/text() at the end):\n",
    "//*[@id=\"top\"]/main/section[3]/article/section/div/article/ul/li[4]/article/div[1]/div[2]/a"
   ]
  },
  {
   "cell_type": "code",
   "execution_count": null,
   "metadata": {},
   "outputs": [],
   "source": [
    "names"
   ]
  },
  {
   "cell_type": "code",
   "execution_count": null,
   "metadata": {},
   "outputs": [],
   "source": [
    "response = requests.get('https://www.politifact.com/factchecks/list/?ruling=true')\n",
    "\n",
    "tree = html.fromstring(response.text)\n",
    "\n",
    "# get get the names\n",
    "facts = tree.xpath('//*[@id=\"top\"]/main/section[3]/article/section/div/article/ul/li/article/div[2]/div/div[1]/div/a/text()')"
   ]
  },
  {
   "cell_type": "code",
   "execution_count": null,
   "metadata": {},
   "outputs": [],
   "source": [
    "facts"
   ]
  },
  {
   "cell_type": "code",
   "execution_count": null,
   "metadata": {},
   "outputs": [],
   "source": [
    "# some cleanup\n",
    "\n",
    "facts = [e.strip() for e in facts]\n",
    "names = [e.strip() for e in names]"
   ]
  },
  {
   "cell_type": "code",
   "execution_count": null,
   "metadata": {},
   "outputs": [],
   "source": [
    "df = pd.DataFrame(\n",
    "    {'names': names,\n",
    "     'facts': facts\n",
    "    })\n"
   ]
  },
  {
   "cell_type": "code",
   "execution_count": null,
   "metadata": {},
   "outputs": [],
   "source": [
    "df"
   ]
  },
  {
   "cell_type": "code",
   "execution_count": null,
   "metadata": {},
   "outputs": [],
   "source": []
  }
 ],
 "metadata": {
  "kernelspec": {
   "display_name": "Python 3",
   "language": "python",
   "name": "python3"
  },
  "language_info": {
   "codemirror_mode": {
    "name": "ipython",
    "version": 3
   },
   "file_extension": ".py",
   "mimetype": "text/x-python",
   "name": "python",
   "nbconvert_exporter": "python",
   "pygments_lexer": "ipython3",
   "version": "3.8.10"
  }
 },
 "nbformat": 4,
 "nbformat_minor": 5
}
