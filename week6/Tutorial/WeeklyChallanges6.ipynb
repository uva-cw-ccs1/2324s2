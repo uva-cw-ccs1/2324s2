{
 "cells": [
  {
   "cell_type": "markdown",
   "id": "formal-tomorrow",
   "metadata": {},
   "source": [
    "# Challenges week 6\n",
    "\n",
    "Now that you have some experience with working with APIs and playing around with this data, it's time for you to combine and apply your knowledge. You will start working on these challenges in the tutorial and will be asked to complete them by the end of the week. \n",
    "\n",
    "In each challenge, you are asked to provide the programming solution to it as well as a technical interpretation explaining the steps taken and the result."
   ]
  },
  {
   "cell_type": "markdown",
   "id": "3860f173",
   "metadata": {},
   "source": [
    "# Challenge 1\n",
    "\n",
    "The list below contains fictional article headlines. You are asked to pre-process the headlines and provide some basic information about them.\n",
    "\n",
    "1. Pre-process the headlines (make sure to remove unnecessary characters and make the headline lower space)\n",
    "\n",
    "2. What is the average length of a headline?\n",
    "\n",
    "3. How many of the headlines are about cats or dogs?\n"
   ]
  },
  {
   "cell_type": "code",
   "execution_count": 5,
   "id": "f7eb66dc",
   "metadata": {},
   "outputs": [],
   "source": [
    "headlines = [\n",
    "    \"  Local man wins national pie-eating contest\",\n",
    "    \"New study shows that cats are good for you  \",\n",
    "    \"Breaking news: \\n Cat stuck in tree\",\n",
    "    \"Weather forecast: \\n Raining cats and dogs\",\n",
    "    \"Expert says that chocolate is the key to happiness \",\n",
    "    \"Exclusive interview with the world's oldest person\",\n",
    "    \" Local school wins state basketball championship\",\n",
    "    \"Police arrest suspect in bank robbery \",\n",
    "    \"  Dog bites man in park\"\n",
    "]\n"
   ]
  },
  {
   "cell_type": "code",
   "execution_count": null,
   "id": "ce9dd9c9",
   "metadata": {},
   "outputs": [],
   "source": []
  },
  {
   "cell_type": "markdown",
   "id": "unlike-hands",
   "metadata": {},
   "source": [
    "# Challange 2\n",
    "\n",
    "Here is a list of easy to use APIs related to entertainment https://github.com/public-apis/public-apis#entertainment with little or no authentication. We will now use the RandomUselessFacts API, for which the documentation is very simple and can be found here https://uselessfacts.jsph.pl/. \n",
    "1. Interact with the API to get access to a random fact or the fact of the day. \n",
    "2. Write a function that builds upon your initial script and allows for increased functionality/interaction with the API. The most apparent option here is to write a function that allows you to collect many facts using the /random endpoint. For the function, provide the necessary code and a short explanation of the working of the function.\n"
   ]
  },
  {
   "cell_type": "code",
   "execution_count": null,
   "id": "5f4a2708-0e87-45aa-afdc-30f1ea13d8ad",
   "metadata": {},
   "outputs": [],
   "source": []
  },
  {
   "cell_type": "markdown",
   "id": "political-campaign",
   "metadata": {},
   "source": [
    "# Challenge 3 \n",
    "\n",
    "The dataset `example_tweets.json` is the json  response returned from the Twitter API. This is a data collected using the keyword search surveillance - tweets that include this keyword are included in the dataset. On [this website](https://developer.twitter.com/en/docs/twitter-api/v1/data-dictionary/object-model/tweet) you can find the documentation of the API and the columns it returns. In this challenge, you will explore this data and identify possible privacy and ethical issues with it.\n",
    "\n",
    "\n",
    "1. Use pandas to load this data into a dataframe. \n",
    "\n",
    "2. Explore this dataset using the skills you have learned in the class. Make sure to check how the dataset looks like, what columns it has, what data type these columns have and if there are any missing values. Write a short description of the dataset and answer the following questions:\n",
    "* How many languages are the tweets in?\n",
    "* How many retweets did the tweets receive on average?\n",
    "* Is the retweets number higher or lower for tweets that contain sensitive links vs. the one's with non-sensitive and no links? *Tip: check in the documentation what missing values in column `possibly_sensitive` mean and consider what you need to do with them.*\n",
    "\n",
    "3. Imagine that you want to research if there is a relation between the topics in the text of the tweets about surveillance and number of retweets the tweets receive. You want to include number of followers of the author of each tweet as a control variable. Hence, you need the columns with information on the text of the tweet (`text`), its number of retweets (`retweet_count`) and the number of followers of the author (included in `user`). \n",
    "* Minimize the dataset accordingly. Explain your minimization steps.\n",
    "* What other steps would you need to take to make sure that the data follows privacy protection principles discussed in the lecture? Give concrete examples based on the information available in your minimized dataset. *Tip: consider what identifiable and identified information the text and user columns contain.*"
   ]
  },
  {
   "cell_type": "code",
   "execution_count": null,
   "id": "40f8c4ec",
   "metadata": {},
   "outputs": [],
   "source": []
  }
 ],
 "metadata": {
  "interpreter": {
   "hash": "aee8b7b246df8f9039afb4144a1f6fd8d2ca17a180786b69acc140d282b71a49"
  },
  "kernelspec": {
   "display_name": "Python 3.9.1 64-bit",
   "language": "python",
   "name": "python3"
  },
  "language_info": {
   "codemirror_mode": {
    "name": "ipython",
    "version": 3
   },
   "file_extension": ".py",
   "mimetype": "text/x-python",
   "name": "python",
   "nbconvert_exporter": "python",
   "pygments_lexer": "ipython3",
   "version": "3.9.1"
  }
 },
 "nbformat": 4,
 "nbformat_minor": 5
}
