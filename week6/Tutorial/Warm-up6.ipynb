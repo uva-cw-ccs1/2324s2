{
 "cells": [
  {
   "cell_type": "markdown",
   "id": "nutritional-converter",
   "metadata": {},
   "source": [
    "# Warm-up excercises week 6\n",
    "\n",
    "Now that you have seen how to communicate with basic APIs and working with text, it's time for you to combine apply this knowledge. To prepare for the tutorial, we ask you to complete two warm-up excercises.\n",
    "\n",
    "\n",
    "Some important notes for the exercises:\n",
    "\n",
    "* These exercises are a warming up meant to help you get ready for class. Make sure to give a try to all of them.\n",
    "* As these exercises are meant to help you participate in the tutorial and us to make sure you can get as much as possible from the tutorials, we do not expect perfect answers. However, this is important to show the effort you have put in the exercises and what obstacles you faced."
   ]
  },
  {
   "cell_type": "markdown",
   "id": "bright-jumping",
   "metadata": {},
   "source": []
  },
  {
   "cell_type": "markdown",
   "id": "supposed-priest",
   "metadata": {},
   "source": [
    "# Excercise 1\n",
    "\n",
    "1. During the lecture, we broke interacted with the datamuse API. The documentation for this API is available here https://www.datamuse.com/api/. Use another operation discussed in class  offered by this API apart from the ones we interacted with in the lecture. \n",
    "\n",
    "2. Explain the meaning of the http response code you received. \n",
    "\n",
    "3. Read the data you have collected into a dataframe."
   ]
  },
  {
   "cell_type": "code",
   "execution_count": null,
   "id": "thousand-flower",
   "metadata": {},
   "outputs": [],
   "source": []
  },
  {
   "cell_type": "markdown",
   "id": "allied-large",
   "metadata": {},
   "source": [
    "# Excercise 2\n",
    "\n",
    "1. Use the API querying function from The Guardian provided in the lecture, and the documentation available here https://open-platform.theguardian.com/documentation/, to create a custom query from the Guardian of your choosing. To complete this exercise, your custom query must return at least 20 rows of data. Use the API credential (key) provided in the function in the lecture notebook. If you receive an error regarding a conflicting query occurring at the same time, try to run the snippet again. You should then receive a valid response. \n",
    "\n",
    "2. Read the response from the API into a dataframe.\n",
    "\n",
    "3. Make sure that all titles of articles are pre-processed (unnecessary spaces removed, lowercased)."
   ]
  },
  {
   "cell_type": "code",
   "execution_count": null,
   "id": "induced-calibration",
   "metadata": {},
   "outputs": [],
   "source": []
  }
 ],
 "metadata": {
  "interpreter": {
   "hash": "aee8b7b246df8f9039afb4144a1f6fd8d2ca17a180786b69acc140d282b71a49"
  },
  "kernelspec": {
   "display_name": "Python 3.9.1 64-bit",
   "language": "python",
   "name": "python3"
  },
  "language_info": {
   "codemirror_mode": {
    "name": "ipython",
    "version": 3
   },
   "file_extension": ".py",
   "mimetype": "text/x-python",
   "name": "python",
   "nbconvert_exporter": "python",
   "pygments_lexer": "ipython3",
   "version": "3.9.1"
  }
 },
 "nbformat": 4,
 "nbformat_minor": 5
}
