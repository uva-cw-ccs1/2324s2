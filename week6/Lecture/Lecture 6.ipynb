{
 "cells": [
  {
   "cell_type": "markdown",
   "id": "electronic-automation",
   "metadata": {},
   "source": [
    "# Collecting and analyzing data beyond numbers\n",
    "\n",
    "Welcome to the sixth week of the course. By the end of this week, you should acquire:\n",
    "\n",
    "**Knowledge on:**\n",
    "* What an Application Programming Interface is\n",
    "* The various ways in which APIs can be used\n",
    "* The concept of authentication and it's pains\n",
    "* Basic HTTP responses\n",
    "\n",
    "**Skills on:**\n",
    "* Interacting with a basic API\n",
    "* Working with different types of data\n",
    "\n",
    "In today's class we will rely on some pretty basic Python packages such as *requests*. "
   ]
  },
  {
   "cell_type": "code",
   "execution_count": null,
   "id": "convertible-majority",
   "metadata": {},
   "outputs": [],
   "source": [
    "import time # allows us to do interesting things with time objects and the passage of time\n",
    "import json #allows us to interact with json objects (which is what a lot of APIs communciate in)\n",
    "import requests #allows us to make so-called http requests, i.e. the same thing you do whenever you launch facebook in a broswer\n",
    "import pandas as pd"
   ]
  },
  {
   "cell_type": "markdown",
   "id": "preliminary-contents",
   "metadata": {},
   "source": [
    "# Basic APIs - cat facts!"
   ]
  },
  {
   "cell_type": "code",
   "execution_count": null,
   "id": "fatal-conversion",
   "metadata": {},
   "outputs": [],
   "source": [
    "data = requests.get('https://catfact.ninja/fact')"
   ]
  },
  {
   "cell_type": "code",
   "execution_count": null,
   "id": "treated-bacon",
   "metadata": {},
   "outputs": [],
   "source": [
    "data"
   ]
  },
  {
   "cell_type": "code",
   "execution_count": null,
   "id": "italic-links",
   "metadata": {},
   "outputs": [],
   "source": [
    "data.json()"
   ]
  },
  {
   "cell_type": "code",
   "execution_count": null,
   "id": "finite-possible",
   "metadata": {},
   "outputs": [],
   "source": [
    "#To get multiple facts, we can use our Python knowledge from previous weeks \n",
    "counter=0\n",
    "cats=[]\n",
    "while counter<30:\n",
    "    data = requests.get('https://catfact.ninja/fact')\n",
    "    cats.append(data.json())\n",
    "    counter+=1"
   ]
  },
  {
   "cell_type": "code",
   "execution_count": null,
   "id": "a9e8e1b6",
   "metadata": {},
   "outputs": [],
   "source": [
    "#What did we get?\n",
    "cats_df = pd.DataFrame.from_dict(cats)"
   ]
  },
  {
   "cell_type": "code",
   "execution_count": null,
   "id": "e514b129",
   "metadata": {},
   "outputs": [],
   "source": [
    "cats"
   ]
  },
  {
   "cell_type": "markdown",
   "id": "statistical-coverage",
   "metadata": {},
   "source": [
    "# Basic APIs - rhyming words!"
   ]
  },
  {
   "cell_type": "code",
   "execution_count": null,
   "id": "mineral-divorce",
   "metadata": {},
   "outputs": [],
   "source": [
    "#Check out the docs here https://www.datamuse.com/api/\n",
    "parameter = {\"rel_rhy\":\"bye\"}\n",
    "request = requests.get('https://api.datamuse.com/words',parameter)"
   ]
  },
  {
   "cell_type": "code",
   "execution_count": null,
   "id": "expired-crazy",
   "metadata": {},
   "outputs": [],
   "source": [
    "print(request.json())"
   ]
  },
  {
   "cell_type": "markdown",
   "id": "incident-ladder",
   "metadata": {},
   "source": [
    "### Note that the above code is equivalent to running https://api.datamuse.com/words?rel_rhy=bye in your browser. \n"
   ]
  },
  {
   "cell_type": "markdown",
   "id": "vertical-viewer",
   "metadata": {},
   "source": [
    "# The Guardian API"
   ]
  },
  {
   "cell_type": "code",
   "execution_count": null,
   "id": "interesting-morrison",
   "metadata": {},
   "outputs": [],
   "source": [
    "#writing own function to query API\n",
    "#https://towardsdatascience.com/discovering-powerful-data-the-guardian-news-api-into-python-for-nlp-1829b568fb0f\n",
    "\n",
    "\n",
    "def query_api(tag, page, from_date, api_key):\n",
    "    \"\"\"\n",
    "    Function to query the API for a particular tag\n",
    "    returns: a response from API\n",
    "    \"\"\"\n",
    "    response = requests.get(\"https://content.guardianapis.com/search?tag=\"\n",
    "                            + tag + \"&from-date=\" + from_date \n",
    "                            +\"&page=\" + str(page) + \"&page-size=200&api-key=\" + api_key)\n",
    "    return response\n",
    "\n",
    "response = query_api('money/energy', '1', '2022-03-01', 'e723ffce-dfd5-427e-b9b8-779f5efedb02')\n",
    "data= response.json()\n"
   ]
  },
  {
   "cell_type": "code",
   "execution_count": null,
   "id": "0c10db07",
   "metadata": {},
   "outputs": [],
   "source": [
    "data"
   ]
  },
  {
   "cell_type": "code",
   "execution_count": null,
   "id": "9dc3ddec",
   "metadata": {},
   "outputs": [],
   "source": [
    "#How do we get the data structured?\n",
    "\n",
    "news_df = pd.DataFrame.from_dict(data)"
   ]
  },
  {
   "cell_type": "code",
   "execution_count": null,
   "id": "aadba32c",
   "metadata": {},
   "outputs": [],
   "source": [
    "news_df"
   ]
  },
  {
   "cell_type": "markdown",
   "id": "09b4c198",
   "metadata": {},
   "source": [
    "# Working with text"
   ]
  },
  {
   "cell_type": "code",
   "execution_count": null,
   "id": "efb2b990",
   "metadata": {},
   "outputs": [],
   "source": [
    "#recap - operations on strings\n",
    "\n",
    "text = '  People who are allergic to cats are actually allergic to cat saliva or to cat dander.  \\n If the resident cat is bathed regularly the allergic people tolerate it better.'\n",
    "print(text)\n",
    "\n",
    "#What do we need to do?"
   ]
  },
  {
   "cell_type": "code",
   "execution_count": null,
   "id": "a61992ce",
   "metadata": {},
   "outputs": [],
   "source": []
  },
  {
   "cell_type": "code",
   "execution_count": null,
   "id": "f3e4a4a5",
   "metadata": {},
   "outputs": [],
   "source": [
    "# processing a larger amount of data - df with articles\n",
    "\n"
   ]
  },
  {
   "cell_type": "code",
   "execution_count": null,
   "id": "89915564",
   "metadata": {},
   "outputs": [],
   "source": [
    "# writing functions with strings - write a function that classifies if an article title mentions uk or not"
   ]
  },
  {
   "cell_type": "code",
   "execution_count": null,
   "id": "2e80635e",
   "metadata": {},
   "outputs": [],
   "source": []
  }
 ],
 "metadata": {
  "interpreter": {
   "hash": "aee8b7b246df8f9039afb4144a1f6fd8d2ca17a180786b69acc140d282b71a49"
  },
  "kernelspec": {
   "display_name": "Python 3.9.1 64-bit",
   "language": "python",
   "name": "python3"
  },
  "language_info": {
   "codemirror_mode": {
    "name": "ipython",
    "version": 3
   },
   "file_extension": ".py",
   "mimetype": "text/x-python",
   "name": "python",
   "nbconvert_exporter": "python",
   "pygments_lexer": "ipython3",
   "version": "3.9.1"
  }
 },
 "nbformat": 4,
 "nbformat_minor": 5
}
