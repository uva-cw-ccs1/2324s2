{
 "cells": [
  {
   "cell_type": "code",
   "execution_count": null,
   "id": "round-container",
   "metadata": {},
   "outputs": [],
   "source": [
    "import pandas as pd"
   ]
  },
  {
   "cell_type": "code",
   "execution_count": null,
   "id": "cardiac-silicon",
   "metadata": {},
   "outputs": [],
   "source": [
    "apple_tweets = pd.read_csv(\"apple_tweets.csv\", sep=\",\", encoding = 'unicode_escape')"
   ]
  },
  {
   "cell_type": "code",
   "execution_count": null,
   "id": "prescribed-lancaster",
   "metadata": {},
   "outputs": [],
   "source": [
    "#Show first 5 rows\n"
   ]
  },
  {
   "cell_type": "code",
   "execution_count": null,
   "id": "bddb59f1",
   "metadata": {},
   "outputs": [],
   "source": [
    "#Show columns"
   ]
  },
  {
   "cell_type": "code",
   "execution_count": null,
   "id": "74bfcccf",
   "metadata": {},
   "outputs": [],
   "source": [
    "#Show dtypes"
   ]
  },
  {
   "cell_type": "code",
   "execution_count": null,
   "id": "5b916d51",
   "metadata": {},
   "outputs": [],
   "source": [
    "#Show missing"
   ]
  },
  {
   "cell_type": "code",
   "execution_count": null,
   "id": "broken-hampshire",
   "metadata": {},
   "outputs": [],
   "source": [
    "#function to classify as trusted if score above mean\n"
   ]
  },
  {
   "cell_type": "code",
   "execution_count": null,
   "id": "489395cc",
   "metadata": {},
   "outputs": [],
   "source": [
    "#Filtering - select only trusted tweets"
   ]
  },
  {
   "cell_type": "code",
   "execution_count": null,
   "id": "congressional-receiver",
   "metadata": {},
   "outputs": [],
   "source": [
    "#Subsetting (select a few columns)"
   ]
  }
 ],
 "metadata": {
  "kernelspec": {
   "display_name": "Python 3 (ipykernel)",
   "language": "python",
   "name": "python3"
  },
  "language_info": {
   "codemirror_mode": {
    "name": "ipython",
    "version": 3
   },
   "file_extension": ".py",
   "mimetype": "text/x-python",
   "name": "python",
   "nbconvert_exporter": "python",
   "pygments_lexer": "ipython3",
   "version": "3.8.18"
  }
 },
 "nbformat": 4,
 "nbformat_minor": 5
}
