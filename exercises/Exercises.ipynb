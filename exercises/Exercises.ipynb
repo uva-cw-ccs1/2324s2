{
  "cells": [
    {
      "cell_type": "markdown",
      "metadata": {
        "id": "uokINbXwmUNg"
      },
      "source": [
        "# Additional exercises weeks 2 and 3\n",
        "\n",
        "## Exercise 1\n",
        "\n",
        "Below, you can find a list with popular programs on Netflix.\n",
        "\n",
        "Answer the following questions, using code and Markdown.\n",
        "* What is the longest title in the list?\n",
        "* How many words are there on average in the titles? And how many letters?\n",
        "* How many titles start with the word \"The\"?\n",
        "\n",
        "Now, you will pre-process the data for further analysis.\n",
        "* Make all titles lowercase,\n",
        "* Remove the following stopwords: the, a, and, in of, to.\n",
        "* Remove all brackets and everything in between them"
      ]
    },
    {
      "cell_type": "markdown",
      "metadata": {
        "id": "rE09NlY0tePE"
      },
      "source": [
        "In the cell below you will find a list with popular programs on Netflix.\n",
        "\n",
        "Answer the following questions, using code.\n",
        "* What is the longest title in the list?\n",
        "* How many words are there on average in the titles? And how many letters?\n",
        "* How many titles start with the word \"The\"?\n",
        "\n",
        "Now, we will preprocess the data for further analysis.\n",
        "* Make all titles lowercase\n",
        "* Remove the following stopwords: the, a, and, in of, to.\n",
        "* Remove all brackets"
      ]
    },
    {
      "cell_type": "code",
      "execution_count": null,
      "metadata": {
        "id": "RfpBnvq3oDFc"
      },
      "outputs": [],
      "source": [
        "programs = [\"Bridgerton\",\n",
        "            \"Stranger Things\",\n",
        "            \"The Witcher\",\n",
        "            \"La Casa de Papel (Money Heist)\",\n",
        "            \"Narcos\",\n",
        "            \"Lupin\",\n",
        "            \"Sex Education\",\n",
        "            \"The Crown\",\n",
        "            \"Emily in Paris\",\n",
        "            \"Ozark\",\n",
        "            \"The Queen's Gambit\",\n",
        "            \"Tiger King\",\n",
        "            \"You\",\n",
        "            \"Elite\",\n",
        "            \"Dark\",\n",
        "            \"Sweet Tooth\",\n",
        "            \"Outer Banks\",\n",
        "            \"The Umbrella Academy\",\n",
        "            \"Cobra Kai\",\n",
        "            \"The Haunting of Bly Manor\",\n",
        "            \"Lucifer\",\n",
        "            \"Shadow and Bone\",\n",
        "            \"Virgin River\",\n",
        "            \"The Kissing Booth\",\n",
        "            \"The Old Guard\",\n",
        "            \"The Irishman\",\n",
        "            \"The Trial of the Chicago 7\",\n",
        "            \"Enola Holmes\",\n",
        "            \"Project Power\",\n",
        "            \"Extraction\",\n",
        "            \"13 Reasons Why\",\n",
        "            \"The Good Place\",\n",
        "            \"Money Heist: Part 5, Volume 1\",\n",
        "            \"The Circle\",\n",
        "            \"Love on the Spectrum\",\n",
        "            \"Too Hot to Handle\",\n",
        "            \"Queer Eye\",\n",
        "            \"Selling Sunset\",\n",
        "            \"The Great British Baking Show\",\n",
        "            \"Master of None\",\n",
        "            \"Black Mirror\",\n",
        "            \"Narcos: Mexico\",\n",
        "            \"Chef's Table\",\n",
        "            \"Mindhunter\",\n",
        "            \"The Kominsky Method\",\n",
        "            \"Bojack Horseman\",\n",
        "            \"The Ranch\",\n",
        "            \"Arrested Development\",\n",
        "            \"Friends\",\n",
        "            \"The Office (US)\"]"
      ]
    },
    {
      "cell_type": "markdown",
      "metadata": {
        "id": "nZkZCTONtUPv"
      },
      "source": [
        "## Exercise 2\n",
        "\n",
        "Below you will find a dataset with sales information. Explore at the dataset. What are the keys and the values in the dataset? Write your answer using code and Markdown."
      ]
    },
    {
      "cell_type": "code",
      "execution_count": null,
      "metadata": {
        "id": "bOxbOMI-s8be"
      },
      "outputs": [],
      "source": [
        "data = [\n",
        "    {\"customer_name\": \"John Doe\", \"order_date\": \"2022-01-10\", \"order_total\": 150.50, \"shipping_address\": \"123 Main St\", \"payment_method\": \"Visa\"},\n",
        "    {\"customer_name\": \"Jane Smith\", \"order_date\": \"2022-02-05\", \"order_total\": \"250\", \"shipping_address\": [\"456 Elm St\", \"Apt 3B\"]\"payment_method\": [\"Visa\", \"Mastercard\"]},\n",
        "    {\"customer_name\": \"Bob Johnson\", \"order_date\": \"2022-01-25\", \"order_total\": 50.99, \"shipping_address\": \"789 Maple Ave\", \"payment_method\": \"Visa\"},\n",
        "    {\"customer_name\": \"Samantha Lee\", \"order_date\": \"2022-02-15\", \"order_total\": 75, \"shipping_address\": \"321 Oak St\", \"payment_method\": [\"Mastercard\", \"PayPal\"]},\n",
        "    {\"customer_name\": \"Frank Rodriguez\", \"order_date\": \"2022-02-01\", \"order_total\": \"100.00\", \"shipping_address\": \"555 Pine St\", \"shipping_method\": \"UPS\"},\n",
        "    {\"customer_name\": \"Amy Chen\", \"order_date\": \"2022-01-20\", \"order_total\": 200, \"shipping_address\": \"987 Cedar Blvd\", \"payment_method\": \"American Express\", \"discount\": \"10%\"},\n",
        "    {\"customer_name\": \"Mike Brown\", \"order_date\": \"2022-02-10\", \"order_total\": 80.75, \"shipping_address\": \"246 Birch Ln\", \"shipping_method\": \"FedEx\", \"payment_method\": \"PayPal\"},\n",
        "    {\"customer_name\": \"Lisa Wang\", \"order_date\": \"2022-01-15\", \"order_total\": \"50\", \"shipping_address\": \"369 Rosewood Dr\", \"payment_method\": \"Visa\", \"discount\": 5},\n",
        "    {\"customer_name\": \"David Kim\", \"order_date\": \"2022-02-20\", \"order_total\": 125.99, \"shipping_address\": [\"1111 Elm St\", \"Apt 2C\"], \"payment_method\": \"Mastercard\", \"discount\": \"15%\"},\n",
        "    {\"customer_name\": \"Maria Hernandez\", \"order_date\": \"2022-02-25\", \"order_total\": \"300.00\", \"shipping_address\": \"2222 Maple Ave\", \"shipping_method\": \"USPS\", \"discount\": 10},\n",
        "    {\"customer_name\": \"James Wilson\", \"order_date\": \"2022-01-05\", \"order_total\": 75, \"shipping_address\": \"3333 Oak St\", \"payment_method\": \"Visa\", \"shipping_method\": \"UPS\"},\n",
        "    {\"customer_name\": \"Jessica Li\", \"order_date\": \"2022-02-28\", \"order_total\": \"200\", \"shipping_address\": \"4444 Cedar Blvd\", \"payment_method\": \"American Express\"},\n",
        "    {\"customer_name\": \"Ryan Lee\", \"order_date\": \"2022-01-18\", \"order_total\": 50.50, \"shipping_address\": \"5555 Birch Ln\", \"payment_method\": [\"Visa\", \"Mastercard\"], \"shipping_method\": \"FedEx\", \"discount\": \"5%\"},\n",
        "    {\"customer_name\": \"Elena Gomez\", \"order_date\": \"2022-02-12\", \"order_total\": \"150.00\", \"shipping_address\": \"6666 Rosewood Dr\", \"payment_method\": \"PayPal\"},\n",
        "    {\"customer_name\": \"Michael Chang\", \"order_date\": \"2022-01-30\", \"order_total\": 100}]"
      ]
    },
    {
      "cell_type": "code",
      "execution_count": null,
      "metadata": {},
      "outputs": [],
      "source": []
    },
    {
      "cell_type": "markdown",
      "metadata": {
        "id": "acLZLqyYurUB"
      },
      "source": [
        "As you might have seen, the dataset is not clean. A number of keys in the dictionaries have inconsistent values.\n",
        "\n",
        "* Write a function to create consistent values for each of the following keys:\n",
        "  1. `order_total`\n",
        "  2. `shipping_address`\n",
        "  3. `payment_method`\n",
        "  4. `discount` (if the key doesn't exist, 0 can be assumed)\n",
        "* Remove the key `shipping method` using the pop() method\n",
        "* What is the average amount that customers spent on their orders?\n",
        "* How many people paid using mastercard?"
      ]
    },
    {
      "cell_type": "code",
      "execution_count": null,
      "metadata": {},
      "outputs": [],
      "source": []
    },
    {
      "cell_type": "markdown",
      "metadata": {
        "id": "rEgrlrJtyqMc"
      },
      "source": [
        "# Additional exercises week 4\n",
        "\n",
        "## Exercise 1\n",
        "\n",
        "### Task 1: Importing and Preparing Data\n",
        "\n",
        "Import the following CSV files into separate DataFrames:\n",
        "* `customers.csv`, which contains information about customers.\n",
        "* `orders.csv`, which contains order information.\n",
        "\n",
        "Inspect the data in each DataFrame to ensure that the data has been imported correctly and that the data types are appropriate. Explore the datasets and think of what information might be relevant.\n",
        "\n",
        "1. Merge the two DataFrames using the merge() method, joining on the customer ID column. Save the merged DataFrame as a new variable. Think of which merge is appropriate and in which kind of missing data it might result.\n",
        "\n",
        "2. Inspect the merged DataFrame to ensure that the data has been merged correctly.\n",
        "\n",
        "3. Replace the \\n in the address information by comma's.\n",
        "\n",
        "### Task 2: Analyzing the Merged Data\n",
        "\n",
        "Answer the following questions:\n",
        "\n",
        "1. Which customer(s) ordered the most products? Who spend the most?\n",
        "2. Are there customers in the \"customers.csv\" dataframe who didn't order anything?\n",
        "3. What was the mean amount spend? And the median?\n",
        "4. What was the most popular product? What was the most popular brand?\n",
        "\n",
        "### Task 3: DataFrame Manipulations\n",
        "1. Sort the DataFrame by total order amount in descending order.\n",
        "2. Create a new DataFrame that groups the merged data by customer and calculates the total order amount for each customer. Create a bar chart that visualizes the total order amount for the top 10 customers.\n"
      ]
    },
    {
      "cell_type": "code",
      "execution_count": null,
      "metadata": {},
      "outputs": [],
      "source": []
    }
  ],
  "metadata": {
    "colab": {
      "provenance": []
    },
    "interpreter": {
      "hash": "aee8b7b246df8f9039afb4144a1f6fd8d2ca17a180786b69acc140d282b71a49"
    },
    "kernelspec": {
      "display_name": "Python 3.9.1 64-bit",
      "language": "python",
      "name": "python3"
    },
    "language_info": {
      "codemirror_mode": {
        "name": "ipython",
        "version": 3
      },
      "file_extension": ".py",
      "mimetype": "text/x-python",
      "name": "python",
      "nbconvert_exporter": "python",
      "pygments_lexer": "ipython3",
      "version": "3.9.1"
    }
  },
  "nbformat": 4,
  "nbformat_minor": 0
}
